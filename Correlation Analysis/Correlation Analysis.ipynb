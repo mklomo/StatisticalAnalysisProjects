{
 "cells": [
  {
   "cell_type": "markdown",
   "id": "77e50edf-a8b7-44bc-85d5-ebd31be0613e",
   "metadata": {},
   "source": [
    "# BigMart Project: Data Exploration and Planning Questions"
   ]
  },
  {
   "cell_type": "markdown",
   "id": "b582df4c-14b6-4f2d-b263-10673b48a1a1",
   "metadata": {},
   "source": [
    "## Carry out and present the results of your previously planned data exploration."
   ]
  },
  {
   "cell_type": "code",
   "execution_count": 1,
   "id": "7466c431-c288-4fdb-8b93-3d9afda57f93",
   "metadata": {},
   "outputs": [
    {
     "name": "stderr",
     "output_type": "stream",
     "text": [
      "Warning message:\n",
      "\"package 'tidyverse' was built under R version 4.3.2\"\n",
      "Warning message:\n",
      "\"package 'ggplot2' was built under R version 4.3.2\"\n",
      "── \u001b[1mAttaching core tidyverse packages\u001b[22m ──────────────────────────────────────────────────────────────── tidyverse 2.0.0 ──\n",
      "\u001b[32m✔\u001b[39m \u001b[34mdplyr    \u001b[39m 1.1.2     \u001b[32m✔\u001b[39m \u001b[34mreadr    \u001b[39m 2.1.4\n",
      "\u001b[32m✔\u001b[39m \u001b[34mforcats  \u001b[39m 1.0.0     \u001b[32m✔\u001b[39m \u001b[34mstringr  \u001b[39m 1.5.0\n",
      "\u001b[32m✔\u001b[39m \u001b[34mggplot2  \u001b[39m 3.4.4     \u001b[32m✔\u001b[39m \u001b[34mtibble   \u001b[39m 3.2.1\n",
      "\u001b[32m✔\u001b[39m \u001b[34mlubridate\u001b[39m 1.9.2     \u001b[32m✔\u001b[39m \u001b[34mtidyr    \u001b[39m 1.3.0\n",
      "\u001b[32m✔\u001b[39m \u001b[34mpurrr    \u001b[39m 1.0.2     \n",
      "── \u001b[1mConflicts\u001b[22m ────────────────────────────────────────────────────────────────────────────────── tidyverse_conflicts() ──\n",
      "\u001b[31m✖\u001b[39m \u001b[34mdplyr\u001b[39m::\u001b[32mfilter()\u001b[39m masks \u001b[34mstats\u001b[39m::filter()\n",
      "\u001b[31m✖\u001b[39m \u001b[34mdplyr\u001b[39m::\u001b[32mlag()\u001b[39m    masks \u001b[34mstats\u001b[39m::lag()\n",
      "\u001b[36mℹ\u001b[39m Use the conflicted package (\u001b[3m\u001b[34m<http://conflicted.r-lib.org/>\u001b[39m\u001b[23m) to force all conflicts to become errors\n",
      "Warning message:\n",
      "\"package 'RcppRoll' was built under R version 4.3.2\"\n",
      "── \u001b[1mAttaching packages\u001b[22m ────────────────────────────────────────────────────────────────────────────── tidymodels 1.1.0 ──\n",
      "\n",
      "\u001b[32m✔\u001b[39m \u001b[34mbroom       \u001b[39m 1.0.5     \u001b[32m✔\u001b[39m \u001b[34mrsample     \u001b[39m 1.1.1\n",
      "\u001b[32m✔\u001b[39m \u001b[34mdials       \u001b[39m 1.2.0     \u001b[32m✔\u001b[39m \u001b[34mtune        \u001b[39m 1.1.1\n",
      "\u001b[32m✔\u001b[39m \u001b[34minfer       \u001b[39m 1.0.4     \u001b[32m✔\u001b[39m \u001b[34mworkflows   \u001b[39m 1.1.3\n",
      "\u001b[32m✔\u001b[39m \u001b[34mmodeldata   \u001b[39m 1.2.0     \u001b[32m✔\u001b[39m \u001b[34mworkflowsets\u001b[39m 1.0.1\n",
      "\u001b[32m✔\u001b[39m \u001b[34mparsnip     \u001b[39m 1.1.0     \u001b[32m✔\u001b[39m \u001b[34myardstick   \u001b[39m 1.2.0\n",
      "\u001b[32m✔\u001b[39m \u001b[34mrecipes     \u001b[39m 1.0.7     \n",
      "\n",
      "── \u001b[1mConflicts\u001b[22m ───────────────────────────────────────────────────────────────────────────────── tidymodels_conflicts() ──\n",
      "\u001b[31m✖\u001b[39m \u001b[34mscales\u001b[39m::\u001b[32mdiscard()\u001b[39m masks \u001b[34mpurrr\u001b[39m::discard()\n",
      "\u001b[31m✖\u001b[39m \u001b[34mdplyr\u001b[39m::\u001b[32mfilter()\u001b[39m   masks \u001b[34mstats\u001b[39m::filter()\n",
      "\u001b[31m✖\u001b[39m \u001b[34mrecipes\u001b[39m::\u001b[32mfixed()\u001b[39m  masks \u001b[34mstringr\u001b[39m::fixed()\n",
      "\u001b[31m✖\u001b[39m \u001b[34mdplyr\u001b[39m::\u001b[32mlag()\u001b[39m      masks \u001b[34mstats\u001b[39m::lag()\n",
      "\u001b[31m✖\u001b[39m \u001b[34myardstick\u001b[39m::\u001b[32mspec()\u001b[39m masks \u001b[34mreadr\u001b[39m::spec()\n",
      "\u001b[31m✖\u001b[39m \u001b[34mrecipes\u001b[39m::\u001b[32mstep()\u001b[39m   masks \u001b[34mstats\u001b[39m::step()\n",
      "\u001b[34m•\u001b[39m Dig deeper into tidy modeling with R at \u001b[32mhttps://www.tmwr.org\u001b[39m\n",
      "\n"
     ]
    }
   ],
   "source": [
    "library(tidyverse)\n",
    "library(skimr)\n",
    "library(RColorBrewer)\n",
    "library(RcppRoll)\n",
    "library(tidymodels)"
   ]
  },
  {
   "cell_type": "code",
   "execution_count": 2,
   "id": "92f12a3f-b1a5-4cb3-800e-3929e084956a",
   "metadata": {},
   "outputs": [
    {
     "name": "stderr",
     "output_type": "stream",
     "text": [
      "\u001b[1mRows: \u001b[22m\u001b[34m8523\u001b[39m \u001b[1mColumns: \u001b[22m\u001b[34m12\u001b[39m\n",
      "\u001b[36m──\u001b[39m \u001b[1mColumn specification\u001b[22m \u001b[36m────────────────────────────────────────────────────────────────────────────────────────────────\u001b[39m\n",
      "\u001b[1mDelimiter:\u001b[22m \",\"\n",
      "\u001b[31mchr\u001b[39m (7): Item_Identifier, Item_Fat_Content, Item_Type, Outlet_Identifier, Ou...\n",
      "\u001b[32mdbl\u001b[39m (5): Item_Weight, Item_Visibility, Item_MRP, Outlet_Establishment_Year, ...\n",
      "\n",
      "\u001b[36mℹ\u001b[39m Use `spec()` to retrieve the full column specification for this data.\n",
      "\u001b[36mℹ\u001b[39m Specify the column types or set `show_col_types = FALSE` to quiet this message.\n"
     ]
    },
    {
     "data": {
      "text/html": [
       "<table class=\"dataframe\">\n",
       "<caption>A tibble: 6 × 12</caption>\n",
       "<thead>\n",
       "\t<tr><th scope=col>Item_Identifier</th><th scope=col>Item_Weight</th><th scope=col>Item_Fat_Content</th><th scope=col>Item_Visibility</th><th scope=col>Item_Type</th><th scope=col>Item_MRP</th><th scope=col>Outlet_Identifier</th><th scope=col>Outlet_Establishment_Year</th><th scope=col>Outlet_Size</th><th scope=col>Outlet_Location_Type</th><th scope=col>Outlet_Type</th><th scope=col>Item_Outlet_Sales</th></tr>\n",
       "\t<tr><th scope=col>&lt;chr&gt;</th><th scope=col>&lt;dbl&gt;</th><th scope=col>&lt;chr&gt;</th><th scope=col>&lt;dbl&gt;</th><th scope=col>&lt;chr&gt;</th><th scope=col>&lt;dbl&gt;</th><th scope=col>&lt;chr&gt;</th><th scope=col>&lt;dbl&gt;</th><th scope=col>&lt;chr&gt;</th><th scope=col>&lt;chr&gt;</th><th scope=col>&lt;chr&gt;</th><th scope=col>&lt;dbl&gt;</th></tr>\n",
       "</thead>\n",
       "<tbody>\n",
       "\t<tr><td>FDA15</td><td> 9.300</td><td>Low Fat</td><td>0.01604730</td><td>Dairy                </td><td>249.8092</td><td>OUT049</td><td>1999</td><td>Medium</td><td>Tier 1</td><td>Supermarket Type1</td><td>3735.1380</td></tr>\n",
       "\t<tr><td>DRC01</td><td> 5.920</td><td>Regular</td><td>0.01927822</td><td>Soft Drinks          </td><td> 48.2692</td><td>OUT018</td><td>2009</td><td>Medium</td><td>Tier 3</td><td>Supermarket Type2</td><td> 443.4228</td></tr>\n",
       "\t<tr><td>FDN15</td><td>17.500</td><td>Low Fat</td><td>0.01676007</td><td>Meat                 </td><td>141.6180</td><td>OUT049</td><td>1999</td><td>Medium</td><td>Tier 1</td><td>Supermarket Type1</td><td>2097.2700</td></tr>\n",
       "\t<tr><td>FDX07</td><td>19.200</td><td>Regular</td><td>0.00000000</td><td>Fruits and Vegetables</td><td>182.0950</td><td>OUT010</td><td>1998</td><td>NA    </td><td>Tier 3</td><td>Grocery Store    </td><td> 732.3800</td></tr>\n",
       "\t<tr><td>NCD19</td><td> 8.930</td><td>Low Fat</td><td>0.00000000</td><td>Household            </td><td> 53.8614</td><td>OUT013</td><td>1987</td><td>High  </td><td>Tier 3</td><td>Supermarket Type1</td><td> 994.7052</td></tr>\n",
       "\t<tr><td>FDP36</td><td>10.395</td><td>Regular</td><td>0.00000000</td><td>Baking Goods         </td><td> 51.4008</td><td>OUT018</td><td>2009</td><td>Medium</td><td>Tier 3</td><td>Supermarket Type2</td><td> 556.6088</td></tr>\n",
       "</tbody>\n",
       "</table>\n"
      ],
      "text/latex": [
       "A tibble: 6 × 12\n",
       "\\begin{tabular}{llllllllllll}\n",
       " Item\\_Identifier & Item\\_Weight & Item\\_Fat\\_Content & Item\\_Visibility & Item\\_Type & Item\\_MRP & Outlet\\_Identifier & Outlet\\_Establishment\\_Year & Outlet\\_Size & Outlet\\_Location\\_Type & Outlet\\_Type & Item\\_Outlet\\_Sales\\\\\n",
       " <chr> & <dbl> & <chr> & <dbl> & <chr> & <dbl> & <chr> & <dbl> & <chr> & <chr> & <chr> & <dbl>\\\\\n",
       "\\hline\n",
       "\t FDA15 &  9.300 & Low Fat & 0.01604730 & Dairy                 & 249.8092 & OUT049 & 1999 & Medium & Tier 1 & Supermarket Type1 & 3735.1380\\\\\n",
       "\t DRC01 &  5.920 & Regular & 0.01927822 & Soft Drinks           &  48.2692 & OUT018 & 2009 & Medium & Tier 3 & Supermarket Type2 &  443.4228\\\\\n",
       "\t FDN15 & 17.500 & Low Fat & 0.01676007 & Meat                  & 141.6180 & OUT049 & 1999 & Medium & Tier 1 & Supermarket Type1 & 2097.2700\\\\\n",
       "\t FDX07 & 19.200 & Regular & 0.00000000 & Fruits and Vegetables & 182.0950 & OUT010 & 1998 & NA     & Tier 3 & Grocery Store     &  732.3800\\\\\n",
       "\t NCD19 &  8.930 & Low Fat & 0.00000000 & Household             &  53.8614 & OUT013 & 1987 & High   & Tier 3 & Supermarket Type1 &  994.7052\\\\\n",
       "\t FDP36 & 10.395 & Regular & 0.00000000 & Baking Goods          &  51.4008 & OUT018 & 2009 & Medium & Tier 3 & Supermarket Type2 &  556.6088\\\\\n",
       "\\end{tabular}\n"
      ],
      "text/markdown": [
       "\n",
       "A tibble: 6 × 12\n",
       "\n",
       "| Item_Identifier &lt;chr&gt; | Item_Weight &lt;dbl&gt; | Item_Fat_Content &lt;chr&gt; | Item_Visibility &lt;dbl&gt; | Item_Type &lt;chr&gt; | Item_MRP &lt;dbl&gt; | Outlet_Identifier &lt;chr&gt; | Outlet_Establishment_Year &lt;dbl&gt; | Outlet_Size &lt;chr&gt; | Outlet_Location_Type &lt;chr&gt; | Outlet_Type &lt;chr&gt; | Item_Outlet_Sales &lt;dbl&gt; |\n",
       "|---|---|---|---|---|---|---|---|---|---|---|---|\n",
       "| FDA15 |  9.300 | Low Fat | 0.01604730 | Dairy                 | 249.8092 | OUT049 | 1999 | Medium | Tier 1 | Supermarket Type1 | 3735.1380 |\n",
       "| DRC01 |  5.920 | Regular | 0.01927822 | Soft Drinks           |  48.2692 | OUT018 | 2009 | Medium | Tier 3 | Supermarket Type2 |  443.4228 |\n",
       "| FDN15 | 17.500 | Low Fat | 0.01676007 | Meat                  | 141.6180 | OUT049 | 1999 | Medium | Tier 1 | Supermarket Type1 | 2097.2700 |\n",
       "| FDX07 | 19.200 | Regular | 0.00000000 | Fruits and Vegetables | 182.0950 | OUT010 | 1998 | NA     | Tier 3 | Grocery Store     |  732.3800 |\n",
       "| NCD19 |  8.930 | Low Fat | 0.00000000 | Household             |  53.8614 | OUT013 | 1987 | High   | Tier 3 | Supermarket Type1 |  994.7052 |\n",
       "| FDP36 | 10.395 | Regular | 0.00000000 | Baking Goods          |  51.4008 | OUT018 | 2009 | Medium | Tier 3 | Supermarket Type2 |  556.6088 |\n",
       "\n"
      ],
      "text/plain": [
       "  Item_Identifier Item_Weight Item_Fat_Content Item_Visibility\n",
       "1 FDA15            9.300      Low Fat          0.01604730     \n",
       "2 DRC01            5.920      Regular          0.01927822     \n",
       "3 FDN15           17.500      Low Fat          0.01676007     \n",
       "4 FDX07           19.200      Regular          0.00000000     \n",
       "5 NCD19            8.930      Low Fat          0.00000000     \n",
       "6 FDP36           10.395      Regular          0.00000000     \n",
       "  Item_Type             Item_MRP Outlet_Identifier Outlet_Establishment_Year\n",
       "1 Dairy                 249.8092 OUT049            1999                     \n",
       "2 Soft Drinks            48.2692 OUT018            2009                     \n",
       "3 Meat                  141.6180 OUT049            1999                     \n",
       "4 Fruits and Vegetables 182.0950 OUT010            1998                     \n",
       "5 Household              53.8614 OUT013            1987                     \n",
       "6 Baking Goods           51.4008 OUT018            2009                     \n",
       "  Outlet_Size Outlet_Location_Type Outlet_Type       Item_Outlet_Sales\n",
       "1 Medium      Tier 1               Supermarket Type1 3735.1380        \n",
       "2 Medium      Tier 3               Supermarket Type2  443.4228        \n",
       "3 Medium      Tier 1               Supermarket Type1 2097.2700        \n",
       "4 NA          Tier 3               Grocery Store      732.3800        \n",
       "5 High        Tier 3               Supermarket Type1  994.7052        \n",
       "6 Medium      Tier 3               Supermarket Type2  556.6088        "
      ]
     },
     "metadata": {},
     "output_type": "display_data"
    }
   ],
   "source": [
    "# Loading the data\n",
    "df_url = \"data/BigMart data.csv\"\n",
    "\n",
    "\n",
    "df = read_csv(df_url)\n",
    "\n",
    "\n",
    "# Preview the data\n",
    "head(df)"
   ]
  },
  {
   "cell_type": "markdown",
   "id": "68f477d9-4bad-4910-ba7e-3d09b61f1ae5",
   "metadata": {},
   "source": [
    "#### Step 1: Checking for duplicates"
   ]
  },
  {
   "cell_type": "code",
   "execution_count": 3,
   "id": "209b0a8b-6c62-485c-b46f-b7568f2f3cca",
   "metadata": {},
   "outputs": [
    {
     "name": "stdout",
     "output_type": "stream",
     "text": [
      "Rows: 8,523\n",
      "Columns: 12\n",
      "$ Item_Identifier           \u001b[3m\u001b[90m<chr>\u001b[39m\u001b[23m \"FDA15\", \"DRC01\", \"FDN15\", \"FDX07\", \"NCD19\",…\n",
      "$ Item_Weight               \u001b[3m\u001b[90m<dbl>\u001b[39m\u001b[23m 9.300, 5.920, 17.500, 19.200, 8.930, 10.395,…\n",
      "$ Item_Fat_Content          \u001b[3m\u001b[90m<chr>\u001b[39m\u001b[23m \"Low Fat\", \"Regular\", \"Low Fat\", \"Regular\", …\n",
      "$ Item_Visibility           \u001b[3m\u001b[90m<dbl>\u001b[39m\u001b[23m 0.016047301, 0.019278216, 0.016760075, 0.000…\n",
      "$ Item_Type                 \u001b[3m\u001b[90m<chr>\u001b[39m\u001b[23m \"Dairy\", \"Soft Drinks\", \"Meat\", \"Fruits and …\n",
      "$ Item_MRP                  \u001b[3m\u001b[90m<dbl>\u001b[39m\u001b[23m 249.8092, 48.2692, 141.6180, 182.0950, 53.86…\n",
      "$ Outlet_Identifier         \u001b[3m\u001b[90m<chr>\u001b[39m\u001b[23m \"OUT049\", \"OUT018\", \"OUT049\", \"OUT010\", \"OUT…\n",
      "$ Outlet_Establishment_Year \u001b[3m\u001b[90m<dbl>\u001b[39m\u001b[23m 1999, 2009, 1999, 1998, 1987, 2009, 1987, 19…\n",
      "$ Outlet_Size               \u001b[3m\u001b[90m<chr>\u001b[39m\u001b[23m \"Medium\", \"Medium\", \"Medium\", NA, \"High\", \"M…\n",
      "$ Outlet_Location_Type      \u001b[3m\u001b[90m<chr>\u001b[39m\u001b[23m \"Tier 1\", \"Tier 3\", \"Tier 1\", \"Tier 3\", \"Tie…\n",
      "$ Outlet_Type               \u001b[3m\u001b[90m<chr>\u001b[39m\u001b[23m \"Supermarket Type1\", \"Supermarket Type2\", \"S…\n",
      "$ Item_Outlet_Sales         \u001b[3m\u001b[90m<dbl>\u001b[39m\u001b[23m 3735.1380, 443.4228, 2097.2700, 732.3800, 99…\n"
     ]
    }
   ],
   "source": [
    "# Previewing the unique records in the dataset\n",
    "glimpse(distinct(df))"
   ]
  },
  {
   "cell_type": "markdown",
   "id": "9c261583-1946-4a71-b4d0-af93240c822d",
   "metadata": {},
   "source": [
    "> From the above there are no duplicate records in the dataset. The dataset contains 8523 unique records."
   ]
  },
  {
   "cell_type": "markdown",
   "id": "55fcfed4-5f39-413c-9660-f6f4e6a9a290",
   "metadata": {},
   "source": [
    "### Checking for Missing Values"
   ]
  },
  {
   "cell_type": "code",
   "execution_count": 4,
   "id": "eb37b912-2adb-4eb8-a4ba-22932d978715",
   "metadata": {},
   "outputs": [
    {
     "data": {
      "text/plain": [
       " Item_Identifier     Item_Weight     Item_Fat_Content   Item_Visibility  \n",
       " Length:8523        Min.   : 4.555   Length:8523        Min.   :0.00000  \n",
       " Class :character   1st Qu.: 8.774   Class :character   1st Qu.:0.02699  \n",
       " Mode  :character   Median :12.600   Mode  :character   Median :0.05393  \n",
       "                    Mean   :12.858                      Mean   :0.06613  \n",
       "                    3rd Qu.:16.850                      3rd Qu.:0.09459  \n",
       "                    Max.   :21.350                      Max.   :0.32839  \n",
       "                    NA's   :1463                                         \n",
       "  Item_Type            Item_MRP      Outlet_Identifier \n",
       " Length:8523        Min.   : 31.29   Length:8523       \n",
       " Class :character   1st Qu.: 93.83   Class :character  \n",
       " Mode  :character   Median :143.01   Mode  :character  \n",
       "                    Mean   :140.99                     \n",
       "                    3rd Qu.:185.64                     \n",
       "                    Max.   :266.89                     \n",
       "                                                       \n",
       " Outlet_Establishment_Year Outlet_Size        Outlet_Location_Type\n",
       " Min.   :1985              Length:8523        Length:8523         \n",
       " 1st Qu.:1987              Class :character   Class :character    \n",
       " Median :1999              Mode  :character   Mode  :character    \n",
       " Mean   :1998                                                     \n",
       " 3rd Qu.:2004                                                     \n",
       " Max.   :2009                                                     \n",
       "                                                                  \n",
       " Outlet_Type        Item_Outlet_Sales \n",
       " Length:8523        Min.   :   33.29  \n",
       " Class :character   1st Qu.:  834.25  \n",
       " Mode  :character   Median : 1794.33  \n",
       "                    Mean   : 2181.29  \n",
       "                    3rd Qu.: 3101.30  \n",
       "                    Max.   :13086.97  \n",
       "                                      "
      ]
     },
     "metadata": {},
     "output_type": "display_data"
    }
   ],
   "source": [
    "summary(df)"
   ]
  },
  {
   "cell_type": "code",
   "execution_count": 5,
   "id": "1f0f532b-81cc-4a21-a821-c52226b5949d",
   "metadata": {},
   "outputs": [
    {
     "data": {
      "text/html": [
       "<style>\n",
       ".dl-inline {width: auto; margin:0; padding: 0}\n",
       ".dl-inline>dt, .dl-inline>dd {float: none; width: auto; display: inline-block}\n",
       ".dl-inline>dt::after {content: \":\\0020\"; padding-right: .5ex}\n",
       ".dl-inline>dt:not(:first-of-type) {padding-left: .5ex}\n",
       "</style><dl class=dl-inline><dt>Item_Identifier</dt><dd>0</dd><dt>Item_Weight</dt><dd>1463</dd><dt>Item_Fat_Content</dt><dd>0</dd><dt>Item_Visibility</dt><dd>0</dd><dt>Item_Type</dt><dd>0</dd><dt>Item_MRP</dt><dd>0</dd><dt>Outlet_Identifier</dt><dd>0</dd><dt>Outlet_Establishment_Year</dt><dd>0</dd><dt>Outlet_Size</dt><dd>2410</dd><dt>Outlet_Location_Type</dt><dd>0</dd><dt>Outlet_Type</dt><dd>0</dd><dt>Item_Outlet_Sales</dt><dd>0</dd></dl>\n"
      ],
      "text/latex": [
       "\\begin{description*}\n",
       "\\item[Item\\textbackslash{}\\_Identifier] 0\n",
       "\\item[Item\\textbackslash{}\\_Weight] 1463\n",
       "\\item[Item\\textbackslash{}\\_Fat\\textbackslash{}\\_Content] 0\n",
       "\\item[Item\\textbackslash{}\\_Visibility] 0\n",
       "\\item[Item\\textbackslash{}\\_Type] 0\n",
       "\\item[Item\\textbackslash{}\\_MRP] 0\n",
       "\\item[Outlet\\textbackslash{}\\_Identifier] 0\n",
       "\\item[Outlet\\textbackslash{}\\_Establishment\\textbackslash{}\\_Year] 0\n",
       "\\item[Outlet\\textbackslash{}\\_Size] 2410\n",
       "\\item[Outlet\\textbackslash{}\\_Location\\textbackslash{}\\_Type] 0\n",
       "\\item[Outlet\\textbackslash{}\\_Type] 0\n",
       "\\item[Item\\textbackslash{}\\_Outlet\\textbackslash{}\\_Sales] 0\n",
       "\\end{description*}\n"
      ],
      "text/markdown": [
       "Item_Identifier\n",
       ":   0Item_Weight\n",
       ":   1463Item_Fat_Content\n",
       ":   0Item_Visibility\n",
       ":   0Item_Type\n",
       ":   0Item_MRP\n",
       ":   0Outlet_Identifier\n",
       ":   0Outlet_Establishment_Year\n",
       ":   0Outlet_Size\n",
       ":   2410Outlet_Location_Type\n",
       ":   0Outlet_Type\n",
       ":   0Item_Outlet_Sales\n",
       ":   0\n",
       "\n"
      ],
      "text/plain": [
       "          Item_Identifier               Item_Weight          Item_Fat_Content \n",
       "                        0                      1463                         0 \n",
       "          Item_Visibility                 Item_Type                  Item_MRP \n",
       "                        0                         0                         0 \n",
       "        Outlet_Identifier Outlet_Establishment_Year               Outlet_Size \n",
       "                        0                         0                      2410 \n",
       "     Outlet_Location_Type               Outlet_Type         Item_Outlet_Sales \n",
       "                        0                         0                         0 "
      ]
     },
     "metadata": {},
     "output_type": "display_data"
    }
   ],
   "source": [
    "# How many records are missing?\n",
    "colSums(is.na(df))"
   ]
  },
  {
   "cell_type": "markdown",
   "id": "9b09a2e9-b06b-4bdb-b398-359d54b7a95b",
   "metadata": {},
   "source": [
    "> From the above there are **1463** values missing from the **Item_Weight** field and **2410** values missing from the **Outlet_Size** field"
   ]
  },
  {
   "cell_type": "code",
   "execution_count": 6,
   "id": "6d0f9e30-99e7-4215-a2b4-7ea9f682cf0f",
   "metadata": {},
   "outputs": [
    {
     "data": {
      "text/html": [
       "<table class=\"dataframe\">\n",
       "<caption>A tibble: 10 × 3</caption>\n",
       "<thead>\n",
       "\t<tr><th scope=col>Outlet_Establishment_Year</th><th scope=col>Outlet_Identifier</th><th scope=col>null_count</th></tr>\n",
       "\t<tr><th scope=col>&lt;dbl&gt;</th><th scope=col>&lt;chr&gt;</th><th scope=col>&lt;int&gt;</th></tr>\n",
       "</thead>\n",
       "<tbody>\n",
       "\t<tr><td>1985</td><td>OUT027</td><td>935</td></tr>\n",
       "\t<tr><td>1985</td><td>OUT019</td><td>528</td></tr>\n",
       "\t<tr><td>1987</td><td>OUT013</td><td>  0</td></tr>\n",
       "\t<tr><td>1997</td><td>OUT046</td><td>  0</td></tr>\n",
       "\t<tr><td>1998</td><td>OUT010</td><td>  0</td></tr>\n",
       "\t<tr><td>1999</td><td>OUT049</td><td>  0</td></tr>\n",
       "\t<tr><td>2002</td><td>OUT045</td><td>  0</td></tr>\n",
       "\t<tr><td>2004</td><td>OUT035</td><td>  0</td></tr>\n",
       "\t<tr><td>2007</td><td>OUT017</td><td>  0</td></tr>\n",
       "\t<tr><td>2009</td><td>OUT018</td><td>  0</td></tr>\n",
       "</tbody>\n",
       "</table>\n"
      ],
      "text/latex": [
       "A tibble: 10 × 3\n",
       "\\begin{tabular}{lll}\n",
       " Outlet\\_Establishment\\_Year & Outlet\\_Identifier & null\\_count\\\\\n",
       " <dbl> & <chr> & <int>\\\\\n",
       "\\hline\n",
       "\t 1985 & OUT027 & 935\\\\\n",
       "\t 1985 & OUT019 & 528\\\\\n",
       "\t 1987 & OUT013 &   0\\\\\n",
       "\t 1997 & OUT046 &   0\\\\\n",
       "\t 1998 & OUT010 &   0\\\\\n",
       "\t 1999 & OUT049 &   0\\\\\n",
       "\t 2002 & OUT045 &   0\\\\\n",
       "\t 2004 & OUT035 &   0\\\\\n",
       "\t 2007 & OUT017 &   0\\\\\n",
       "\t 2009 & OUT018 &   0\\\\\n",
       "\\end{tabular}\n"
      ],
      "text/markdown": [
       "\n",
       "A tibble: 10 × 3\n",
       "\n",
       "| Outlet_Establishment_Year &lt;dbl&gt; | Outlet_Identifier &lt;chr&gt; | null_count &lt;int&gt; |\n",
       "|---|---|---|\n",
       "| 1985 | OUT027 | 935 |\n",
       "| 1985 | OUT019 | 528 |\n",
       "| 1987 | OUT013 |   0 |\n",
       "| 1997 | OUT046 |   0 |\n",
       "| 1998 | OUT010 |   0 |\n",
       "| 1999 | OUT049 |   0 |\n",
       "| 2002 | OUT045 |   0 |\n",
       "| 2004 | OUT035 |   0 |\n",
       "| 2007 | OUT017 |   0 |\n",
       "| 2009 | OUT018 |   0 |\n",
       "\n"
      ],
      "text/plain": [
       "   Outlet_Establishment_Year Outlet_Identifier null_count\n",
       "1  1985                      OUT027            935       \n",
       "2  1985                      OUT019            528       \n",
       "3  1987                      OUT013              0       \n",
       "4  1997                      OUT046              0       \n",
       "5  1998                      OUT010              0       \n",
       "6  1999                      OUT049              0       \n",
       "7  2002                      OUT045              0       \n",
       "8  2004                      OUT035              0       \n",
       "9  2007                      OUT017              0       \n",
       "10 2009                      OUT018              0       "
      ]
     },
     "metadata": {},
     "output_type": "display_data"
    }
   ],
   "source": [
    "# Looks like outlet location gives us a good signal for outlet size\n",
    "df |>\n",
    "    summarise(.by=c(Outlet_Establishment_Year, Outlet_Identifier, ), null_count= sum(is.na(Item_Weight)) ) |>\n",
    "    arrange(Outlet_Establishment_Year)"
   ]
  },
  {
   "cell_type": "code",
   "execution_count": 7,
   "id": "f3d595d8-6542-4717-8405-dd64e5d88ed4",
   "metadata": {},
   "outputs": [
    {
     "data": {
      "text/html": [
       "<table class=\"dataframe\">\n",
       "<caption>A spec_tbl_df: 2 × 12</caption>\n",
       "<thead>\n",
       "\t<tr><th scope=col>Item_Identifier</th><th scope=col>Item_Weight</th><th scope=col>Item_Fat_Content</th><th scope=col>Item_Visibility</th><th scope=col>Item_Type</th><th scope=col>Item_MRP</th><th scope=col>Outlet_Identifier</th><th scope=col>Outlet_Establishment_Year</th><th scope=col>Outlet_Size</th><th scope=col>Outlet_Location_Type</th><th scope=col>Outlet_Type</th><th scope=col>Item_Outlet_Sales</th></tr>\n",
       "\t<tr><th scope=col>&lt;chr&gt;</th><th scope=col>&lt;dbl&gt;</th><th scope=col>&lt;chr&gt;</th><th scope=col>&lt;dbl&gt;</th><th scope=col>&lt;chr&gt;</th><th scope=col>&lt;dbl&gt;</th><th scope=col>&lt;chr&gt;</th><th scope=col>&lt;dbl&gt;</th><th scope=col>&lt;chr&gt;</th><th scope=col>&lt;chr&gt;</th><th scope=col>&lt;chr&gt;</th><th scope=col>&lt;dbl&gt;</th></tr>\n",
       "</thead>\n",
       "<tbody>\n",
       "\t<tr><td>FDS13</td><td> 6.465</td><td>Low Fat</td><td>0.1252104</td><td>Canned</td><td>266.8884</td><td>OUT017</td><td>2007</td><td>NA   </td><td>Tier 2</td><td>Supermarket Type1</td><td>1059.954</td></tr>\n",
       "\t<tr><td>FDR25</td><td>17.000</td><td>Regular</td><td>0.1395219</td><td>Canned</td><td>266.8884</td><td>OUT046</td><td>1997</td><td>Small</td><td>Tier 1</td><td>Supermarket Type1</td><td>5034.780</td></tr>\n",
       "</tbody>\n",
       "</table>\n"
      ],
      "text/latex": [
       "A spec\\_tbl\\_df: 2 × 12\n",
       "\\begin{tabular}{llllllllllll}\n",
       " Item\\_Identifier & Item\\_Weight & Item\\_Fat\\_Content & Item\\_Visibility & Item\\_Type & Item\\_MRP & Outlet\\_Identifier & Outlet\\_Establishment\\_Year & Outlet\\_Size & Outlet\\_Location\\_Type & Outlet\\_Type & Item\\_Outlet\\_Sales\\\\\n",
       " <chr> & <dbl> & <chr> & <dbl> & <chr> & <dbl> & <chr> & <dbl> & <chr> & <chr> & <chr> & <dbl>\\\\\n",
       "\\hline\n",
       "\t FDS13 &  6.465 & Low Fat & 0.1252104 & Canned & 266.8884 & OUT017 & 2007 & NA    & Tier 2 & Supermarket Type1 & 1059.954\\\\\n",
       "\t FDR25 & 17.000 & Regular & 0.1395219 & Canned & 266.8884 & OUT046 & 1997 & Small & Tier 1 & Supermarket Type1 & 5034.780\\\\\n",
       "\\end{tabular}\n"
      ],
      "text/markdown": [
       "\n",
       "A spec_tbl_df: 2 × 12\n",
       "\n",
       "| Item_Identifier &lt;chr&gt; | Item_Weight &lt;dbl&gt; | Item_Fat_Content &lt;chr&gt; | Item_Visibility &lt;dbl&gt; | Item_Type &lt;chr&gt; | Item_MRP &lt;dbl&gt; | Outlet_Identifier &lt;chr&gt; | Outlet_Establishment_Year &lt;dbl&gt; | Outlet_Size &lt;chr&gt; | Outlet_Location_Type &lt;chr&gt; | Outlet_Type &lt;chr&gt; | Item_Outlet_Sales &lt;dbl&gt; |\n",
       "|---|---|---|---|---|---|---|---|---|---|---|---|\n",
       "| FDS13 |  6.465 | Low Fat | 0.1252104 | Canned | 266.8884 | OUT017 | 2007 | NA    | Tier 2 | Supermarket Type1 | 1059.954 |\n",
       "| FDR25 | 17.000 | Regular | 0.1395219 | Canned | 266.8884 | OUT046 | 1997 | Small | Tier 1 | Supermarket Type1 | 5034.780 |\n",
       "\n"
      ],
      "text/plain": [
       "  Item_Identifier Item_Weight Item_Fat_Content Item_Visibility Item_Type\n",
       "1 FDS13            6.465      Low Fat          0.1252104       Canned   \n",
       "2 FDR25           17.000      Regular          0.1395219       Canned   \n",
       "  Item_MRP Outlet_Identifier Outlet_Establishment_Year Outlet_Size\n",
       "1 266.8884 OUT017            2007                      NA         \n",
       "2 266.8884 OUT046            1997                      Small      \n",
       "  Outlet_Location_Type Outlet_Type       Item_Outlet_Sales\n",
       "1 Tier 2               Supermarket Type1 1059.954         \n",
       "2 Tier 1               Supermarket Type1 5034.780         "
      ]
     },
     "metadata": {},
     "output_type": "display_data"
    }
   ],
   "source": [
    "# Looks like outlet location gives us a good signal for outlet size\n",
    "df |>\n",
    "    filter(Item_MRP >= 266.8)"
   ]
  },
  {
   "cell_type": "code",
   "execution_count": 8,
   "id": "ae5d4119-648f-4db6-910e-a239c5310b05",
   "metadata": {},
   "outputs": [
    {
     "data": {
      "text/html": [
       "<table class=\"dataframe\">\n",
       "<caption>A tibble: 10 × 14</caption>\n",
       "<thead>\n",
       "\t<tr><th scope=col>Item_Identifier</th><th scope=col>Item_Weight</th><th scope=col>Item_Fat_Content</th><th scope=col>Item_Visibility</th><th scope=col>Item_Type</th><th scope=col>Item_MRP</th><th scope=col>Outlet_Identifier</th><th scope=col>Outlet_Establishment_Year</th><th scope=col>Outlet_Size</th><th scope=col>Outlet_Location_Type</th><th scope=col>Outlet_Type</th><th scope=col>Item_Outlet_Sales</th><th scope=col>sales_contribution</th><th scope=col>rolling_sum</th></tr>\n",
       "\t<tr><th scope=col>&lt;chr&gt;</th><th scope=col>&lt;dbl&gt;</th><th scope=col>&lt;chr&gt;</th><th scope=col>&lt;dbl&gt;</th><th scope=col>&lt;chr&gt;</th><th scope=col>&lt;dbl&gt;</th><th scope=col>&lt;chr&gt;</th><th scope=col>&lt;dbl&gt;</th><th scope=col>&lt;chr&gt;</th><th scope=col>&lt;chr&gt;</th><th scope=col>&lt;chr&gt;</th><th scope=col>&lt;dbl&gt;</th><th scope=col>&lt;dbl&gt;</th><th scope=col>&lt;dbl&gt;</th></tr>\n",
       "</thead>\n",
       "<tbody>\n",
       "\t<tr><td>NCE42</td><td>    NA</td><td>Low Fat</td><td>0.01055095</td><td>Household            </td><td>234.9958</td><td>OUT027</td><td>1985</td><td>Medium</td><td>Tier 3</td><td>Supermarket Type3</td><td>13086.965</td><td>0.0007039361</td><td>0.0007039361</td></tr>\n",
       "\t<tr><td>FDQ19</td><td>    NA</td><td>Regular</td><td>0.01429556</td><td>Fruits and Vegetables</td><td>242.6512</td><td>OUT027</td><td>1985</td><td>Medium</td><td>Tier 3</td><td>Supermarket Type3</td><td>12117.560</td><td>0.0006517927</td><td>0.0013557288</td></tr>\n",
       "\t<tr><td>FDZ20</td><td>    NA</td><td>Low Fat</td><td>0.00000000</td><td>Fruits and Vegetables</td><td>253.0356</td><td>OUT027</td><td>1985</td><td>Medium</td><td>Tier 3</td><td>Supermarket Type3</td><td>11445.102</td><td>0.0006156218</td><td>0.0019713506</td></tr>\n",
       "\t<tr><td>FDP33</td><td>    NA</td><td>Low Fat</td><td>0.08883995</td><td>Snack Foods          </td><td>254.2672</td><td>OUT027</td><td>1985</td><td>Medium</td><td>Tier 3</td><td>Supermarket Type3</td><td>10993.690</td><td>0.0005913407</td><td>0.0025626914</td></tr>\n",
       "\t<tr><td>FDI50</td><td>    NA</td><td>Regular</td><td>0.03069331</td><td>Canned               </td><td>228.0352</td><td>OUT027</td><td>1985</td><td>Medium</td><td>Tier 3</td><td>Supermarket Type3</td><td>10306.584</td><td>0.0005543819</td><td>0.0031170733</td></tr>\n",
       "\t<tr><td>FDF39</td><td>14.850</td><td>Regular</td><td>0.01949505</td><td>Dairy                </td><td>261.2910</td><td>OUT013</td><td>1987</td><td>High  </td><td>Tier 3</td><td>Supermarket Type1</td><td>10256.649</td><td>0.0005516960</td><td>0.0036687693</td></tr>\n",
       "\t<tr><td>FDU14</td><td>    NA</td><td>Low Fat</td><td>0.03458436</td><td>Dairy                </td><td>248.3750</td><td>OUT027</td><td>1985</td><td>Medium</td><td>Tier 3</td><td>Supermarket Type3</td><td>10236.675</td><td>0.0005506216</td><td>0.0042193908</td></tr>\n",
       "\t<tr><td>NCH18</td><td>    NA</td><td>Low Fat</td><td>0.04444496</td><td>Household            </td><td>245.2802</td><td>OUT027</td><td>1985</td><td>Medium</td><td>Tier 3</td><td>Supermarket Type3</td><td>10072.888</td><td>0.0005418116</td><td>0.0047612025</td></tr>\n",
       "\t<tr><td>NCM05</td><td> 6.825</td><td>Low Fat</td><td>0.05984697</td><td>Health and Hygiene   </td><td>262.5226</td><td>OUT046</td><td>1997</td><td>Small </td><td>Tier 1</td><td>Supermarket Type1</td><td> 9779.936</td><td>0.0005260540</td><td>0.0052872565</td></tr>\n",
       "\t<tr><td>FDC17</td><td>    NA</td><td>Low Fat</td><td>0.01538586</td><td>Frozen Foods         </td><td>208.9928</td><td>OUT027</td><td>1985</td><td>Medium</td><td>Tier 3</td><td>Supermarket Type3</td><td> 9678.069</td><td>0.0005205747</td><td>0.0058078312</td></tr>\n",
       "</tbody>\n",
       "</table>\n"
      ],
      "text/latex": [
       "A tibble: 10 × 14\n",
       "\\begin{tabular}{llllllllllllll}\n",
       " Item\\_Identifier & Item\\_Weight & Item\\_Fat\\_Content & Item\\_Visibility & Item\\_Type & Item\\_MRP & Outlet\\_Identifier & Outlet\\_Establishment\\_Year & Outlet\\_Size & Outlet\\_Location\\_Type & Outlet\\_Type & Item\\_Outlet\\_Sales & sales\\_contribution & rolling\\_sum\\\\\n",
       " <chr> & <dbl> & <chr> & <dbl> & <chr> & <dbl> & <chr> & <dbl> & <chr> & <chr> & <chr> & <dbl> & <dbl> & <dbl>\\\\\n",
       "\\hline\n",
       "\t NCE42 &     NA & Low Fat & 0.01055095 & Household             & 234.9958 & OUT027 & 1985 & Medium & Tier 3 & Supermarket Type3 & 13086.965 & 0.0007039361 & 0.0007039361\\\\\n",
       "\t FDQ19 &     NA & Regular & 0.01429556 & Fruits and Vegetables & 242.6512 & OUT027 & 1985 & Medium & Tier 3 & Supermarket Type3 & 12117.560 & 0.0006517927 & 0.0013557288\\\\\n",
       "\t FDZ20 &     NA & Low Fat & 0.00000000 & Fruits and Vegetables & 253.0356 & OUT027 & 1985 & Medium & Tier 3 & Supermarket Type3 & 11445.102 & 0.0006156218 & 0.0019713506\\\\\n",
       "\t FDP33 &     NA & Low Fat & 0.08883995 & Snack Foods           & 254.2672 & OUT027 & 1985 & Medium & Tier 3 & Supermarket Type3 & 10993.690 & 0.0005913407 & 0.0025626914\\\\\n",
       "\t FDI50 &     NA & Regular & 0.03069331 & Canned                & 228.0352 & OUT027 & 1985 & Medium & Tier 3 & Supermarket Type3 & 10306.584 & 0.0005543819 & 0.0031170733\\\\\n",
       "\t FDF39 & 14.850 & Regular & 0.01949505 & Dairy                 & 261.2910 & OUT013 & 1987 & High   & Tier 3 & Supermarket Type1 & 10256.649 & 0.0005516960 & 0.0036687693\\\\\n",
       "\t FDU14 &     NA & Low Fat & 0.03458436 & Dairy                 & 248.3750 & OUT027 & 1985 & Medium & Tier 3 & Supermarket Type3 & 10236.675 & 0.0005506216 & 0.0042193908\\\\\n",
       "\t NCH18 &     NA & Low Fat & 0.04444496 & Household             & 245.2802 & OUT027 & 1985 & Medium & Tier 3 & Supermarket Type3 & 10072.888 & 0.0005418116 & 0.0047612025\\\\\n",
       "\t NCM05 &  6.825 & Low Fat & 0.05984697 & Health and Hygiene    & 262.5226 & OUT046 & 1997 & Small  & Tier 1 & Supermarket Type1 &  9779.936 & 0.0005260540 & 0.0052872565\\\\\n",
       "\t FDC17 &     NA & Low Fat & 0.01538586 & Frozen Foods          & 208.9928 & OUT027 & 1985 & Medium & Tier 3 & Supermarket Type3 &  9678.069 & 0.0005205747 & 0.0058078312\\\\\n",
       "\\end{tabular}\n"
      ],
      "text/markdown": [
       "\n",
       "A tibble: 10 × 14\n",
       "\n",
       "| Item_Identifier &lt;chr&gt; | Item_Weight &lt;dbl&gt; | Item_Fat_Content &lt;chr&gt; | Item_Visibility &lt;dbl&gt; | Item_Type &lt;chr&gt; | Item_MRP &lt;dbl&gt; | Outlet_Identifier &lt;chr&gt; | Outlet_Establishment_Year &lt;dbl&gt; | Outlet_Size &lt;chr&gt; | Outlet_Location_Type &lt;chr&gt; | Outlet_Type &lt;chr&gt; | Item_Outlet_Sales &lt;dbl&gt; | sales_contribution &lt;dbl&gt; | rolling_sum &lt;dbl&gt; |\n",
       "|---|---|---|---|---|---|---|---|---|---|---|---|---|---|\n",
       "| NCE42 |     NA | Low Fat | 0.01055095 | Household             | 234.9958 | OUT027 | 1985 | Medium | Tier 3 | Supermarket Type3 | 13086.965 | 0.0007039361 | 0.0007039361 |\n",
       "| FDQ19 |     NA | Regular | 0.01429556 | Fruits and Vegetables | 242.6512 | OUT027 | 1985 | Medium | Tier 3 | Supermarket Type3 | 12117.560 | 0.0006517927 | 0.0013557288 |\n",
       "| FDZ20 |     NA | Low Fat | 0.00000000 | Fruits and Vegetables | 253.0356 | OUT027 | 1985 | Medium | Tier 3 | Supermarket Type3 | 11445.102 | 0.0006156218 | 0.0019713506 |\n",
       "| FDP33 |     NA | Low Fat | 0.08883995 | Snack Foods           | 254.2672 | OUT027 | 1985 | Medium | Tier 3 | Supermarket Type3 | 10993.690 | 0.0005913407 | 0.0025626914 |\n",
       "| FDI50 |     NA | Regular | 0.03069331 | Canned                | 228.0352 | OUT027 | 1985 | Medium | Tier 3 | Supermarket Type3 | 10306.584 | 0.0005543819 | 0.0031170733 |\n",
       "| FDF39 | 14.850 | Regular | 0.01949505 | Dairy                 | 261.2910 | OUT013 | 1987 | High   | Tier 3 | Supermarket Type1 | 10256.649 | 0.0005516960 | 0.0036687693 |\n",
       "| FDU14 |     NA | Low Fat | 0.03458436 | Dairy                 | 248.3750 | OUT027 | 1985 | Medium | Tier 3 | Supermarket Type3 | 10236.675 | 0.0005506216 | 0.0042193908 |\n",
       "| NCH18 |     NA | Low Fat | 0.04444496 | Household             | 245.2802 | OUT027 | 1985 | Medium | Tier 3 | Supermarket Type3 | 10072.888 | 0.0005418116 | 0.0047612025 |\n",
       "| NCM05 |  6.825 | Low Fat | 0.05984697 | Health and Hygiene    | 262.5226 | OUT046 | 1997 | Small  | Tier 1 | Supermarket Type1 |  9779.936 | 0.0005260540 | 0.0052872565 |\n",
       "| FDC17 |     NA | Low Fat | 0.01538586 | Frozen Foods          | 208.9928 | OUT027 | 1985 | Medium | Tier 3 | Supermarket Type3 |  9678.069 | 0.0005205747 | 0.0058078312 |\n",
       "\n"
      ],
      "text/plain": [
       "   Item_Identifier Item_Weight Item_Fat_Content Item_Visibility\n",
       "1  NCE42               NA      Low Fat          0.01055095     \n",
       "2  FDQ19               NA      Regular          0.01429556     \n",
       "3  FDZ20               NA      Low Fat          0.00000000     \n",
       "4  FDP33               NA      Low Fat          0.08883995     \n",
       "5  FDI50               NA      Regular          0.03069331     \n",
       "6  FDF39           14.850      Regular          0.01949505     \n",
       "7  FDU14               NA      Low Fat          0.03458436     \n",
       "8  NCH18               NA      Low Fat          0.04444496     \n",
       "9  NCM05            6.825      Low Fat          0.05984697     \n",
       "10 FDC17               NA      Low Fat          0.01538586     \n",
       "   Item_Type             Item_MRP Outlet_Identifier Outlet_Establishment_Year\n",
       "1  Household             234.9958 OUT027            1985                     \n",
       "2  Fruits and Vegetables 242.6512 OUT027            1985                     \n",
       "3  Fruits and Vegetables 253.0356 OUT027            1985                     \n",
       "4  Snack Foods           254.2672 OUT027            1985                     \n",
       "5  Canned                228.0352 OUT027            1985                     \n",
       "6  Dairy                 261.2910 OUT013            1987                     \n",
       "7  Dairy                 248.3750 OUT027            1985                     \n",
       "8  Household             245.2802 OUT027            1985                     \n",
       "9  Health and Hygiene    262.5226 OUT046            1997                     \n",
       "10 Frozen Foods          208.9928 OUT027            1985                     \n",
       "   Outlet_Size Outlet_Location_Type Outlet_Type       Item_Outlet_Sales\n",
       "1  Medium      Tier 3               Supermarket Type3 13086.965        \n",
       "2  Medium      Tier 3               Supermarket Type3 12117.560        \n",
       "3  Medium      Tier 3               Supermarket Type3 11445.102        \n",
       "4  Medium      Tier 3               Supermarket Type3 10993.690        \n",
       "5  Medium      Tier 3               Supermarket Type3 10306.584        \n",
       "6  High        Tier 3               Supermarket Type1 10256.649        \n",
       "7  Medium      Tier 3               Supermarket Type3 10236.675        \n",
       "8  Medium      Tier 3               Supermarket Type3 10072.888        \n",
       "9  Small       Tier 1               Supermarket Type1  9779.936        \n",
       "10 Medium      Tier 3               Supermarket Type3  9678.069        \n",
       "   sales_contribution rolling_sum \n",
       "1  0.0007039361       0.0007039361\n",
       "2  0.0006517927       0.0013557288\n",
       "3  0.0006156218       0.0019713506\n",
       "4  0.0005913407       0.0025626914\n",
       "5  0.0005543819       0.0031170733\n",
       "6  0.0005516960       0.0036687693\n",
       "7  0.0005506216       0.0042193908\n",
       "8  0.0005418116       0.0047612025\n",
       "9  0.0005260540       0.0052872565\n",
       "10 0.0005205747       0.0058078312"
      ]
     },
     "metadata": {},
     "output_type": "display_data"
    }
   ],
   "source": [
    "# Items contributing the most to sales\n",
    "\n",
    "total_sales <- sum(df$Item_Outlet_Sales)\n",
    "\n",
    "df |>\n",
    "    mutate(sales_contribution=(Item_Outlet_Sales/total_sales)) |>\n",
    "    arrange(desc(sales_contribution)) |>\n",
    "    mutate(rolling_sum = cumsum(sales_contribution)) |>\n",
    "    slice_max(sales_contribution, n = 10)"
   ]
  },
  {
   "cell_type": "code",
   "execution_count": 9,
   "id": "fc9a3eef-f690-4e7f-b5f7-3609b526f81a",
   "metadata": {},
   "outputs": [
    {
     "data": {
      "text/html": [
       "<table class=\"dataframe\">\n",
       "<caption>A spec_tbl_df: 3873 × 12</caption>\n",
       "<thead>\n",
       "\t<tr><th scope=col>Item_Identifier</th><th scope=col>Item_Weight</th><th scope=col>Item_Fat_Content</th><th scope=col>Item_Visibility</th><th scope=col>Item_Type</th><th scope=col>Item_MRP</th><th scope=col>Outlet_Identifier</th><th scope=col>Outlet_Establishment_Year</th><th scope=col>Outlet_Size</th><th scope=col>Outlet_Location_Type</th><th scope=col>Outlet_Type</th><th scope=col>Item_Outlet_Sales</th></tr>\n",
       "\t<tr><th scope=col>&lt;chr&gt;</th><th scope=col>&lt;dbl&gt;</th><th scope=col>&lt;chr&gt;</th><th scope=col>&lt;dbl&gt;</th><th scope=col>&lt;chr&gt;</th><th scope=col>&lt;dbl&gt;</th><th scope=col>&lt;chr&gt;</th><th scope=col>&lt;dbl&gt;</th><th scope=col>&lt;chr&gt;</th><th scope=col>&lt;chr&gt;</th><th scope=col>&lt;chr&gt;</th><th scope=col>&lt;dbl&gt;</th></tr>\n",
       "</thead>\n",
       "<tbody>\n",
       "\t<tr><td>FDX07</td><td>19.200</td><td>Regular</td><td>0.00000000</td><td>Fruits and Vegetables</td><td>182.0950</td><td>OUT010</td><td>1998</td><td>NA    </td><td>Tier 3</td><td>Grocery Store    </td><td> 732.3800</td></tr>\n",
       "\t<tr><td>FDP10</td><td>    NA</td><td>Low Fat</td><td>0.12746986</td><td>Snack Foods          </td><td>107.7622</td><td>OUT027</td><td>1985</td><td>Medium</td><td>Tier 3</td><td>Supermarket Type3</td><td>4022.7636</td></tr>\n",
       "\t<tr><td>FDH17</td><td>16.200</td><td>Regular</td><td>0.01668711</td><td>Frozen Foods         </td><td> 96.9726</td><td>OUT045</td><td>2002</td><td>NA    </td><td>Tier 2</td><td>Supermarket Type1</td><td>1076.5986</td></tr>\n",
       "\t<tr><td>FDU28</td><td>19.200</td><td>Regular</td><td>0.09444959</td><td>Frozen Foods         </td><td>187.8214</td><td>OUT017</td><td>2007</td><td>NA    </td><td>Tier 2</td><td>Supermarket Type1</td><td>4710.5350</td></tr>\n",
       "\t<tr><td>DRI11</td><td>    NA</td><td>Low Fat</td><td>0.03423768</td><td>Hard Drinks          </td><td>113.2834</td><td>OUT027</td><td>1985</td><td>Medium</td><td>Tier 3</td><td>Supermarket Type3</td><td>2303.6680</td></tr>\n",
       "\t<tr><td>FDW12</td><td>    NA</td><td>Regular</td><td>0.03539992</td><td>Baking Goods         </td><td>144.5444</td><td>OUT027</td><td>1985</td><td>Medium</td><td>Tier 3</td><td>Supermarket Type3</td><td>4064.0432</td></tr>\n",
       "\t<tr><td>FDC37</td><td>    NA</td><td>Low Fat</td><td>0.05755700</td><td>Baking Goods         </td><td>107.6938</td><td>OUT019</td><td>1985</td><td>Small </td><td>Tier 1</td><td>Grocery Store    </td><td> 214.3876</td></tr>\n",
       "\t<tr><td>NCD06</td><td>13.000</td><td>Low Fat</td><td>0.09988710</td><td>Household            </td><td> 45.9060</td><td>OUT017</td><td>2007</td><td>NA    </td><td>Tier 2</td><td>Supermarket Type1</td><td> 838.9080</td></tr>\n",
       "\t<tr><td>FDE51</td><td> 5.925</td><td>Regular</td><td>0.16146653</td><td>Dairy                </td><td> 45.5086</td><td>OUT010</td><td>1998</td><td>NA    </td><td>Tier 3</td><td>Grocery Store    </td><td> 178.4344</td></tr>\n",
       "\t<tr><td>FDC14</td><td>    NA</td><td>Regular</td><td>0.07222180</td><td>Canned               </td><td> 43.6454</td><td>OUT019</td><td>1985</td><td>Small </td><td>Tier 1</td><td>Grocery Store    </td><td> 125.8362</td></tr>\n",
       "\t<tr><td>FDV38</td><td>19.250</td><td>Low Fat</td><td>0.17034855</td><td>Dairy                </td><td> 55.7956</td><td>OUT010</td><td>1998</td><td>NA    </td><td>Tier 3</td><td>Grocery Store    </td><td> 163.7868</td></tr>\n",
       "\t<tr><td>FDO23</td><td>17.850</td><td>Low Fat</td><td>0.00000000</td><td>Breads               </td><td> 93.1436</td><td>OUT045</td><td>2002</td><td>NA    </td><td>Tier 2</td><td>Supermarket Type1</td><td>2174.5028</td></tr>\n",
       "\t<tr><td>FDV20</td><td>    NA</td><td>Regular</td><td>0.05951181</td><td>Fruits and Vegetables</td><td>128.0678</td><td>OUT027</td><td>1985</td><td>Medium</td><td>Tier 3</td><td>Supermarket Type3</td><td>2797.6916</td></tr>\n",
       "\t<tr><td>FDX10</td><td>    NA</td><td>Regular</td><td>0.12311145</td><td>Snack Foods          </td><td> 36.9874</td><td>OUT027</td><td>1985</td><td>Medium</td><td>Tier 3</td><td>Supermarket Type3</td><td> 388.1614</td></tr>\n",
       "\t<tr><td>FDB34</td><td>    NA</td><td>Low Fat</td><td>0.02648095</td><td>Snack Foods          </td><td> 87.6198</td><td>OUT027</td><td>1985</td><td>Medium</td><td>Tier 3</td><td>Supermarket Type3</td><td>2180.4950</td></tr>\n",
       "\t<tr><td>FDM39</td><td> 6.420</td><td>LF     </td><td>0.08949893</td><td>Dairy                </td><td>178.1002</td><td>OUT010</td><td>1998</td><td>NA    </td><td>Tier 3</td><td>Grocery Store    </td><td> 358.2004</td></tr>\n",
       "\t<tr><td>NCP05</td><td>19.600</td><td>Low Fat</td><td>0.00000000</td><td>Health and Hygiene   </td><td>153.3024</td><td>OUT045</td><td>2002</td><td>NA    </td><td>Tier 2</td><td>Supermarket Type1</td><td>2428.8384</td></tr>\n",
       "\t<tr><td>FDV49</td><td>10.000</td><td>Low Fat</td><td>0.02587958</td><td>Canned               </td><td>265.2226</td><td>OUT045</td><td>2002</td><td>NA    </td><td>Tier 2</td><td>Supermarket Type1</td><td>5815.0972</td></tr>\n",
       "\t<tr><td>FDS02</td><td>    NA</td><td>Regular</td><td>0.25539490</td><td>Dairy                </td><td>196.8794</td><td>OUT019</td><td>1985</td><td>Small </td><td>Tier 1</td><td>Grocery Store    </td><td> 780.3176</td></tr>\n",
       "\t<tr><td>FDA43</td><td>10.895</td><td>Low Fat</td><td>0.06504158</td><td>Fruits and Vegetables</td><td>196.3794</td><td>OUT017</td><td>2007</td><td>NA    </td><td>Tier 2</td><td>Supermarket Type1</td><td>3121.2704</td></tr>\n",
       "\t<tr><td>NCP18</td><td>12.150</td><td>Low Fat</td><td>0.02876001</td><td>Household            </td><td>151.4708</td><td>OUT017</td><td>2007</td><td>NA    </td><td>Tier 2</td><td>Supermarket Type1</td><td>4815.0656</td></tr>\n",
       "\t<tr><td>NCX54</td><td> 9.195</td><td>Low Fat</td><td>0.04815734</td><td>Household            </td><td>106.1622</td><td>OUT045</td><td>2002</td><td>NA    </td><td>Tier 2</td><td>Supermarket Type1</td><td>2117.2440</td></tr>\n",
       "\t<tr><td>FDI26</td><td>    NA</td><td>Low Fat</td><td>0.06108218</td><td>Canned               </td><td>180.0344</td><td>OUT019</td><td>1985</td><td>Small </td><td>Tier 1</td><td>Grocery Store    </td><td> 892.1720</td></tr>\n",
       "\t<tr><td>FDV27</td><td> 7.970</td><td>Regular</td><td>0.04007113</td><td>Meat                 </td><td> 87.3514</td><td>OUT045</td><td>2002</td><td>NA    </td><td>Tier 2</td><td>Supermarket Type1</td><td>1062.6168</td></tr>\n",
       "\t<tr><td>FDF09</td><td>    NA</td><td>Low Fat</td><td>0.01209007</td><td>Fruits and Vegetables</td><td> 38.2848</td><td>OUT027</td><td>1985</td><td>Medium</td><td>Tier 3</td><td>Supermarket Type3</td><td> 484.7024</td></tr>\n",
       "\t<tr><td>FDY40</td><td>    NA</td><td>Regular</td><td>0.15028599</td><td>Frozen Foods         </td><td> 51.0692</td><td>OUT019</td><td>1985</td><td>Small </td><td>Tier 1</td><td>Grocery Store    </td><td> 147.8076</td></tr>\n",
       "\t<tr><td>FDY45</td><td>    NA</td><td>Low Fat</td><td>0.02601552</td><td>Snack Foods          </td><td>255.8356</td><td>OUT027</td><td>1985</td><td>Medium</td><td>Tier 3</td><td>Supermarket Type3</td><td>2543.3560</td></tr>\n",
       "\t<tr><td>FDC46</td><td>17.700</td><td>LF     </td><td>0.19506823</td><td>Snack Foods          </td><td>185.4266</td><td>OUT010</td><td>1998</td><td>NA    </td><td>Tier 3</td><td>Grocery Store    </td><td> 184.4266</td></tr>\n",
       "\t<tr><td>FDZ03</td><td>13.650</td><td>Regular</td><td>0.07894645</td><td>Dairy                </td><td>186.0240</td><td>OUT045</td><td>2002</td><td>NA    </td><td>Tier 2</td><td>Supermarket Type1</td><td>1118.5440</td></tr>\n",
       "\t<tr><td>DRH37</td><td>17.600</td><td>Low Fat</td><td>0.04170076</td><td>Soft Drinks          </td><td>164.8526</td><td>OUT045</td><td>2002</td><td>NA    </td><td>Tier 2</td><td>Supermarket Type1</td><td>2302.3364</td></tr>\n",
       "\t<tr><td>⋮</td><td>⋮</td><td>⋮</td><td>⋮</td><td>⋮</td><td>⋮</td><td>⋮</td><td>⋮</td><td>⋮</td><td>⋮</td><td>⋮</td><td>⋮</td></tr>\n",
       "\t<tr><td>FDG59</td><td>    NA</td><td>Low Fat</td><td>0.043025208</td><td>Starchy Foods        </td><td> 37.6164</td><td>OUT027</td><td>1985</td><td>Medium</td><td>Tier 3</td><td>Supermarket Type3</td><td> 810.9444</td></tr>\n",
       "\t<tr><td>FDO56</td><td>10.195</td><td>Regular</td><td>0.045073782</td><td>Fruits and Vegetables</td><td>119.1808</td><td>OUT045</td><td>2002</td><td>NA    </td><td>Tier 2</td><td>Supermarket Type1</td><td> 468.7232</td></tr>\n",
       "\t<tr><td>FDX11</td><td>16.000</td><td>Regular</td><td>0.106968577</td><td>Baking Goods         </td><td>180.5634</td><td>OUT045</td><td>2002</td><td>NA    </td><td>Tier 2</td><td>Supermarket Type1</td><td>2726.4510</td></tr>\n",
       "\t<tr><td>FDB20</td><td> 7.720</td><td>Low Fat</td><td>0.052086085</td><td>Fruits and Vegetables</td><td> 76.8986</td><td>OUT045</td><td>2002</td><td>NA    </td><td>Tier 2</td><td>Supermarket Type1</td><td> 467.3916</td></tr>\n",
       "\t<tr><td>FDQ45</td><td>    NA</td><td>Regular</td><td>0.019114349</td><td>Snack Foods          </td><td>182.1608</td><td>OUT019</td><td>1985</td><td>Small </td><td>Tier 1</td><td>Grocery Store    </td><td> 367.5216</td></tr>\n",
       "\t<tr><td>NCT53</td><td> 5.400</td><td>Low Fat</td><td>0.048388423</td><td>Health and Hygiene   </td><td>163.0526</td><td>OUT017</td><td>2007</td><td>NA    </td><td>Tier 2</td><td>Supermarket Type1</td><td>2302.3364</td></tr>\n",
       "\t<tr><td>NCS41</td><td>    NA</td><td>Low Fat</td><td>0.053185208</td><td>Health and Hygiene   </td><td>182.9608</td><td>OUT027</td><td>1985</td><td>Medium</td><td>Tier 3</td><td>Supermarket Type3</td><td>1653.8472</td></tr>\n",
       "\t<tr><td>DRI47</td><td>14.700</td><td>Low Fat</td><td>0.035016091</td><td>Hard Drinks          </td><td>144.3128</td><td>OUT010</td><td>1998</td><td>NA    </td><td>Tier 3</td><td>Grocery Store    </td><td> 431.4384</td></tr>\n",
       "\t<tr><td>NCJ42</td><td>19.750</td><td>Low Fat</td><td>0.014330330</td><td>Household            </td><td>104.2332</td><td>OUT045</td><td>2002</td><td>NA    </td><td>Tier 2</td><td>Supermarket Type1</td><td>2153.1972</td></tr>\n",
       "\t<tr><td>NCO41</td><td>12.500</td><td>Low Fat</td><td>0.018887088</td><td>Health and Hygiene   </td><td> 98.8384</td><td>OUT045</td><td>2002</td><td>NA    </td><td>Tier 2</td><td>Supermarket Type1</td><td>1280.9992</td></tr>\n",
       "\t<tr><td>FDC05</td><td>13.100</td><td>Regular</td><td>0.099343352</td><td>Frozen Foods         </td><td>198.1768</td><td>OUT017</td><td>2007</td><td>NA    </td><td>Tier 2</td><td>Supermarket Type1</td><td>1970.7680</td></tr>\n",
       "\t<tr><td>FDQ58</td><td>    NA</td><td>Low Fat</td><td>0.000000000</td><td>Snack Foods          </td><td>154.5340</td><td>OUT019</td><td>1985</td><td>Small </td><td>Tier 1</td><td>Grocery Store    </td><td> 459.4020</td></tr>\n",
       "\t<tr><td>FDT56</td><td>16.000</td><td>Regular</td><td>0.115826834</td><td>Fruits and Vegetables</td><td> 56.0246</td><td>OUT045</td><td>2002</td><td>NA    </td><td>Tier 2</td><td>Supermarket Type1</td><td> 695.0952</td></tr>\n",
       "\t<tr><td>DRI11</td><td> 8.260</td><td>Low Fat</td><td>0.034474060</td><td>Hard Drinks          </td><td>117.0834</td><td>OUT045</td><td>2002</td><td>NA    </td><td>Tier 2</td><td>Supermarket Type1</td><td>1612.5676</td></tr>\n",
       "\t<tr><td>DRK37</td><td>    NA</td><td>Low Fat</td><td>0.043791580</td><td>Soft Drinks          </td><td>189.0530</td><td>OUT027</td><td>1985</td><td>Medium</td><td>Tier 3</td><td>Supermarket Type3</td><td>6261.8490</td></tr>\n",
       "\t<tr><td>FDR20</td><td>20.000</td><td>Regular</td><td>0.000000000</td><td>Fruits and Vegetables</td><td> 46.4744</td><td>OUT010</td><td>1998</td><td>NA    </td><td>Tier 3</td><td>Grocery Store    </td><td>  45.2744</td></tr>\n",
       "\t<tr><td>DRG13</td><td>    NA</td><td>Low Fat</td><td>0.037006076</td><td>Soft Drinks          </td><td>164.7526</td><td>OUT027</td><td>1985</td><td>Medium</td><td>Tier 3</td><td>Supermarket Type3</td><td>4111.3150</td></tr>\n",
       "\t<tr><td>NCN14</td><td>    NA</td><td>Low Fat</td><td>0.091472670</td><td>Others               </td><td>184.6608</td><td>OUT027</td><td>1985</td><td>Medium</td><td>Tier 3</td><td>Supermarket Type3</td><td>2756.4120</td></tr>\n",
       "\t<tr><td>FDU44</td><td>    NA</td><td>Regular</td><td>0.102295904</td><td>Fruits and Vegetables</td><td>162.3552</td><td>OUT019</td><td>1985</td><td>Small </td><td>Tier 1</td><td>Grocery Store    </td><td> 487.3656</td></tr>\n",
       "\t<tr><td>FDP21</td><td> 7.420</td><td>Regular</td><td>0.025886443</td><td>Snack Foods          </td><td>189.1872</td><td>OUT017</td><td>2007</td><td>NA    </td><td>Tier 2</td><td>Supermarket Type1</td><td>4727.1800</td></tr>\n",
       "\t<tr><td>NCI54</td><td>15.200</td><td>Low Fat</td><td>0.000000000</td><td>Household            </td><td>110.4912</td><td>OUT017</td><td>2007</td><td>NA    </td><td>Tier 2</td><td>Supermarket Type1</td><td>1637.8680</td></tr>\n",
       "\t<tr><td>FDJ57</td><td> 7.420</td><td>Regular</td><td>0.021695674</td><td>Seafood              </td><td>185.3582</td><td>OUT017</td><td>2007</td><td>NA    </td><td>Tier 2</td><td>Supermarket Type1</td><td>3715.1640</td></tr>\n",
       "\t<tr><td>NCQ42</td><td>20.350</td><td>Low Fat</td><td>0.000000000</td><td>Household            </td><td>125.1678</td><td>OUT017</td><td>2007</td><td>NA    </td><td>Tier 2</td><td>Supermarket Type1</td><td>1907.5170</td></tr>\n",
       "\t<tr><td>FDW21</td><td> 5.340</td><td>Regular</td><td>0.005997615</td><td>Snack Foods          </td><td>100.4358</td><td>OUT017</td><td>2007</td><td>NA    </td><td>Tier 2</td><td>Supermarket Type1</td><td>1508.0370</td></tr>\n",
       "\t<tr><td>NCH43</td><td> 8.420</td><td>Low Fat</td><td>0.070712031</td><td>Household            </td><td>216.4192</td><td>OUT045</td><td>2002</td><td>NA    </td><td>Tier 2</td><td>Supermarket Type1</td><td>3020.0688</td></tr>\n",
       "\t<tr><td>NCN18</td><td>    NA</td><td>Low Fat</td><td>0.124110734</td><td>Household            </td><td>111.7544</td><td>OUT027</td><td>1985</td><td>Medium</td><td>Tier 3</td><td>Supermarket Type3</td><td>4138.6128</td></tr>\n",
       "\t<tr><td>FDW31</td><td>11.350</td><td>Regular</td><td>0.043245630</td><td>Fruits and Vegetables</td><td>199.4742</td><td>OUT045</td><td>2002</td><td>NA    </td><td>Tier 2</td><td>Supermarket Type1</td><td>2587.9646</td></tr>\n",
       "\t<tr><td>FDG45</td><td> 8.100</td><td>Low Fat</td><td>0.214306131</td><td>Fruits and Vegetables</td><td>213.9902</td><td>OUT010</td><td>1998</td><td>NA    </td><td>Tier 3</td><td>Grocery Store    </td><td> 424.7804</td></tr>\n",
       "\t<tr><td>FDA01</td><td>15.000</td><td>Regular</td><td>0.054488534</td><td>Canned               </td><td> 57.5904</td><td>OUT045</td><td>2002</td><td>NA    </td><td>Tier 2</td><td>Supermarket Type1</td><td> 468.7232</td></tr>\n",
       "\t<tr><td>FDS36</td><td> 8.380</td><td>Regular</td><td>0.046982429</td><td>Baking Goods         </td><td>108.1570</td><td>OUT045</td><td>2002</td><td>NA    </td><td>Tier 2</td><td>Supermarket Type1</td><td> 549.2850</td></tr>\n",
       "</tbody>\n",
       "</table>\n"
      ],
      "text/latex": [
       "A spec\\_tbl\\_df: 3873 × 12\n",
       "\\begin{tabular}{llllllllllll}\n",
       " Item\\_Identifier & Item\\_Weight & Item\\_Fat\\_Content & Item\\_Visibility & Item\\_Type & Item\\_MRP & Outlet\\_Identifier & Outlet\\_Establishment\\_Year & Outlet\\_Size & Outlet\\_Location\\_Type & Outlet\\_Type & Item\\_Outlet\\_Sales\\\\\n",
       " <chr> & <dbl> & <chr> & <dbl> & <chr> & <dbl> & <chr> & <dbl> & <chr> & <chr> & <chr> & <dbl>\\\\\n",
       "\\hline\n",
       "\t FDX07 & 19.200 & Regular & 0.00000000 & Fruits and Vegetables & 182.0950 & OUT010 & 1998 & NA     & Tier 3 & Grocery Store     &  732.3800\\\\\n",
       "\t FDP10 &     NA & Low Fat & 0.12746986 & Snack Foods           & 107.7622 & OUT027 & 1985 & Medium & Tier 3 & Supermarket Type3 & 4022.7636\\\\\n",
       "\t FDH17 & 16.200 & Regular & 0.01668711 & Frozen Foods          &  96.9726 & OUT045 & 2002 & NA     & Tier 2 & Supermarket Type1 & 1076.5986\\\\\n",
       "\t FDU28 & 19.200 & Regular & 0.09444959 & Frozen Foods          & 187.8214 & OUT017 & 2007 & NA     & Tier 2 & Supermarket Type1 & 4710.5350\\\\\n",
       "\t DRI11 &     NA & Low Fat & 0.03423768 & Hard Drinks           & 113.2834 & OUT027 & 1985 & Medium & Tier 3 & Supermarket Type3 & 2303.6680\\\\\n",
       "\t FDW12 &     NA & Regular & 0.03539992 & Baking Goods          & 144.5444 & OUT027 & 1985 & Medium & Tier 3 & Supermarket Type3 & 4064.0432\\\\\n",
       "\t FDC37 &     NA & Low Fat & 0.05755700 & Baking Goods          & 107.6938 & OUT019 & 1985 & Small  & Tier 1 & Grocery Store     &  214.3876\\\\\n",
       "\t NCD06 & 13.000 & Low Fat & 0.09988710 & Household             &  45.9060 & OUT017 & 2007 & NA     & Tier 2 & Supermarket Type1 &  838.9080\\\\\n",
       "\t FDE51 &  5.925 & Regular & 0.16146653 & Dairy                 &  45.5086 & OUT010 & 1998 & NA     & Tier 3 & Grocery Store     &  178.4344\\\\\n",
       "\t FDC14 &     NA & Regular & 0.07222180 & Canned                &  43.6454 & OUT019 & 1985 & Small  & Tier 1 & Grocery Store     &  125.8362\\\\\n",
       "\t FDV38 & 19.250 & Low Fat & 0.17034855 & Dairy                 &  55.7956 & OUT010 & 1998 & NA     & Tier 3 & Grocery Store     &  163.7868\\\\\n",
       "\t FDO23 & 17.850 & Low Fat & 0.00000000 & Breads                &  93.1436 & OUT045 & 2002 & NA     & Tier 2 & Supermarket Type1 & 2174.5028\\\\\n",
       "\t FDV20 &     NA & Regular & 0.05951181 & Fruits and Vegetables & 128.0678 & OUT027 & 1985 & Medium & Tier 3 & Supermarket Type3 & 2797.6916\\\\\n",
       "\t FDX10 &     NA & Regular & 0.12311145 & Snack Foods           &  36.9874 & OUT027 & 1985 & Medium & Tier 3 & Supermarket Type3 &  388.1614\\\\\n",
       "\t FDB34 &     NA & Low Fat & 0.02648095 & Snack Foods           &  87.6198 & OUT027 & 1985 & Medium & Tier 3 & Supermarket Type3 & 2180.4950\\\\\n",
       "\t FDM39 &  6.420 & LF      & 0.08949893 & Dairy                 & 178.1002 & OUT010 & 1998 & NA     & Tier 3 & Grocery Store     &  358.2004\\\\\n",
       "\t NCP05 & 19.600 & Low Fat & 0.00000000 & Health and Hygiene    & 153.3024 & OUT045 & 2002 & NA     & Tier 2 & Supermarket Type1 & 2428.8384\\\\\n",
       "\t FDV49 & 10.000 & Low Fat & 0.02587958 & Canned                & 265.2226 & OUT045 & 2002 & NA     & Tier 2 & Supermarket Type1 & 5815.0972\\\\\n",
       "\t FDS02 &     NA & Regular & 0.25539490 & Dairy                 & 196.8794 & OUT019 & 1985 & Small  & Tier 1 & Grocery Store     &  780.3176\\\\\n",
       "\t FDA43 & 10.895 & Low Fat & 0.06504158 & Fruits and Vegetables & 196.3794 & OUT017 & 2007 & NA     & Tier 2 & Supermarket Type1 & 3121.2704\\\\\n",
       "\t NCP18 & 12.150 & Low Fat & 0.02876001 & Household             & 151.4708 & OUT017 & 2007 & NA     & Tier 2 & Supermarket Type1 & 4815.0656\\\\\n",
       "\t NCX54 &  9.195 & Low Fat & 0.04815734 & Household             & 106.1622 & OUT045 & 2002 & NA     & Tier 2 & Supermarket Type1 & 2117.2440\\\\\n",
       "\t FDI26 &     NA & Low Fat & 0.06108218 & Canned                & 180.0344 & OUT019 & 1985 & Small  & Tier 1 & Grocery Store     &  892.1720\\\\\n",
       "\t FDV27 &  7.970 & Regular & 0.04007113 & Meat                  &  87.3514 & OUT045 & 2002 & NA     & Tier 2 & Supermarket Type1 & 1062.6168\\\\\n",
       "\t FDF09 &     NA & Low Fat & 0.01209007 & Fruits and Vegetables &  38.2848 & OUT027 & 1985 & Medium & Tier 3 & Supermarket Type3 &  484.7024\\\\\n",
       "\t FDY40 &     NA & Regular & 0.15028599 & Frozen Foods          &  51.0692 & OUT019 & 1985 & Small  & Tier 1 & Grocery Store     &  147.8076\\\\\n",
       "\t FDY45 &     NA & Low Fat & 0.02601552 & Snack Foods           & 255.8356 & OUT027 & 1985 & Medium & Tier 3 & Supermarket Type3 & 2543.3560\\\\\n",
       "\t FDC46 & 17.700 & LF      & 0.19506823 & Snack Foods           & 185.4266 & OUT010 & 1998 & NA     & Tier 3 & Grocery Store     &  184.4266\\\\\n",
       "\t FDZ03 & 13.650 & Regular & 0.07894645 & Dairy                 & 186.0240 & OUT045 & 2002 & NA     & Tier 2 & Supermarket Type1 & 1118.5440\\\\\n",
       "\t DRH37 & 17.600 & Low Fat & 0.04170076 & Soft Drinks           & 164.8526 & OUT045 & 2002 & NA     & Tier 2 & Supermarket Type1 & 2302.3364\\\\\n",
       "\t ⋮ & ⋮ & ⋮ & ⋮ & ⋮ & ⋮ & ⋮ & ⋮ & ⋮ & ⋮ & ⋮ & ⋮\\\\\n",
       "\t FDG59 &     NA & Low Fat & 0.043025208 & Starchy Foods         &  37.6164 & OUT027 & 1985 & Medium & Tier 3 & Supermarket Type3 &  810.9444\\\\\n",
       "\t FDO56 & 10.195 & Regular & 0.045073782 & Fruits and Vegetables & 119.1808 & OUT045 & 2002 & NA     & Tier 2 & Supermarket Type1 &  468.7232\\\\\n",
       "\t FDX11 & 16.000 & Regular & 0.106968577 & Baking Goods          & 180.5634 & OUT045 & 2002 & NA     & Tier 2 & Supermarket Type1 & 2726.4510\\\\\n",
       "\t FDB20 &  7.720 & Low Fat & 0.052086085 & Fruits and Vegetables &  76.8986 & OUT045 & 2002 & NA     & Tier 2 & Supermarket Type1 &  467.3916\\\\\n",
       "\t FDQ45 &     NA & Regular & 0.019114349 & Snack Foods           & 182.1608 & OUT019 & 1985 & Small  & Tier 1 & Grocery Store     &  367.5216\\\\\n",
       "\t NCT53 &  5.400 & Low Fat & 0.048388423 & Health and Hygiene    & 163.0526 & OUT017 & 2007 & NA     & Tier 2 & Supermarket Type1 & 2302.3364\\\\\n",
       "\t NCS41 &     NA & Low Fat & 0.053185208 & Health and Hygiene    & 182.9608 & OUT027 & 1985 & Medium & Tier 3 & Supermarket Type3 & 1653.8472\\\\\n",
       "\t DRI47 & 14.700 & Low Fat & 0.035016091 & Hard Drinks           & 144.3128 & OUT010 & 1998 & NA     & Tier 3 & Grocery Store     &  431.4384\\\\\n",
       "\t NCJ42 & 19.750 & Low Fat & 0.014330330 & Household             & 104.2332 & OUT045 & 2002 & NA     & Tier 2 & Supermarket Type1 & 2153.1972\\\\\n",
       "\t NCO41 & 12.500 & Low Fat & 0.018887088 & Health and Hygiene    &  98.8384 & OUT045 & 2002 & NA     & Tier 2 & Supermarket Type1 & 1280.9992\\\\\n",
       "\t FDC05 & 13.100 & Regular & 0.099343352 & Frozen Foods          & 198.1768 & OUT017 & 2007 & NA     & Tier 2 & Supermarket Type1 & 1970.7680\\\\\n",
       "\t FDQ58 &     NA & Low Fat & 0.000000000 & Snack Foods           & 154.5340 & OUT019 & 1985 & Small  & Tier 1 & Grocery Store     &  459.4020\\\\\n",
       "\t FDT56 & 16.000 & Regular & 0.115826834 & Fruits and Vegetables &  56.0246 & OUT045 & 2002 & NA     & Tier 2 & Supermarket Type1 &  695.0952\\\\\n",
       "\t DRI11 &  8.260 & Low Fat & 0.034474060 & Hard Drinks           & 117.0834 & OUT045 & 2002 & NA     & Tier 2 & Supermarket Type1 & 1612.5676\\\\\n",
       "\t DRK37 &     NA & Low Fat & 0.043791580 & Soft Drinks           & 189.0530 & OUT027 & 1985 & Medium & Tier 3 & Supermarket Type3 & 6261.8490\\\\\n",
       "\t FDR20 & 20.000 & Regular & 0.000000000 & Fruits and Vegetables &  46.4744 & OUT010 & 1998 & NA     & Tier 3 & Grocery Store     &   45.2744\\\\\n",
       "\t DRG13 &     NA & Low Fat & 0.037006076 & Soft Drinks           & 164.7526 & OUT027 & 1985 & Medium & Tier 3 & Supermarket Type3 & 4111.3150\\\\\n",
       "\t NCN14 &     NA & Low Fat & 0.091472670 & Others                & 184.6608 & OUT027 & 1985 & Medium & Tier 3 & Supermarket Type3 & 2756.4120\\\\\n",
       "\t FDU44 &     NA & Regular & 0.102295904 & Fruits and Vegetables & 162.3552 & OUT019 & 1985 & Small  & Tier 1 & Grocery Store     &  487.3656\\\\\n",
       "\t FDP21 &  7.420 & Regular & 0.025886443 & Snack Foods           & 189.1872 & OUT017 & 2007 & NA     & Tier 2 & Supermarket Type1 & 4727.1800\\\\\n",
       "\t NCI54 & 15.200 & Low Fat & 0.000000000 & Household             & 110.4912 & OUT017 & 2007 & NA     & Tier 2 & Supermarket Type1 & 1637.8680\\\\\n",
       "\t FDJ57 &  7.420 & Regular & 0.021695674 & Seafood               & 185.3582 & OUT017 & 2007 & NA     & Tier 2 & Supermarket Type1 & 3715.1640\\\\\n",
       "\t NCQ42 & 20.350 & Low Fat & 0.000000000 & Household             & 125.1678 & OUT017 & 2007 & NA     & Tier 2 & Supermarket Type1 & 1907.5170\\\\\n",
       "\t FDW21 &  5.340 & Regular & 0.005997615 & Snack Foods           & 100.4358 & OUT017 & 2007 & NA     & Tier 2 & Supermarket Type1 & 1508.0370\\\\\n",
       "\t NCH43 &  8.420 & Low Fat & 0.070712031 & Household             & 216.4192 & OUT045 & 2002 & NA     & Tier 2 & Supermarket Type1 & 3020.0688\\\\\n",
       "\t NCN18 &     NA & Low Fat & 0.124110734 & Household             & 111.7544 & OUT027 & 1985 & Medium & Tier 3 & Supermarket Type3 & 4138.6128\\\\\n",
       "\t FDW31 & 11.350 & Regular & 0.043245630 & Fruits and Vegetables & 199.4742 & OUT045 & 2002 & NA     & Tier 2 & Supermarket Type1 & 2587.9646\\\\\n",
       "\t FDG45 &  8.100 & Low Fat & 0.214306131 & Fruits and Vegetables & 213.9902 & OUT010 & 1998 & NA     & Tier 3 & Grocery Store     &  424.7804\\\\\n",
       "\t FDA01 & 15.000 & Regular & 0.054488534 & Canned                &  57.5904 & OUT045 & 2002 & NA     & Tier 2 & Supermarket Type1 &  468.7232\\\\\n",
       "\t FDS36 &  8.380 & Regular & 0.046982429 & Baking Goods          & 108.1570 & OUT045 & 2002 & NA     & Tier 2 & Supermarket Type1 &  549.2850\\\\\n",
       "\\end{tabular}\n"
      ],
      "text/markdown": [
       "\n",
       "A spec_tbl_df: 3873 × 12\n",
       "\n",
       "| Item_Identifier &lt;chr&gt; | Item_Weight &lt;dbl&gt; | Item_Fat_Content &lt;chr&gt; | Item_Visibility &lt;dbl&gt; | Item_Type &lt;chr&gt; | Item_MRP &lt;dbl&gt; | Outlet_Identifier &lt;chr&gt; | Outlet_Establishment_Year &lt;dbl&gt; | Outlet_Size &lt;chr&gt; | Outlet_Location_Type &lt;chr&gt; | Outlet_Type &lt;chr&gt; | Item_Outlet_Sales &lt;dbl&gt; |\n",
       "|---|---|---|---|---|---|---|---|---|---|---|---|\n",
       "| FDX07 | 19.200 | Regular | 0.00000000 | Fruits and Vegetables | 182.0950 | OUT010 | 1998 | NA     | Tier 3 | Grocery Store     |  732.3800 |\n",
       "| FDP10 |     NA | Low Fat | 0.12746986 | Snack Foods           | 107.7622 | OUT027 | 1985 | Medium | Tier 3 | Supermarket Type3 | 4022.7636 |\n",
       "| FDH17 | 16.200 | Regular | 0.01668711 | Frozen Foods          |  96.9726 | OUT045 | 2002 | NA     | Tier 2 | Supermarket Type1 | 1076.5986 |\n",
       "| FDU28 | 19.200 | Regular | 0.09444959 | Frozen Foods          | 187.8214 | OUT017 | 2007 | NA     | Tier 2 | Supermarket Type1 | 4710.5350 |\n",
       "| DRI11 |     NA | Low Fat | 0.03423768 | Hard Drinks           | 113.2834 | OUT027 | 1985 | Medium | Tier 3 | Supermarket Type3 | 2303.6680 |\n",
       "| FDW12 |     NA | Regular | 0.03539992 | Baking Goods          | 144.5444 | OUT027 | 1985 | Medium | Tier 3 | Supermarket Type3 | 4064.0432 |\n",
       "| FDC37 |     NA | Low Fat | 0.05755700 | Baking Goods          | 107.6938 | OUT019 | 1985 | Small  | Tier 1 | Grocery Store     |  214.3876 |\n",
       "| NCD06 | 13.000 | Low Fat | 0.09988710 | Household             |  45.9060 | OUT017 | 2007 | NA     | Tier 2 | Supermarket Type1 |  838.9080 |\n",
       "| FDE51 |  5.925 | Regular | 0.16146653 | Dairy                 |  45.5086 | OUT010 | 1998 | NA     | Tier 3 | Grocery Store     |  178.4344 |\n",
       "| FDC14 |     NA | Regular | 0.07222180 | Canned                |  43.6454 | OUT019 | 1985 | Small  | Tier 1 | Grocery Store     |  125.8362 |\n",
       "| FDV38 | 19.250 | Low Fat | 0.17034855 | Dairy                 |  55.7956 | OUT010 | 1998 | NA     | Tier 3 | Grocery Store     |  163.7868 |\n",
       "| FDO23 | 17.850 | Low Fat | 0.00000000 | Breads                |  93.1436 | OUT045 | 2002 | NA     | Tier 2 | Supermarket Type1 | 2174.5028 |\n",
       "| FDV20 |     NA | Regular | 0.05951181 | Fruits and Vegetables | 128.0678 | OUT027 | 1985 | Medium | Tier 3 | Supermarket Type3 | 2797.6916 |\n",
       "| FDX10 |     NA | Regular | 0.12311145 | Snack Foods           |  36.9874 | OUT027 | 1985 | Medium | Tier 3 | Supermarket Type3 |  388.1614 |\n",
       "| FDB34 |     NA | Low Fat | 0.02648095 | Snack Foods           |  87.6198 | OUT027 | 1985 | Medium | Tier 3 | Supermarket Type3 | 2180.4950 |\n",
       "| FDM39 |  6.420 | LF      | 0.08949893 | Dairy                 | 178.1002 | OUT010 | 1998 | NA     | Tier 3 | Grocery Store     |  358.2004 |\n",
       "| NCP05 | 19.600 | Low Fat | 0.00000000 | Health and Hygiene    | 153.3024 | OUT045 | 2002 | NA     | Tier 2 | Supermarket Type1 | 2428.8384 |\n",
       "| FDV49 | 10.000 | Low Fat | 0.02587958 | Canned                | 265.2226 | OUT045 | 2002 | NA     | Tier 2 | Supermarket Type1 | 5815.0972 |\n",
       "| FDS02 |     NA | Regular | 0.25539490 | Dairy                 | 196.8794 | OUT019 | 1985 | Small  | Tier 1 | Grocery Store     |  780.3176 |\n",
       "| FDA43 | 10.895 | Low Fat | 0.06504158 | Fruits and Vegetables | 196.3794 | OUT017 | 2007 | NA     | Tier 2 | Supermarket Type1 | 3121.2704 |\n",
       "| NCP18 | 12.150 | Low Fat | 0.02876001 | Household             | 151.4708 | OUT017 | 2007 | NA     | Tier 2 | Supermarket Type1 | 4815.0656 |\n",
       "| NCX54 |  9.195 | Low Fat | 0.04815734 | Household             | 106.1622 | OUT045 | 2002 | NA     | Tier 2 | Supermarket Type1 | 2117.2440 |\n",
       "| FDI26 |     NA | Low Fat | 0.06108218 | Canned                | 180.0344 | OUT019 | 1985 | Small  | Tier 1 | Grocery Store     |  892.1720 |\n",
       "| FDV27 |  7.970 | Regular | 0.04007113 | Meat                  |  87.3514 | OUT045 | 2002 | NA     | Tier 2 | Supermarket Type1 | 1062.6168 |\n",
       "| FDF09 |     NA | Low Fat | 0.01209007 | Fruits and Vegetables |  38.2848 | OUT027 | 1985 | Medium | Tier 3 | Supermarket Type3 |  484.7024 |\n",
       "| FDY40 |     NA | Regular | 0.15028599 | Frozen Foods          |  51.0692 | OUT019 | 1985 | Small  | Tier 1 | Grocery Store     |  147.8076 |\n",
       "| FDY45 |     NA | Low Fat | 0.02601552 | Snack Foods           | 255.8356 | OUT027 | 1985 | Medium | Tier 3 | Supermarket Type3 | 2543.3560 |\n",
       "| FDC46 | 17.700 | LF      | 0.19506823 | Snack Foods           | 185.4266 | OUT010 | 1998 | NA     | Tier 3 | Grocery Store     |  184.4266 |\n",
       "| FDZ03 | 13.650 | Regular | 0.07894645 | Dairy                 | 186.0240 | OUT045 | 2002 | NA     | Tier 2 | Supermarket Type1 | 1118.5440 |\n",
       "| DRH37 | 17.600 | Low Fat | 0.04170076 | Soft Drinks           | 164.8526 | OUT045 | 2002 | NA     | Tier 2 | Supermarket Type1 | 2302.3364 |\n",
       "| ⋮ | ⋮ | ⋮ | ⋮ | ⋮ | ⋮ | ⋮ | ⋮ | ⋮ | ⋮ | ⋮ | ⋮ |\n",
       "| FDG59 |     NA | Low Fat | 0.043025208 | Starchy Foods         |  37.6164 | OUT027 | 1985 | Medium | Tier 3 | Supermarket Type3 |  810.9444 |\n",
       "| FDO56 | 10.195 | Regular | 0.045073782 | Fruits and Vegetables | 119.1808 | OUT045 | 2002 | NA     | Tier 2 | Supermarket Type1 |  468.7232 |\n",
       "| FDX11 | 16.000 | Regular | 0.106968577 | Baking Goods          | 180.5634 | OUT045 | 2002 | NA     | Tier 2 | Supermarket Type1 | 2726.4510 |\n",
       "| FDB20 |  7.720 | Low Fat | 0.052086085 | Fruits and Vegetables |  76.8986 | OUT045 | 2002 | NA     | Tier 2 | Supermarket Type1 |  467.3916 |\n",
       "| FDQ45 |     NA | Regular | 0.019114349 | Snack Foods           | 182.1608 | OUT019 | 1985 | Small  | Tier 1 | Grocery Store     |  367.5216 |\n",
       "| NCT53 |  5.400 | Low Fat | 0.048388423 | Health and Hygiene    | 163.0526 | OUT017 | 2007 | NA     | Tier 2 | Supermarket Type1 | 2302.3364 |\n",
       "| NCS41 |     NA | Low Fat | 0.053185208 | Health and Hygiene    | 182.9608 | OUT027 | 1985 | Medium | Tier 3 | Supermarket Type3 | 1653.8472 |\n",
       "| DRI47 | 14.700 | Low Fat | 0.035016091 | Hard Drinks           | 144.3128 | OUT010 | 1998 | NA     | Tier 3 | Grocery Store     |  431.4384 |\n",
       "| NCJ42 | 19.750 | Low Fat | 0.014330330 | Household             | 104.2332 | OUT045 | 2002 | NA     | Tier 2 | Supermarket Type1 | 2153.1972 |\n",
       "| NCO41 | 12.500 | Low Fat | 0.018887088 | Health and Hygiene    |  98.8384 | OUT045 | 2002 | NA     | Tier 2 | Supermarket Type1 | 1280.9992 |\n",
       "| FDC05 | 13.100 | Regular | 0.099343352 | Frozen Foods          | 198.1768 | OUT017 | 2007 | NA     | Tier 2 | Supermarket Type1 | 1970.7680 |\n",
       "| FDQ58 |     NA | Low Fat | 0.000000000 | Snack Foods           | 154.5340 | OUT019 | 1985 | Small  | Tier 1 | Grocery Store     |  459.4020 |\n",
       "| FDT56 | 16.000 | Regular | 0.115826834 | Fruits and Vegetables |  56.0246 | OUT045 | 2002 | NA     | Tier 2 | Supermarket Type1 |  695.0952 |\n",
       "| DRI11 |  8.260 | Low Fat | 0.034474060 | Hard Drinks           | 117.0834 | OUT045 | 2002 | NA     | Tier 2 | Supermarket Type1 | 1612.5676 |\n",
       "| DRK37 |     NA | Low Fat | 0.043791580 | Soft Drinks           | 189.0530 | OUT027 | 1985 | Medium | Tier 3 | Supermarket Type3 | 6261.8490 |\n",
       "| FDR20 | 20.000 | Regular | 0.000000000 | Fruits and Vegetables |  46.4744 | OUT010 | 1998 | NA     | Tier 3 | Grocery Store     |   45.2744 |\n",
       "| DRG13 |     NA | Low Fat | 0.037006076 | Soft Drinks           | 164.7526 | OUT027 | 1985 | Medium | Tier 3 | Supermarket Type3 | 4111.3150 |\n",
       "| NCN14 |     NA | Low Fat | 0.091472670 | Others                | 184.6608 | OUT027 | 1985 | Medium | Tier 3 | Supermarket Type3 | 2756.4120 |\n",
       "| FDU44 |     NA | Regular | 0.102295904 | Fruits and Vegetables | 162.3552 | OUT019 | 1985 | Small  | Tier 1 | Grocery Store     |  487.3656 |\n",
       "| FDP21 |  7.420 | Regular | 0.025886443 | Snack Foods           | 189.1872 | OUT017 | 2007 | NA     | Tier 2 | Supermarket Type1 | 4727.1800 |\n",
       "| NCI54 | 15.200 | Low Fat | 0.000000000 | Household             | 110.4912 | OUT017 | 2007 | NA     | Tier 2 | Supermarket Type1 | 1637.8680 |\n",
       "| FDJ57 |  7.420 | Regular | 0.021695674 | Seafood               | 185.3582 | OUT017 | 2007 | NA     | Tier 2 | Supermarket Type1 | 3715.1640 |\n",
       "| NCQ42 | 20.350 | Low Fat | 0.000000000 | Household             | 125.1678 | OUT017 | 2007 | NA     | Tier 2 | Supermarket Type1 | 1907.5170 |\n",
       "| FDW21 |  5.340 | Regular | 0.005997615 | Snack Foods           | 100.4358 | OUT017 | 2007 | NA     | Tier 2 | Supermarket Type1 | 1508.0370 |\n",
       "| NCH43 |  8.420 | Low Fat | 0.070712031 | Household             | 216.4192 | OUT045 | 2002 | NA     | Tier 2 | Supermarket Type1 | 3020.0688 |\n",
       "| NCN18 |     NA | Low Fat | 0.124110734 | Household             | 111.7544 | OUT027 | 1985 | Medium | Tier 3 | Supermarket Type3 | 4138.6128 |\n",
       "| FDW31 | 11.350 | Regular | 0.043245630 | Fruits and Vegetables | 199.4742 | OUT045 | 2002 | NA     | Tier 2 | Supermarket Type1 | 2587.9646 |\n",
       "| FDG45 |  8.100 | Low Fat | 0.214306131 | Fruits and Vegetables | 213.9902 | OUT010 | 1998 | NA     | Tier 3 | Grocery Store     |  424.7804 |\n",
       "| FDA01 | 15.000 | Regular | 0.054488534 | Canned                |  57.5904 | OUT045 | 2002 | NA     | Tier 2 | Supermarket Type1 |  468.7232 |\n",
       "| FDS36 |  8.380 | Regular | 0.046982429 | Baking Goods          | 108.1570 | OUT045 | 2002 | NA     | Tier 2 | Supermarket Type1 |  549.2850 |\n",
       "\n"
      ],
      "text/plain": [
       "     Item_Identifier Item_Weight Item_Fat_Content Item_Visibility\n",
       "1    FDX07           19.200      Regular          0.00000000     \n",
       "2    FDP10               NA      Low Fat          0.12746986     \n",
       "3    FDH17           16.200      Regular          0.01668711     \n",
       "4    FDU28           19.200      Regular          0.09444959     \n",
       "5    DRI11               NA      Low Fat          0.03423768     \n",
       "6    FDW12               NA      Regular          0.03539992     \n",
       "7    FDC37               NA      Low Fat          0.05755700     \n",
       "8    NCD06           13.000      Low Fat          0.09988710     \n",
       "9    FDE51            5.925      Regular          0.16146653     \n",
       "10   FDC14               NA      Regular          0.07222180     \n",
       "11   FDV38           19.250      Low Fat          0.17034855     \n",
       "12   FDO23           17.850      Low Fat          0.00000000     \n",
       "13   FDV20               NA      Regular          0.05951181     \n",
       "14   FDX10               NA      Regular          0.12311145     \n",
       "15   FDB34               NA      Low Fat          0.02648095     \n",
       "16   FDM39            6.420      LF               0.08949893     \n",
       "17   NCP05           19.600      Low Fat          0.00000000     \n",
       "18   FDV49           10.000      Low Fat          0.02587958     \n",
       "19   FDS02               NA      Regular          0.25539490     \n",
       "20   FDA43           10.895      Low Fat          0.06504158     \n",
       "21   NCP18           12.150      Low Fat          0.02876001     \n",
       "22   NCX54            9.195      Low Fat          0.04815734     \n",
       "23   FDI26               NA      Low Fat          0.06108218     \n",
       "24   FDV27            7.970      Regular          0.04007113     \n",
       "25   FDF09               NA      Low Fat          0.01209007     \n",
       "26   FDY40               NA      Regular          0.15028599     \n",
       "27   FDY45               NA      Low Fat          0.02601552     \n",
       "28   FDC46           17.700      LF               0.19506823     \n",
       "29   FDZ03           13.650      Regular          0.07894645     \n",
       "30   DRH37           17.600      Low Fat          0.04170076     \n",
       "⋮    ⋮               ⋮           ⋮                ⋮              \n",
       "3844 FDG59               NA      Low Fat          0.043025208    \n",
       "3845 FDO56           10.195      Regular          0.045073782    \n",
       "3846 FDX11           16.000      Regular          0.106968577    \n",
       "3847 FDB20            7.720      Low Fat          0.052086085    \n",
       "3848 FDQ45               NA      Regular          0.019114349    \n",
       "3849 NCT53            5.400      Low Fat          0.048388423    \n",
       "3850 NCS41               NA      Low Fat          0.053185208    \n",
       "3851 DRI47           14.700      Low Fat          0.035016091    \n",
       "3852 NCJ42           19.750      Low Fat          0.014330330    \n",
       "3853 NCO41           12.500      Low Fat          0.018887088    \n",
       "3854 FDC05           13.100      Regular          0.099343352    \n",
       "3855 FDQ58               NA      Low Fat          0.000000000    \n",
       "3856 FDT56           16.000      Regular          0.115826834    \n",
       "3857 DRI11            8.260      Low Fat          0.034474060    \n",
       "3858 DRK37               NA      Low Fat          0.043791580    \n",
       "3859 FDR20           20.000      Regular          0.000000000    \n",
       "3860 DRG13               NA      Low Fat          0.037006076    \n",
       "3861 NCN14               NA      Low Fat          0.091472670    \n",
       "3862 FDU44               NA      Regular          0.102295904    \n",
       "3863 FDP21            7.420      Regular          0.025886443    \n",
       "3864 NCI54           15.200      Low Fat          0.000000000    \n",
       "3865 FDJ57            7.420      Regular          0.021695674    \n",
       "3866 NCQ42           20.350      Low Fat          0.000000000    \n",
       "3867 FDW21            5.340      Regular          0.005997615    \n",
       "3868 NCH43            8.420      Low Fat          0.070712031    \n",
       "3869 NCN18               NA      Low Fat          0.124110734    \n",
       "3870 FDW31           11.350      Regular          0.043245630    \n",
       "3871 FDG45            8.100      Low Fat          0.214306131    \n",
       "3872 FDA01           15.000      Regular          0.054488534    \n",
       "3873 FDS36            8.380      Regular          0.046982429    \n",
       "     Item_Type             Item_MRP Outlet_Identifier Outlet_Establishment_Year\n",
       "1    Fruits and Vegetables 182.0950 OUT010            1998                     \n",
       "2    Snack Foods           107.7622 OUT027            1985                     \n",
       "3    Frozen Foods           96.9726 OUT045            2002                     \n",
       "4    Frozen Foods          187.8214 OUT017            2007                     \n",
       "5    Hard Drinks           113.2834 OUT027            1985                     \n",
       "6    Baking Goods          144.5444 OUT027            1985                     \n",
       "7    Baking Goods          107.6938 OUT019            1985                     \n",
       "8    Household              45.9060 OUT017            2007                     \n",
       "9    Dairy                  45.5086 OUT010            1998                     \n",
       "10   Canned                 43.6454 OUT019            1985                     \n",
       "11   Dairy                  55.7956 OUT010            1998                     \n",
       "12   Breads                 93.1436 OUT045            2002                     \n",
       "13   Fruits and Vegetables 128.0678 OUT027            1985                     \n",
       "14   Snack Foods            36.9874 OUT027            1985                     \n",
       "15   Snack Foods            87.6198 OUT027            1985                     \n",
       "16   Dairy                 178.1002 OUT010            1998                     \n",
       "17   Health and Hygiene    153.3024 OUT045            2002                     \n",
       "18   Canned                265.2226 OUT045            2002                     \n",
       "19   Dairy                 196.8794 OUT019            1985                     \n",
       "20   Fruits and Vegetables 196.3794 OUT017            2007                     \n",
       "21   Household             151.4708 OUT017            2007                     \n",
       "22   Household             106.1622 OUT045            2002                     \n",
       "23   Canned                180.0344 OUT019            1985                     \n",
       "24   Meat                   87.3514 OUT045            2002                     \n",
       "25   Fruits and Vegetables  38.2848 OUT027            1985                     \n",
       "26   Frozen Foods           51.0692 OUT019            1985                     \n",
       "27   Snack Foods           255.8356 OUT027            1985                     \n",
       "28   Snack Foods           185.4266 OUT010            1998                     \n",
       "29   Dairy                 186.0240 OUT045            2002                     \n",
       "30   Soft Drinks           164.8526 OUT045            2002                     \n",
       "⋮    ⋮                     ⋮        ⋮                 ⋮                        \n",
       "3844 Starchy Foods          37.6164 OUT027            1985                     \n",
       "3845 Fruits and Vegetables 119.1808 OUT045            2002                     \n",
       "3846 Baking Goods          180.5634 OUT045            2002                     \n",
       "3847 Fruits and Vegetables  76.8986 OUT045            2002                     \n",
       "3848 Snack Foods           182.1608 OUT019            1985                     \n",
       "3849 Health and Hygiene    163.0526 OUT017            2007                     \n",
       "3850 Health and Hygiene    182.9608 OUT027            1985                     \n",
       "3851 Hard Drinks           144.3128 OUT010            1998                     \n",
       "3852 Household             104.2332 OUT045            2002                     \n",
       "3853 Health and Hygiene     98.8384 OUT045            2002                     \n",
       "3854 Frozen Foods          198.1768 OUT017            2007                     \n",
       "3855 Snack Foods           154.5340 OUT019            1985                     \n",
       "3856 Fruits and Vegetables  56.0246 OUT045            2002                     \n",
       "3857 Hard Drinks           117.0834 OUT045            2002                     \n",
       "3858 Soft Drinks           189.0530 OUT027            1985                     \n",
       "3859 Fruits and Vegetables  46.4744 OUT010            1998                     \n",
       "3860 Soft Drinks           164.7526 OUT027            1985                     \n",
       "3861 Others                184.6608 OUT027            1985                     \n",
       "3862 Fruits and Vegetables 162.3552 OUT019            1985                     \n",
       "3863 Snack Foods           189.1872 OUT017            2007                     \n",
       "3864 Household             110.4912 OUT017            2007                     \n",
       "3865 Seafood               185.3582 OUT017            2007                     \n",
       "3866 Household             125.1678 OUT017            2007                     \n",
       "3867 Snack Foods           100.4358 OUT017            2007                     \n",
       "3868 Household             216.4192 OUT045            2002                     \n",
       "3869 Household             111.7544 OUT027            1985                     \n",
       "3870 Fruits and Vegetables 199.4742 OUT045            2002                     \n",
       "3871 Fruits and Vegetables 213.9902 OUT010            1998                     \n",
       "3872 Canned                 57.5904 OUT045            2002                     \n",
       "3873 Baking Goods          108.1570 OUT045            2002                     \n",
       "     Outlet_Size Outlet_Location_Type Outlet_Type       Item_Outlet_Sales\n",
       "1    NA          Tier 3               Grocery Store      732.3800        \n",
       "2    Medium      Tier 3               Supermarket Type3 4022.7636        \n",
       "3    NA          Tier 2               Supermarket Type1 1076.5986        \n",
       "4    NA          Tier 2               Supermarket Type1 4710.5350        \n",
       "5    Medium      Tier 3               Supermarket Type3 2303.6680        \n",
       "6    Medium      Tier 3               Supermarket Type3 4064.0432        \n",
       "7    Small       Tier 1               Grocery Store      214.3876        \n",
       "8    NA          Tier 2               Supermarket Type1  838.9080        \n",
       "9    NA          Tier 3               Grocery Store      178.4344        \n",
       "10   Small       Tier 1               Grocery Store      125.8362        \n",
       "11   NA          Tier 3               Grocery Store      163.7868        \n",
       "12   NA          Tier 2               Supermarket Type1 2174.5028        \n",
       "13   Medium      Tier 3               Supermarket Type3 2797.6916        \n",
       "14   Medium      Tier 3               Supermarket Type3  388.1614        \n",
       "15   Medium      Tier 3               Supermarket Type3 2180.4950        \n",
       "16   NA          Tier 3               Grocery Store      358.2004        \n",
       "17   NA          Tier 2               Supermarket Type1 2428.8384        \n",
       "18   NA          Tier 2               Supermarket Type1 5815.0972        \n",
       "19   Small       Tier 1               Grocery Store      780.3176        \n",
       "20   NA          Tier 2               Supermarket Type1 3121.2704        \n",
       "21   NA          Tier 2               Supermarket Type1 4815.0656        \n",
       "22   NA          Tier 2               Supermarket Type1 2117.2440        \n",
       "23   Small       Tier 1               Grocery Store      892.1720        \n",
       "24   NA          Tier 2               Supermarket Type1 1062.6168        \n",
       "25   Medium      Tier 3               Supermarket Type3  484.7024        \n",
       "26   Small       Tier 1               Grocery Store      147.8076        \n",
       "27   Medium      Tier 3               Supermarket Type3 2543.3560        \n",
       "28   NA          Tier 3               Grocery Store      184.4266        \n",
       "29   NA          Tier 2               Supermarket Type1 1118.5440        \n",
       "30   NA          Tier 2               Supermarket Type1 2302.3364        \n",
       "⋮    ⋮           ⋮                    ⋮                 ⋮                \n",
       "3844 Medium      Tier 3               Supermarket Type3  810.9444        \n",
       "3845 NA          Tier 2               Supermarket Type1  468.7232        \n",
       "3846 NA          Tier 2               Supermarket Type1 2726.4510        \n",
       "3847 NA          Tier 2               Supermarket Type1  467.3916        \n",
       "3848 Small       Tier 1               Grocery Store      367.5216        \n",
       "3849 NA          Tier 2               Supermarket Type1 2302.3364        \n",
       "3850 Medium      Tier 3               Supermarket Type3 1653.8472        \n",
       "3851 NA          Tier 3               Grocery Store      431.4384        \n",
       "3852 NA          Tier 2               Supermarket Type1 2153.1972        \n",
       "3853 NA          Tier 2               Supermarket Type1 1280.9992        \n",
       "3854 NA          Tier 2               Supermarket Type1 1970.7680        \n",
       "3855 Small       Tier 1               Grocery Store      459.4020        \n",
       "3856 NA          Tier 2               Supermarket Type1  695.0952        \n",
       "3857 NA          Tier 2               Supermarket Type1 1612.5676        \n",
       "3858 Medium      Tier 3               Supermarket Type3 6261.8490        \n",
       "3859 NA          Tier 3               Grocery Store       45.2744        \n",
       "3860 Medium      Tier 3               Supermarket Type3 4111.3150        \n",
       "3861 Medium      Tier 3               Supermarket Type3 2756.4120        \n",
       "3862 Small       Tier 1               Grocery Store      487.3656        \n",
       "3863 NA          Tier 2               Supermarket Type1 4727.1800        \n",
       "3864 NA          Tier 2               Supermarket Type1 1637.8680        \n",
       "3865 NA          Tier 2               Supermarket Type1 3715.1640        \n",
       "3866 NA          Tier 2               Supermarket Type1 1907.5170        \n",
       "3867 NA          Tier 2               Supermarket Type1 1508.0370        \n",
       "3868 NA          Tier 2               Supermarket Type1 3020.0688        \n",
       "3869 Medium      Tier 3               Supermarket Type3 4138.6128        \n",
       "3870 NA          Tier 2               Supermarket Type1 2587.9646        \n",
       "3871 NA          Tier 3               Grocery Store      424.7804        \n",
       "3872 NA          Tier 2               Supermarket Type1  468.7232        \n",
       "3873 NA          Tier 2               Supermarket Type1  549.2850        "
      ]
     },
     "metadata": {},
     "output_type": "display_data"
    }
   ],
   "source": [
    "# Previewing the Missing values\n",
    "\n",
    "df |>\n",
    "    # Filter the df for only missing records\n",
    "    filter(is.na(Outlet_Size) | is.na(Item_Weight))"
   ]
  },
  {
   "cell_type": "markdown",
   "id": "9a2d7555-2630-4ce2-946f-44686e978f83",
   "metadata": {},
   "source": [
    "### Univariate Analysis of Columns"
   ]
  },
  {
   "cell_type": "markdown",
   "id": "01d2b9e9-f4c1-4d60-bdff-fec8c2a14fd5",
   "metadata": {},
   "source": [
    "> The dataset consists of **5** numeric variables and **7** categorical variables."
   ]
  },
  {
   "cell_type": "code",
   "execution_count": 10,
   "id": "d54c8859-e018-4daa-8d09-c4b2cb4bf775",
   "metadata": {},
   "outputs": [
    {
     "data": {
      "text/html": [
       "<table class=\"dataframe\">\n",
       "<caption>A tibble: 1 × 9</caption>\n",
       "<thead>\n",
       "\t<tr><th scope=col>avg</th><th scope=col>std_dev</th><th scope=col>median</th><th scope=col>qtile_25</th><th scope=col>qtile_75</th><th scope=col>iqr</th><th scope=col>min</th><th scope=col>max</th><th scope=col>non_missing_rows</th></tr>\n",
       "\t<tr><th scope=col>&lt;dbl&gt;</th><th scope=col>&lt;dbl&gt;</th><th scope=col>&lt;dbl&gt;</th><th scope=col>&lt;dbl&gt;</th><th scope=col>&lt;dbl&gt;</th><th scope=col>&lt;dbl&gt;</th><th scope=col>&lt;dbl&gt;</th><th scope=col>&lt;dbl&gt;</th><th scope=col>&lt;int&gt;</th></tr>\n",
       "</thead>\n",
       "<tbody>\n",
       "\t<tr><td>12.85765</td><td>4.643456</td><td>12.6</td><td>8.77375</td><td>16.85</td><td>8.07625</td><td>4.555</td><td>21.35</td><td>7060</td></tr>\n",
       "</tbody>\n",
       "</table>\n"
      ],
      "text/latex": [
       "A tibble: 1 × 9\n",
       "\\begin{tabular}{lllllllll}\n",
       " avg & std\\_dev & median & qtile\\_25 & qtile\\_75 & iqr & min & max & non\\_missing\\_rows\\\\\n",
       " <dbl> & <dbl> & <dbl> & <dbl> & <dbl> & <dbl> & <dbl> & <dbl> & <int>\\\\\n",
       "\\hline\n",
       "\t 12.85765 & 4.643456 & 12.6 & 8.77375 & 16.85 & 8.07625 & 4.555 & 21.35 & 7060\\\\\n",
       "\\end{tabular}\n"
      ],
      "text/markdown": [
       "\n",
       "A tibble: 1 × 9\n",
       "\n",
       "| avg &lt;dbl&gt; | std_dev &lt;dbl&gt; | median &lt;dbl&gt; | qtile_25 &lt;dbl&gt; | qtile_75 &lt;dbl&gt; | iqr &lt;dbl&gt; | min &lt;dbl&gt; | max &lt;dbl&gt; | non_missing_rows &lt;int&gt; |\n",
       "|---|---|---|---|---|---|---|---|---|\n",
       "| 12.85765 | 4.643456 | 12.6 | 8.77375 | 16.85 | 8.07625 | 4.555 | 21.35 | 7060 |\n",
       "\n"
      ],
      "text/plain": [
       "  avg      std_dev  median qtile_25 qtile_75 iqr     min   max  \n",
       "1 12.85765 4.643456 12.6   8.77375  16.85    8.07625 4.555 21.35\n",
       "  non_missing_rows\n",
       "1 7060            "
      ]
     },
     "metadata": {},
     "output_type": "display_data"
    }
   ],
   "source": [
    "# Previewing Item Weight\n",
    "df |>\n",
    "    # Select the Item_Weight Col\n",
    "    select(Item_Weight) |>\n",
    "    summarise(avg=mean(Item_Weight, na.rm = TRUE), \n",
    "              std_dev=sd(Item_Weight, na.rm=TRUE), \n",
    "              median=median(Item_Weight, na.rm=TRUE),\n",
    "              qtile_25 = quantile(Item_Weight, probs=0.25, na.rm=TRUE),\n",
    "              qtile_75 = quantile(Item_Weight, probs=0.75, na.rm=TRUE),\n",
    "              iqr = IQR(Item_Weight, na.rm=TRUE),\n",
    "              min = min(Item_Weight, na.rm=TRUE),\n",
    "              max = max(Item_Weight, na.rm=TRUE),\n",
    "              non_missing_rows = NROW(Item_Weight[!is.na(Item_Weight)])\n",
    "             )"
   ]
  },
  {
   "cell_type": "code",
   "execution_count": 11,
   "id": "6e3d6e4c-9fce-4639-b31d-0491c83a3962",
   "metadata": {},
   "outputs": [
    {
     "name": "stderr",
     "output_type": "stream",
     "text": [
      "Warning message:\n",
      "\"\u001b[1m\u001b[22mRemoved 1463 rows containing non-finite values (`stat_bin()`).\"\n"
     ]
    },
    {
     "data": {
      "image/png": "[encoded data removed]",
      "text/plain": [
       "plot without title"
      ]
     },
     "metadata": {
      "image/png": {
       "height": 420,
       "width": 420
      }
     },
     "output_type": "display_data"
    }
   ],
   "source": [
    "# Previewing Item Weight\n",
    "df |>\n",
    "    # Select the Item_Weight Col\n",
    "    select(Item_Weight) |>\n",
    "ggplot( \n",
    "    aes(x = Item_Weight)) +\n",
    "geom_histogram(bins = 35) +\n",
    "geom_vline(xintercept=mean(df$Item_Weight, na.rm = TRUE))"
   ]
  },
  {
   "cell_type": "markdown",
   "id": "0cf8742f-6212-4570-8a12-57595f584a59",
   "metadata": {},
   "source": [
    "> This histogram shows a fairly uniformly distributed Item-Weight."
   ]
  },
  {
   "cell_type": "code",
   "execution_count": 12,
   "id": "1a773569-20a8-4f28-a6de-f38299357ca7",
   "metadata": {},
   "outputs": [
    {
     "data": {
      "text/html": [
       "<table class=\"dataframe\">\n",
       "<caption>A tibble: 1 × 9</caption>\n",
       "<thead>\n",
       "\t<tr><th scope=col>avg</th><th scope=col>std_dev</th><th scope=col>median</th><th scope=col>qtile_25</th><th scope=col>qtile_75</th><th scope=col>iqr</th><th scope=col>min</th><th scope=col>max</th><th scope=col>non_missing_rows</th></tr>\n",
       "\t<tr><th scope=col>&lt;dbl&gt;</th><th scope=col>&lt;dbl&gt;</th><th scope=col>&lt;dbl&gt;</th><th scope=col>&lt;dbl&gt;</th><th scope=col>&lt;dbl&gt;</th><th scope=col>&lt;dbl&gt;</th><th scope=col>&lt;dbl&gt;</th><th scope=col>&lt;dbl&gt;</th><th scope=col>&lt;int&gt;</th></tr>\n",
       "</thead>\n",
       "<tbody>\n",
       "\t<tr><td>0.06613203</td><td>0.05159782</td><td>0.05393093</td><td>0.02698948</td><td>0.09458529</td><td>0.06759582</td><td>0</td><td>0.3283909</td><td>8523</td></tr>\n",
       "</tbody>\n",
       "</table>\n"
      ],
      "text/latex": [
       "A tibble: 1 × 9\n",
       "\\begin{tabular}{lllllllll}\n",
       " avg & std\\_dev & median & qtile\\_25 & qtile\\_75 & iqr & min & max & non\\_missing\\_rows\\\\\n",
       " <dbl> & <dbl> & <dbl> & <dbl> & <dbl> & <dbl> & <dbl> & <dbl> & <int>\\\\\n",
       "\\hline\n",
       "\t 0.06613203 & 0.05159782 & 0.05393093 & 0.02698948 & 0.09458529 & 0.06759582 & 0 & 0.3283909 & 8523\\\\\n",
       "\\end{tabular}\n"
      ],
      "text/markdown": [
       "\n",
       "A tibble: 1 × 9\n",
       "\n",
       "| avg &lt;dbl&gt; | std_dev &lt;dbl&gt; | median &lt;dbl&gt; | qtile_25 &lt;dbl&gt; | qtile_75 &lt;dbl&gt; | iqr &lt;dbl&gt; | min &lt;dbl&gt; | max &lt;dbl&gt; | non_missing_rows &lt;int&gt; |\n",
       "|---|---|---|---|---|---|---|---|---|\n",
       "| 0.06613203 | 0.05159782 | 0.05393093 | 0.02698948 | 0.09458529 | 0.06759582 | 0 | 0.3283909 | 8523 |\n",
       "\n"
      ],
      "text/plain": [
       "  avg        std_dev    median     qtile_25   qtile_75   iqr        min\n",
       "1 0.06613203 0.05159782 0.05393093 0.02698948 0.09458529 0.06759582 0  \n",
       "  max       non_missing_rows\n",
       "1 0.3283909 8523            "
      ]
     },
     "metadata": {},
     "output_type": "display_data"
    }
   ],
   "source": [
    "# Previewing Item_Visibility\n",
    "df |>\n",
    "    # Select the Item_Weight Col\n",
    "    select(Item_Visibility) |>\n",
    "    summarise(avg=mean(Item_Visibility, na.rm = TRUE), \n",
    "              std_dev=sd(Item_Visibility, na.rm=TRUE), \n",
    "              median=median(Item_Visibility, na.rm=TRUE),\n",
    "              qtile_25 = quantile(Item_Visibility, probs=0.25, na.rm=TRUE),\n",
    "              qtile_75 = quantile(Item_Visibility, probs=0.75, na.rm=TRUE),\n",
    "              iqr = IQR(Item_Visibility, na.rm=TRUE),\n",
    "              min = min(Item_Visibility, na.rm=TRUE),\n",
    "              max = max(Item_Visibility, na.rm=TRUE),\n",
    "              non_missing_rows = NROW(Item_Visibility[!is.na(Item_Visibility)])\n",
    "             )"
   ]
  },
  {
   "cell_type": "code",
   "execution_count": 13,
   "id": "a0bd3ae6-7346-4785-bd03-6610645d2bb7",
   "metadata": {},
   "outputs": [
    {
     "data": {
      "image/png": "[encoded data removed]",
      "text/plain": [
       "plot without title"
      ]
     },
     "metadata": {
      "image/png": {
       "height": 420,
       "width": 420
      }
     },
     "output_type": "display_data"
    }
   ],
   "source": [
    "# Previewing Item_Visibility\n",
    "df |>\n",
    "    # Select the Item_Visibility Col\n",
    "    select(Item_Visibility) |>\n",
    "ggplot( \n",
    "    aes(x = Item_Visibility)) +\n",
    "geom_histogram(bins = 35) +\n",
    "geom_vline(xintercept=mean(df$Item_Visibility, na.rm = TRUE))"
   ]
  },
  {
   "cell_type": "markdown",
   "id": "afc00534-f500-446b-a34d-cf3fc8606951",
   "metadata": {},
   "source": [
    "> The histogram shows a positively skewed distribution where most records are between 0.0 and 0.2."
   ]
  },
  {
   "cell_type": "code",
   "execution_count": 14,
   "id": "ae790f43-df9a-4916-a0f8-68585bd50fb8",
   "metadata": {},
   "outputs": [
    {
     "data": {
      "text/html": [
       "<table class=\"dataframe\">\n",
       "<caption>A tibble: 1 × 9</caption>\n",
       "<thead>\n",
       "\t<tr><th scope=col>avg</th><th scope=col>std_dev</th><th scope=col>median</th><th scope=col>qtile_25</th><th scope=col>qtile_75</th><th scope=col>iqr</th><th scope=col>min</th><th scope=col>max</th><th scope=col>non_missing_rows</th></tr>\n",
       "\t<tr><th scope=col>&lt;dbl&gt;</th><th scope=col>&lt;dbl&gt;</th><th scope=col>&lt;dbl&gt;</th><th scope=col>&lt;dbl&gt;</th><th scope=col>&lt;dbl&gt;</th><th scope=col>&lt;dbl&gt;</th><th scope=col>&lt;dbl&gt;</th><th scope=col>&lt;dbl&gt;</th><th scope=col>&lt;int&gt;</th></tr>\n",
       "</thead>\n",
       "<tbody>\n",
       "\t<tr><td>140.9928</td><td>62.27507</td><td>143.0128</td><td>93.8265</td><td>185.6437</td><td>91.8172</td><td>31.29</td><td>266.8884</td><td>8523</td></tr>\n",
       "</tbody>\n",
       "</table>\n"
      ],
      "text/latex": [
       "A tibble: 1 × 9\n",
       "\\begin{tabular}{lllllllll}\n",
       " avg & std\\_dev & median & qtile\\_25 & qtile\\_75 & iqr & min & max & non\\_missing\\_rows\\\\\n",
       " <dbl> & <dbl> & <dbl> & <dbl> & <dbl> & <dbl> & <dbl> & <dbl> & <int>\\\\\n",
       "\\hline\n",
       "\t 140.9928 & 62.27507 & 143.0128 & 93.8265 & 185.6437 & 91.8172 & 31.29 & 266.8884 & 8523\\\\\n",
       "\\end{tabular}\n"
      ],
      "text/markdown": [
       "\n",
       "A tibble: 1 × 9\n",
       "\n",
       "| avg &lt;dbl&gt; | std_dev &lt;dbl&gt; | median &lt;dbl&gt; | qtile_25 &lt;dbl&gt; | qtile_75 &lt;dbl&gt; | iqr &lt;dbl&gt; | min &lt;dbl&gt; | max &lt;dbl&gt; | non_missing_rows &lt;int&gt; |\n",
       "|---|---|---|---|---|---|---|---|---|\n",
       "| 140.9928 | 62.27507 | 143.0128 | 93.8265 | 185.6437 | 91.8172 | 31.29 | 266.8884 | 8523 |\n",
       "\n"
      ],
      "text/plain": [
       "  avg      std_dev  median   qtile_25 qtile_75 iqr     min   max     \n",
       "1 140.9928 62.27507 143.0128 93.8265  185.6437 91.8172 31.29 266.8884\n",
       "  non_missing_rows\n",
       "1 8523            "
      ]
     },
     "metadata": {},
     "output_type": "display_data"
    }
   ],
   "source": [
    "# Previewing Item_MRP\n",
    "df |>\n",
    "    # Select the Item_Weight Col\n",
    "    select(Item_MRP) |>\n",
    "    summarise(avg=mean(Item_MRP, na.rm = TRUE), \n",
    "              std_dev=sd(Item_MRP, na.rm=TRUE), \n",
    "              median=median(Item_MRP, na.rm=TRUE),\n",
    "              qtile_25 = quantile(Item_MRP, probs=0.25, na.rm=TRUE),\n",
    "              qtile_75 = quantile(Item_MRP, probs=0.75, na.rm=TRUE),              \n",
    "              iqr = IQR(Item_MRP, na.rm=TRUE),\n",
    "              min = min(Item_MRP, na.rm=TRUE),\n",
    "              max = max(Item_MRP, na.rm=TRUE),\n",
    "              non_missing_rows = NROW(Item_MRP[!is.na(Item_MRP)])\n",
    "             )"
   ]
  },
  {
   "cell_type": "code",
   "execution_count": 15,
   "id": "1151069d-fabf-43dc-b849-686627a6dc8a",
   "metadata": {},
   "outputs": [
    {
     "data": {
      "image/png": "[encoded data removed]",
      "text/plain": [
       "plot without title"
      ]
     },
     "metadata": {
      "image/png": {
       "height": 420,
       "width": 420
      }
     },
     "output_type": "display_data"
    }
   ],
   "source": [
    "# Previewing Item_MRP\n",
    "df |>\n",
    "    # Select the Item_MRP Col\n",
    "    select(Item_MRP) |>\n",
    "ggplot( \n",
    "    aes(x = Item_MRP)) +\n",
    "geom_histogram(bins = 35) +\n",
    "geom_vline(xintercept=mean(df$Item_MRP, na.rm = TRUE))"
   ]
  },
  {
   "cell_type": "markdown",
   "id": "7236dfc6-d1cc-4bb8-9e72-d2ed2aeede0c",
   "metadata": {},
   "source": [
    "> Above distribution is bi-modal with most MRP occuring arround 100 and 175. "
   ]
  },
  {
   "cell_type": "code",
   "execution_count": 16,
   "id": "f58c84c9-a864-446a-98d3-105feeb22e22",
   "metadata": {},
   "outputs": [
    {
     "data": {
      "text/html": [
       "<table class=\"dataframe\">\n",
       "<caption>A tibble: 1 × 9</caption>\n",
       "<thead>\n",
       "\t<tr><th scope=col>avg</th><th scope=col>std_dev</th><th scope=col>median</th><th scope=col>qtile_25</th><th scope=col>qtile_75</th><th scope=col>iqr</th><th scope=col>min</th><th scope=col>max</th><th scope=col>non_missing_rows</th></tr>\n",
       "\t<tr><th scope=col>&lt;dbl&gt;</th><th scope=col>&lt;dbl&gt;</th><th scope=col>&lt;dbl&gt;</th><th scope=col>&lt;dbl&gt;</th><th scope=col>&lt;dbl&gt;</th><th scope=col>&lt;dbl&gt;</th><th scope=col>&lt;dbl&gt;</th><th scope=col>&lt;dbl&gt;</th><th scope=col>&lt;int&gt;</th></tr>\n",
       "</thead>\n",
       "<tbody>\n",
       "\t<tr><td>2181.289</td><td>1706.5</td><td>1794.331</td><td>834.2474</td><td>3101.296</td><td>2267.049</td><td>33.29</td><td>13086.96</td><td>8523</td></tr>\n",
       "</tbody>\n",
       "</table>\n"
      ],
      "text/latex": [
       "A tibble: 1 × 9\n",
       "\\begin{tabular}{lllllllll}\n",
       " avg & std\\_dev & median & qtile\\_25 & qtile\\_75 & iqr & min & max & non\\_missing\\_rows\\\\\n",
       " <dbl> & <dbl> & <dbl> & <dbl> & <dbl> & <dbl> & <dbl> & <dbl> & <int>\\\\\n",
       "\\hline\n",
       "\t 2181.289 & 1706.5 & 1794.331 & 834.2474 & 3101.296 & 2267.049 & 33.29 & 13086.96 & 8523\\\\\n",
       "\\end{tabular}\n"
      ],
      "text/markdown": [
       "\n",
       "A tibble: 1 × 9\n",
       "\n",
       "| avg &lt;dbl&gt; | std_dev &lt;dbl&gt; | median &lt;dbl&gt; | qtile_25 &lt;dbl&gt; | qtile_75 &lt;dbl&gt; | iqr &lt;dbl&gt; | min &lt;dbl&gt; | max &lt;dbl&gt; | non_missing_rows &lt;int&gt; |\n",
       "|---|---|---|---|---|---|---|---|---|\n",
       "| 2181.289 | 1706.5 | 1794.331 | 834.2474 | 3101.296 | 2267.049 | 33.29 | 13086.96 | 8523 |\n",
       "\n"
      ],
      "text/plain": [
       "  avg      std_dev median   qtile_25 qtile_75 iqr      min   max     \n",
       "1 2181.289 1706.5  1794.331 834.2474 3101.296 2267.049 33.29 13086.96\n",
       "  non_missing_rows\n",
       "1 8523            "
      ]
     },
     "metadata": {},
     "output_type": "display_data"
    }
   ],
   "source": [
    "# Previewing Item_Outlet_Sales\n",
    "df |>\n",
    "    # Select the Item_Weight Col\n",
    "    select(Item_Outlet_Sales) |>\n",
    "    summarise(avg=mean(Item_Outlet_Sales, na.rm = TRUE), \n",
    "              std_dev=sd(Item_Outlet_Sales, na.rm=TRUE), \n",
    "              median=median(Item_Outlet_Sales, na.rm=TRUE),\n",
    "              qtile_25 = quantile(Item_Outlet_Sales, probs=0.25, na.rm=TRUE),\n",
    "              qtile_75 = quantile(Item_Outlet_Sales, probs=0.75, na.rm=TRUE),\n",
    "              iqr = IQR(Item_Outlet_Sales, na.rm=TRUE),\n",
    "              min = min(Item_Outlet_Sales, na.rm=TRUE),\n",
    "              max = max(Item_Outlet_Sales, na.rm=TRUE),\n",
    "              non_missing_rows = NROW(Item_Outlet_Sales[!is.na(Item_Outlet_Sales)])\n",
    "             )"
   ]
  },
  {
   "cell_type": "code",
   "execution_count": 17,
   "id": "59f3bd15-cc8e-433c-b587-daf7b629cc1c",
   "metadata": {},
   "outputs": [
    {
     "data": {
      "image/png": "[encoded data removed]",
      "text/plain": [
       "plot without title"
      ]
     },
     "metadata": {
      "image/png": {
       "height": 420,
       "width": 420
      }
     },
     "output_type": "display_data"
    }
   ],
   "source": [
    "# Previewing Item_Outlet_Sales\n",
    "df |>\n",
    "    # Select the Item_Outlet_Sales Col\n",
    "    select(Item_Outlet_Sales) |>\n",
    "ggplot( \n",
    "    aes(x = Item_Outlet_Sales)) +\n",
    "geom_histogram(bins = 35) +\n",
    "geom_vline(xintercept=mean(df$Item_Outlet_Sales, na.rm = TRUE))"
   ]
  },
  {
   "cell_type": "markdown",
   "id": "46d5969a-4e9c-44c9-83ee-975464e3ccea",
   "metadata": {},
   "source": [
    "> The above histogram shows that majority of the values lie between 0-7500."
   ]
  },
  {
   "cell_type": "code",
   "execution_count": 18,
   "id": "f3e4377f-0a2b-4197-9b71-3a2bf06a8166",
   "metadata": {},
   "outputs": [
    {
     "data": {
      "image/png": "[encoded data removed]",
      "text/plain": [
       "plot without title"
      ]
     },
     "metadata": {
      "image/png": {
       "height": 420,
       "width": 420
      }
     },
     "output_type": "display_data"
    }
   ],
   "source": [
    "# Analyzing the Outlet_Establishment_Year\n",
    "df |>\n",
    "    select(Outlet_Establishment_Year) |>\n",
    "    summarise(.by=Outlet_Establishment_Year, count=n()) |>\n",
    "ggplot(\n",
    "    aes(x=reorder(Outlet_Establishment_Year, -Outlet_Establishment_Year), y=count, fill=Outlet_Establishment_Year)\n",
    ") +\n",
    "geom_col() + \n",
    "xlab(\"Year Established\") +\n",
    "ylab(\"Count\") +\n",
    "coord_flip()"
   ]
  },
  {
   "cell_type": "markdown",
   "id": "2174447a-d04c-4edf-a80c-8f5b62086a8b",
   "metadata": {},
   "source": [
    "> The chart above shows that most outlets were established in 1985. Less outlets were established in 1998 but since then a study number of outlets has been established till 2009."
   ]
  },
  {
   "cell_type": "markdown",
   "id": "b97b4acc-c59b-4196-b406-38b332ba24b1",
   "metadata": {},
   "source": [
    "### Analyzing the Categorical Variables"
   ]
  },
  {
   "cell_type": "code",
   "execution_count": 19,
   "id": "0dda744e-e194-4e7e-8202-9cff8a20ef92",
   "metadata": {},
   "outputs": [
    {
     "data": {
      "text/html": [
       "<table class=\"dataframe\">\n",
       "<caption>A tibble: 1559 × 2</caption>\n",
       "<thead>\n",
       "\t<tr><th scope=col>Item_Identifier</th><th scope=col>count</th></tr>\n",
       "\t<tr><th scope=col>&lt;chr&gt;</th><th scope=col>&lt;int&gt;</th></tr>\n",
       "</thead>\n",
       "<tbody>\n",
       "\t<tr><td>FDA15</td><td>8</td></tr>\n",
       "\t<tr><td>DRC01</td><td>6</td></tr>\n",
       "\t<tr><td>FDN15</td><td>7</td></tr>\n",
       "\t<tr><td>FDX07</td><td>6</td></tr>\n",
       "\t<tr><td>NCD19</td><td>6</td></tr>\n",
       "\t<tr><td>FDP36</td><td>3</td></tr>\n",
       "\t<tr><td>FDO10</td><td>8</td></tr>\n",
       "\t<tr><td>FDP10</td><td>7</td></tr>\n",
       "\t<tr><td>FDH17</td><td>7</td></tr>\n",
       "\t<tr><td>FDU28</td><td>5</td></tr>\n",
       "\t<tr><td>FDY07</td><td>7</td></tr>\n",
       "\t<tr><td>FDA03</td><td>6</td></tr>\n",
       "\t<tr><td>FDX32</td><td>7</td></tr>\n",
       "\t<tr><td>FDS46</td><td>5</td></tr>\n",
       "\t<tr><td>FDF32</td><td>5</td></tr>\n",
       "\t<tr><td>FDP49</td><td>7</td></tr>\n",
       "\t<tr><td>NCB42</td><td>6</td></tr>\n",
       "\t<tr><td>DRI11</td><td>7</td></tr>\n",
       "\t<tr><td>FDU02</td><td>7</td></tr>\n",
       "\t<tr><td>FDN22</td><td>4</td></tr>\n",
       "\t<tr><td>FDW12</td><td>7</td></tr>\n",
       "\t<tr><td>NCB30</td><td>7</td></tr>\n",
       "\t<tr><td>FDC37</td><td>3</td></tr>\n",
       "\t<tr><td>FDR28</td><td>5</td></tr>\n",
       "\t<tr><td>NCD06</td><td>5</td></tr>\n",
       "\t<tr><td>FDV10</td><td>5</td></tr>\n",
       "\t<tr><td>DRJ59</td><td>6</td></tr>\n",
       "\t<tr><td>FDE51</td><td>7</td></tr>\n",
       "\t<tr><td>FDC14</td><td>8</td></tr>\n",
       "\t<tr><td>FDV38</td><td>9</td></tr>\n",
       "\t<tr><td>⋮</td><td>⋮</td></tr>\n",
       "\t<tr><td>FDD33</td><td>4</td></tr>\n",
       "\t<tr><td>DRC49</td><td>3</td></tr>\n",
       "\t<tr><td>FDB10</td><td>2</td></tr>\n",
       "\t<tr><td>FDS39</td><td>3</td></tr>\n",
       "\t<tr><td>NCU29</td><td>3</td></tr>\n",
       "\t<tr><td>NCP14</td><td>3</td></tr>\n",
       "\t<tr><td>FDC48</td><td>4</td></tr>\n",
       "\t<tr><td>FDW14</td><td>3</td></tr>\n",
       "\t<tr><td>FDS36</td><td>6</td></tr>\n",
       "\t<tr><td>NCA18</td><td>4</td></tr>\n",
       "\t<tr><td>FDQ60</td><td>1</td></tr>\n",
       "\t<tr><td>FDI36</td><td>2</td></tr>\n",
       "\t<tr><td>FDI05</td><td>3</td></tr>\n",
       "\t<tr><td>FDS22</td><td>3</td></tr>\n",
       "\t<tr><td>FDN40</td><td>4</td></tr>\n",
       "\t<tr><td>NCV18</td><td>2</td></tr>\n",
       "\t<tr><td>FDP15</td><td>2</td></tr>\n",
       "\t<tr><td>NCD55</td><td>4</td></tr>\n",
       "\t<tr><td>DRG25</td><td>2</td></tr>\n",
       "\t<tr><td>FDN51</td><td>3</td></tr>\n",
       "\t<tr><td>FDB46</td><td>4</td></tr>\n",
       "\t<tr><td>NCX17</td><td>3</td></tr>\n",
       "\t<tr><td>FDH31</td><td>5</td></tr>\n",
       "\t<tr><td>FDX13</td><td>5</td></tr>\n",
       "\t<tr><td>NCU53</td><td>4</td></tr>\n",
       "\t<tr><td>FDD28</td><td>4</td></tr>\n",
       "\t<tr><td>FDU43</td><td>2</td></tr>\n",
       "\t<tr><td>NCF55</td><td>3</td></tr>\n",
       "\t<tr><td>NCW30</td><td>2</td></tr>\n",
       "\t<tr><td>NCW05</td><td>2</td></tr>\n",
       "</tbody>\n",
       "</table>\n"
      ],
      "text/latex": [
       "A tibble: 1559 × 2\n",
       "\\begin{tabular}{ll}\n",
       " Item\\_Identifier & count\\\\\n",
       " <chr> & <int>\\\\\n",
       "\\hline\n",
       "\t FDA15 & 8\\\\\n",
       "\t DRC01 & 6\\\\\n",
       "\t FDN15 & 7\\\\\n",
       "\t FDX07 & 6\\\\\n",
       "\t NCD19 & 6\\\\\n",
       "\t FDP36 & 3\\\\\n",
       "\t FDO10 & 8\\\\\n",
       "\t FDP10 & 7\\\\\n",
       "\t FDH17 & 7\\\\\n",
       "\t FDU28 & 5\\\\\n",
       "\t FDY07 & 7\\\\\n",
       "\t FDA03 & 6\\\\\n",
       "\t FDX32 & 7\\\\\n",
       "\t FDS46 & 5\\\\\n",
       "\t FDF32 & 5\\\\\n",
       "\t FDP49 & 7\\\\\n",
       "\t NCB42 & 6\\\\\n",
       "\t DRI11 & 7\\\\\n",
       "\t FDU02 & 7\\\\\n",
       "\t FDN22 & 4\\\\\n",
       "\t FDW12 & 7\\\\\n",
       "\t NCB30 & 7\\\\\n",
       "\t FDC37 & 3\\\\\n",
       "\t FDR28 & 5\\\\\n",
       "\t NCD06 & 5\\\\\n",
       "\t FDV10 & 5\\\\\n",
       "\t DRJ59 & 6\\\\\n",
       "\t FDE51 & 7\\\\\n",
       "\t FDC14 & 8\\\\\n",
       "\t FDV38 & 9\\\\\n",
       "\t ⋮ & ⋮\\\\\n",
       "\t FDD33 & 4\\\\\n",
       "\t DRC49 & 3\\\\\n",
       "\t FDB10 & 2\\\\\n",
       "\t FDS39 & 3\\\\\n",
       "\t NCU29 & 3\\\\\n",
       "\t NCP14 & 3\\\\\n",
       "\t FDC48 & 4\\\\\n",
       "\t FDW14 & 3\\\\\n",
       "\t FDS36 & 6\\\\\n",
       "\t NCA18 & 4\\\\\n",
       "\t FDQ60 & 1\\\\\n",
       "\t FDI36 & 2\\\\\n",
       "\t FDI05 & 3\\\\\n",
       "\t FDS22 & 3\\\\\n",
       "\t FDN40 & 4\\\\\n",
       "\t NCV18 & 2\\\\\n",
       "\t FDP15 & 2\\\\\n",
       "\t NCD55 & 4\\\\\n",
       "\t DRG25 & 2\\\\\n",
       "\t FDN51 & 3\\\\\n",
       "\t FDB46 & 4\\\\\n",
       "\t NCX17 & 3\\\\\n",
       "\t FDH31 & 5\\\\\n",
       "\t FDX13 & 5\\\\\n",
       "\t NCU53 & 4\\\\\n",
       "\t FDD28 & 4\\\\\n",
       "\t FDU43 & 2\\\\\n",
       "\t NCF55 & 3\\\\\n",
       "\t NCW30 & 2\\\\\n",
       "\t NCW05 & 2\\\\\n",
       "\\end{tabular}\n"
      ],
      "text/markdown": [
       "\n",
       "A tibble: 1559 × 2\n",
       "\n",
       "| Item_Identifier &lt;chr&gt; | count &lt;int&gt; |\n",
       "|---|---|\n",
       "| FDA15 | 8 |\n",
       "| DRC01 | 6 |\n",
       "| FDN15 | 7 |\n",
       "| FDX07 | 6 |\n",
       "| NCD19 | 6 |\n",
       "| FDP36 | 3 |\n",
       "| FDO10 | 8 |\n",
       "| FDP10 | 7 |\n",
       "| FDH17 | 7 |\n",
       "| FDU28 | 5 |\n",
       "| FDY07 | 7 |\n",
       "| FDA03 | 6 |\n",
       "| FDX32 | 7 |\n",
       "| FDS46 | 5 |\n",
       "| FDF32 | 5 |\n",
       "| FDP49 | 7 |\n",
       "| NCB42 | 6 |\n",
       "| DRI11 | 7 |\n",
       "| FDU02 | 7 |\n",
       "| FDN22 | 4 |\n",
       "| FDW12 | 7 |\n",
       "| NCB30 | 7 |\n",
       "| FDC37 | 3 |\n",
       "| FDR28 | 5 |\n",
       "| NCD06 | 5 |\n",
       "| FDV10 | 5 |\n",
       "| DRJ59 | 6 |\n",
       "| FDE51 | 7 |\n",
       "| FDC14 | 8 |\n",
       "| FDV38 | 9 |\n",
       "| ⋮ | ⋮ |\n",
       "| FDD33 | 4 |\n",
       "| DRC49 | 3 |\n",
       "| FDB10 | 2 |\n",
       "| FDS39 | 3 |\n",
       "| NCU29 | 3 |\n",
       "| NCP14 | 3 |\n",
       "| FDC48 | 4 |\n",
       "| FDW14 | 3 |\n",
       "| FDS36 | 6 |\n",
       "| NCA18 | 4 |\n",
       "| FDQ60 | 1 |\n",
       "| FDI36 | 2 |\n",
       "| FDI05 | 3 |\n",
       "| FDS22 | 3 |\n",
       "| FDN40 | 4 |\n",
       "| NCV18 | 2 |\n",
       "| FDP15 | 2 |\n",
       "| NCD55 | 4 |\n",
       "| DRG25 | 2 |\n",
       "| FDN51 | 3 |\n",
       "| FDB46 | 4 |\n",
       "| NCX17 | 3 |\n",
       "| FDH31 | 5 |\n",
       "| FDX13 | 5 |\n",
       "| NCU53 | 4 |\n",
       "| FDD28 | 4 |\n",
       "| FDU43 | 2 |\n",
       "| NCF55 | 3 |\n",
       "| NCW30 | 2 |\n",
       "| NCW05 | 2 |\n",
       "\n"
      ],
      "text/plain": [
       "     Item_Identifier count\n",
       "1    FDA15           8    \n",
       "2    DRC01           6    \n",
       "3    FDN15           7    \n",
       "4    FDX07           6    \n",
       "5    NCD19           6    \n",
       "6    FDP36           3    \n",
       "7    FDO10           8    \n",
       "8    FDP10           7    \n",
       "9    FDH17           7    \n",
       "10   FDU28           5    \n",
       "11   FDY07           7    \n",
       "12   FDA03           6    \n",
       "13   FDX32           7    \n",
       "14   FDS46           5    \n",
       "15   FDF32           5    \n",
       "16   FDP49           7    \n",
       "17   NCB42           6    \n",
       "18   DRI11           7    \n",
       "19   FDU02           7    \n",
       "20   FDN22           4    \n",
       "21   FDW12           7    \n",
       "22   NCB30           7    \n",
       "23   FDC37           3    \n",
       "24   FDR28           5    \n",
       "25   NCD06           5    \n",
       "26   FDV10           5    \n",
       "27   DRJ59           6    \n",
       "28   FDE51           7    \n",
       "29   FDC14           8    \n",
       "30   FDV38           9    \n",
       "⋮    ⋮               ⋮    \n",
       "1530 FDD33           4    \n",
       "1531 DRC49           3    \n",
       "1532 FDB10           2    \n",
       "1533 FDS39           3    \n",
       "1534 NCU29           3    \n",
       "1535 NCP14           3    \n",
       "1536 FDC48           4    \n",
       "1537 FDW14           3    \n",
       "1538 FDS36           6    \n",
       "1539 NCA18           4    \n",
       "1540 FDQ60           1    \n",
       "1541 FDI36           2    \n",
       "1542 FDI05           3    \n",
       "1543 FDS22           3    \n",
       "1544 FDN40           4    \n",
       "1545 NCV18           2    \n",
       "1546 FDP15           2    \n",
       "1547 NCD55           4    \n",
       "1548 DRG25           2    \n",
       "1549 FDN51           3    \n",
       "1550 FDB46           4    \n",
       "1551 NCX17           3    \n",
       "1552 FDH31           5    \n",
       "1553 FDX13           5    \n",
       "1554 NCU53           4    \n",
       "1555 FDD28           4    \n",
       "1556 FDU43           2    \n",
       "1557 NCF55           3    \n",
       "1558 NCW30           2    \n",
       "1559 NCW05           2    "
      ]
     },
     "metadata": {},
     "output_type": "display_data"
    }
   ],
   "source": [
    "# Analyzing the Item_Identifier\n",
    "df |>\n",
    "    select(Item_Identifier) |>\n",
    "    summarise(.by=Item_Identifier, count=n()) #|>\n",
    "    # Select the top 10\n",
    "    # slice_max(count, n=10) |>\n",
    "# ggplot(\n",
    "#     aes(x=reorder(Item_Identifier, count), y=count)\n",
    "# ) +\n",
    "# geom_col() + \n",
    "# coord_flip()"
   ]
  },
  {
   "cell_type": "markdown",
   "id": "42ec9ab2-bb27-4a03-a34b-f5c2bdccf509",
   "metadata": {},
   "source": [
    "> From the above, there aren't enough records for each group to use this filed in my predictive model. This is because each subgroup has at most 10 records. Some prediction algorithms run into errors when a subgroup has a low number of observations. I will test this is my predictive model and provide feedback."
   ]
  },
  {
   "cell_type": "code",
   "execution_count": 20,
   "id": "d799f430-0295-4458-9a76-893a2a1f9ac3",
   "metadata": {},
   "outputs": [
    {
     "data": {
      "text/html": [
       "<table class=\"dataframe\">\n",
       "<caption>A tibble: 5 × 2</caption>\n",
       "<thead>\n",
       "\t<tr><th scope=col>Item_Fat_Content</th><th scope=col>count</th></tr>\n",
       "\t<tr><th scope=col>&lt;chr&gt;</th><th scope=col>&lt;int&gt;</th></tr>\n",
       "</thead>\n",
       "<tbody>\n",
       "\t<tr><td>Low Fat</td><td>5089</td></tr>\n",
       "\t<tr><td>Regular</td><td>2889</td></tr>\n",
       "\t<tr><td>low fat</td><td> 112</td></tr>\n",
       "\t<tr><td>LF     </td><td> 316</td></tr>\n",
       "\t<tr><td>reg    </td><td> 117</td></tr>\n",
       "</tbody>\n",
       "</table>\n"
      ],
      "text/latex": [
       "A tibble: 5 × 2\n",
       "\\begin{tabular}{ll}\n",
       " Item\\_Fat\\_Content & count\\\\\n",
       " <chr> & <int>\\\\\n",
       "\\hline\n",
       "\t Low Fat & 5089\\\\\n",
       "\t Regular & 2889\\\\\n",
       "\t low fat &  112\\\\\n",
       "\t LF      &  316\\\\\n",
       "\t reg     &  117\\\\\n",
       "\\end{tabular}\n"
      ],
      "text/markdown": [
       "\n",
       "A tibble: 5 × 2\n",
       "\n",
       "| Item_Fat_Content &lt;chr&gt; | count &lt;int&gt; |\n",
       "|---|---|\n",
       "| Low Fat | 5089 |\n",
       "| Regular | 2889 |\n",
       "| low fat |  112 |\n",
       "| LF      |  316 |\n",
       "| reg     |  117 |\n",
       "\n"
      ],
      "text/plain": [
       "  Item_Fat_Content count\n",
       "1 Low Fat          5089 \n",
       "2 Regular          2889 \n",
       "3 low fat           112 \n",
       "4 LF                316 \n",
       "5 reg               117 "
      ]
     },
     "metadata": {},
     "output_type": "display_data"
    }
   ],
   "source": [
    "# Analyzing the Item_Fat_Content\n",
    "df |>\n",
    "    select(Item_Fat_Content) |>\n",
    "    summarise(.by=Item_Fat_Content, count=n()) #|>"
   ]
  },
  {
   "cell_type": "markdown",
   "id": "0ed293d1-cf06-40f1-8435-67402f66c1f6",
   "metadata": {},
   "source": [
    "> From the above, the **Low Fat** records are represented differently, and this has to be cleaned. **Low Fat** is represented as **low fat** and **LF**. And also, replace **reg** with **Regular**"
   ]
  },
  {
   "cell_type": "code",
   "execution_count": 21,
   "id": "06e0f684-27fd-4ef8-9638-7b917b153e17",
   "metadata": {},
   "outputs": [
    {
     "data": {
      "text/html": [
       "<table class=\"dataframe\">\n",
       "<caption>A tibble: 2 × 2</caption>\n",
       "<thead>\n",
       "\t<tr><th scope=col>Item_Fat_Content</th><th scope=col>count</th></tr>\n",
       "\t<tr><th scope=col>&lt;chr&gt;</th><th scope=col>&lt;int&gt;</th></tr>\n",
       "</thead>\n",
       "<tbody>\n",
       "\t<tr><td>Low Fat</td><td>5517</td></tr>\n",
       "\t<tr><td>Regular</td><td>3006</td></tr>\n",
       "</tbody>\n",
       "</table>\n"
      ],
      "text/latex": [
       "A tibble: 2 × 2\n",
       "\\begin{tabular}{ll}\n",
       " Item\\_Fat\\_Content & count\\\\\n",
       " <chr> & <int>\\\\\n",
       "\\hline\n",
       "\t Low Fat & 5517\\\\\n",
       "\t Regular & 3006\\\\\n",
       "\\end{tabular}\n"
      ],
      "text/markdown": [
       "\n",
       "A tibble: 2 × 2\n",
       "\n",
       "| Item_Fat_Content &lt;chr&gt; | count &lt;int&gt; |\n",
       "|---|---|\n",
       "| Low Fat | 5517 |\n",
       "| Regular | 3006 |\n",
       "\n"
      ],
      "text/plain": [
       "  Item_Fat_Content count\n",
       "1 Low Fat          5517 \n",
       "2 Regular          3006 "
      ]
     },
     "metadata": {},
     "output_type": "display_data"
    }
   ],
   "source": [
    "# Fixing the Item_Fat_Content\n",
    "df <- df |>\n",
    "    # Fix the Item_Fat_Content Col\n",
    "    mutate(Item_Fat_Content = case_when(\n",
    "                                      # low fat\n",
    "                                      Item_Fat_Content == \"low fat\" ~ \"Low Fat\",\n",
    "                                      # LF\n",
    "                                      Item_Fat_Content == \"LF\" ~ \"Low Fat\",\n",
    "                                      # reg\n",
    "                                      Item_Fat_Content == \"reg\"  ~ \"Regular\",\n",
    "                                      # Else\n",
    "                                      TRUE ~ Item_Fat_Content\n",
    "    ))\n",
    "\n",
    "df |>\n",
    "    select(Item_Fat_Content) |>\n",
    "    summarise(.by=Item_Fat_Content, count=n())"
   ]
  },
  {
   "cell_type": "markdown",
   "id": "2ca48cc1-93b6-4476-af50-2b104b31094d",
   "metadata": {},
   "source": [
    "> With the new errors fixed, now we have 5517 records for Low Fat and 3006 records for Regular."
   ]
  },
  {
   "cell_type": "code",
   "execution_count": 22,
   "id": "7a507d95-b7cd-4133-8ba2-d7c70aa37cce",
   "metadata": {},
   "outputs": [
    {
     "data": {
      "image/png": "[encoded data removed]",
      "text/plain": [
       "plot without title"
      ]
     },
     "metadata": {
      "image/png": {
       "height": 420,
       "width": 420
      }
     },
     "output_type": "display_data"
    }
   ],
   "source": [
    "# Analyzing the Item_Type\n",
    "df |>\n",
    "    select(Item_Type) |>\n",
    "    summarise(.by=Item_Type, count=n()) |>\n",
    "ggplot(\n",
    "    aes(x=reorder(Item_Type, count), y=count, fill=Item_Type)\n",
    ") +\n",
    "geom_col() + \n",
    "coord_flip() + \n",
    "ylab(\"Count\") +\n",
    "xlab(\"Item_Type\")"
   ]
  },
  {
   "cell_type": "markdown",
   "id": "cbbfe054-1be3-46c5-ad1c-68a396a90c3d",
   "metadata": {},
   "source": [
    "> From the data, most sales happen with the Fruits and Vegetables items."
   ]
  },
  {
   "cell_type": "code",
   "execution_count": 23,
   "id": "190aced7-38eb-4e5e-82db-360dd7964ab1",
   "metadata": {},
   "outputs": [
    {
     "data": {
      "image/png": "[encoded data removed]",
      "text/plain": [
       "plot without title"
      ]
     },
     "metadata": {
      "image/png": {
       "height": 420,
       "width": 420
      }
     },
     "output_type": "display_data"
    }
   ],
   "source": [
    "# Analyzing the Outlet_Identifier\n",
    "df |>\n",
    "    select(Outlet_Identifier) |>\n",
    "    summarise(.by=Outlet_Identifier, count=n()) |>\n",
    "ggplot(\n",
    "    aes(x=reorder(Outlet_Identifier, count), y=count, fill=Outlet_Identifier)\n",
    ") +\n",
    "geom_col() + \n",
    "coord_flip() + \n",
    "xlab(\"Outlet_Identifier\") +\n",
    "ylab(\"Count\")"
   ]
  },
  {
   "cell_type": "code",
   "execution_count": 24,
   "id": "2346c445-2e76-4441-85c4-a5c44126a580",
   "metadata": {},
   "outputs": [
    {
     "data": {
      "image/png": "[encoded data removed]",
      "text/plain": [
       "plot without title"
      ]
     },
     "metadata": {
      "image/png": {
       "height": 420,
       "width": 420
      }
     },
     "output_type": "display_data"
    }
   ],
   "source": [
    "# Analyzing the Outlet_Size\n",
    "df |>\n",
    "    select(Outlet_Size) |>\n",
    "    summarise(.by=Outlet_Size, count=n()) |>\n",
    "ggplot(\n",
    "    aes(x=reorder(Outlet_Size, count), y=count, fill=Outlet_Size)\n",
    ") +\n",
    "geom_col() + \n",
    "coord_flip() + \n",
    "xlab(\"Outlet_Size\") +\n",
    "ylab(\"Count\")"
   ]
  },
  {
   "cell_type": "markdown",
   "id": "d08bdb83-efa8-4f09-a175-5b6c207c34ae",
   "metadata": {},
   "source": [
    "> From the above, most outlets are medium in size. I will have to check if the missing values here are missing completely at random or are missing at random."
   ]
  },
  {
   "cell_type": "code",
   "execution_count": 25,
   "id": "0ece5cd9-f8f3-4d7a-b493-1ec49a7d93ee",
   "metadata": {},
   "outputs": [
    {
     "data": {
      "image/png": "[encoded data removed]",
      "text/plain": [
       "plot without title"
      ]
     },
     "metadata": {
      "image/png": {
       "height": 420,
       "width": 420
      }
     },
     "output_type": "display_data"
    }
   ],
   "source": [
    "# Analyzing the Outlet_Location_Type\n",
    "df |>\n",
    "    select(Outlet_Location_Type) |>\n",
    "    summarise(.by=Outlet_Location_Type, count=n()) |>\n",
    "ggplot(\n",
    "    aes(x=reorder(Outlet_Location_Type, count), y=count, fill=Outlet_Location_Type)\n",
    ") +\n",
    "geom_col() + \n",
    "xlab(\"Outlet Location Type\") +\n",
    "ylab(\"Count\") +\n",
    "coord_flip()"
   ]
  },
  {
   "cell_type": "markdown",
   "id": "bfa69acc-6722-4344-bb62-50c60d6f4168",
   "metadata": {},
   "source": [
    "> The location type is dominated by Tier 3."
   ]
  },
  {
   "cell_type": "code",
   "execution_count": 26,
   "id": "546733b1-4f41-4756-803c-2eba72d4c920",
   "metadata": {},
   "outputs": [
    {
     "data": {
      "image/png": "[encoded data removed]",
      "text/plain": [
       "plot without title"
      ]
     },
     "metadata": {
      "image/png": {
       "height": 420,
       "width": 420
      }
     },
     "output_type": "display_data"
    }
   ],
   "source": [
    "# Analyzing the Outlet_Type\n",
    "df |>\n",
    "    select(Outlet_Type) |>\n",
    "    summarise(.by=Outlet_Type, count=n()) |>\n",
    "ggplot(\n",
    "    aes(x=reorder(Outlet_Type, count), y=count, fill=Outlet_Type)\n",
    ") +\n",
    "geom_col() + \n",
    "coord_flip()  + \n",
    "xlab(\"Outlet_Type\") +\n",
    "ylab(\"Count\")"
   ]
  },
  {
   "cell_type": "markdown",
   "id": "0048916f-b1c6-4c8b-ac82-5ab37b8b1e94",
   "metadata": {},
   "source": [
    "> In this dataset, outlet type is dominated by supermarkets Type 1."
   ]
  },
  {
   "cell_type": "markdown",
   "id": "76edce0d-2c51-40ad-a315-62eaef84f86c",
   "metadata": {},
   "source": [
    "### Bivariate Analysis"
   ]
  },
  {
   "cell_type": "code",
   "execution_count": 27,
   "id": "4ca9d3fc-3993-4989-b781-ec06aa096dbd",
   "metadata": {},
   "outputs": [
    {
     "name": "stderr",
     "output_type": "stream",
     "text": [
      "Warning message:\n",
      "\"package 'GGally' was built under R version 4.3.2\"\n",
      "Registered S3 method overwritten by 'GGally':\n",
      "  method from   \n",
      "  +.gg   ggplot2\n",
      "\n"
     ]
    }
   ],
   "source": [
    "library(GGally)"
   ]
  },
  {
   "cell_type": "code",
   "execution_count": 28,
   "id": "e8149e42-8063-42f7-9d63-add733bc8b51",
   "metadata": {},
   "outputs": [
    {
     "data": {
      "text/html": [
       "<table class=\"dataframe\">\n",
       "<caption>A matrix: 4 × 4 of type dbl</caption>\n",
       "<thead>\n",
       "\t<tr><th></th><th scope=col>Item_Outlet_Sales</th><th scope=col>Item_Visibility</th><th scope=col>Item_Weight</th><th scope=col>Item_MRP</th></tr>\n",
       "</thead>\n",
       "<tbody>\n",
       "\t<tr><th scope=row>Item_Outlet_Sales</th><td> 1.00000000</td><td>-0.085334041</td><td> 0.01412274</td><td> 0.620961316</td></tr>\n",
       "\t<tr><th scope=row>Item_Visibility</th><td>-0.08533404</td><td> 1.000000000</td><td>-0.01404773</td><td>-0.006061148</td></tr>\n",
       "\t<tr><th scope=row>Item_Weight</th><td> 0.01412274</td><td>-0.014047726</td><td> 1.00000000</td><td> 0.027141154</td></tr>\n",
       "\t<tr><th scope=row>Item_MRP</th><td> 0.62096132</td><td>-0.006061148</td><td> 0.02714115</td><td> 1.000000000</td></tr>\n",
       "</tbody>\n",
       "</table>\n"
      ],
      "text/latex": [
       "A matrix: 4 × 4 of type dbl\n",
       "\\begin{tabular}{r|llll}\n",
       "  & Item\\_Outlet\\_Sales & Item\\_Visibility & Item\\_Weight & Item\\_MRP\\\\\n",
       "\\hline\n",
       "\tItem\\_Outlet\\_Sales &  1.00000000 & -0.085334041 &  0.01412274 &  0.620961316\\\\\n",
       "\tItem\\_Visibility & -0.08533404 &  1.000000000 & -0.01404773 & -0.006061148\\\\\n",
       "\tItem\\_Weight &  0.01412274 & -0.014047726 &  1.00000000 &  0.027141154\\\\\n",
       "\tItem\\_MRP &  0.62096132 & -0.006061148 &  0.02714115 &  1.000000000\\\\\n",
       "\\end{tabular}\n"
      ],
      "text/markdown": [
       "\n",
       "A matrix: 4 × 4 of type dbl\n",
       "\n",
       "| <!--/--> | Item_Outlet_Sales | Item_Visibility | Item_Weight | Item_MRP |\n",
       "|---|---|---|---|---|\n",
       "| Item_Outlet_Sales |  1.00000000 | -0.085334041 |  0.01412274 |  0.620961316 |\n",
       "| Item_Visibility | -0.08533404 |  1.000000000 | -0.01404773 | -0.006061148 |\n",
       "| Item_Weight |  0.01412274 | -0.014047726 |  1.00000000 |  0.027141154 |\n",
       "| Item_MRP |  0.62096132 | -0.006061148 |  0.02714115 |  1.000000000 |\n",
       "\n"
      ],
      "text/plain": [
       "                  Item_Outlet_Sales Item_Visibility Item_Weight Item_MRP    \n",
       "Item_Outlet_Sales  1.00000000       -0.085334041     0.01412274  0.620961316\n",
       "Item_Visibility   -0.08533404        1.000000000    -0.01404773 -0.006061148\n",
       "Item_Weight        0.01412274       -0.014047726     1.00000000  0.027141154\n",
       "Item_MRP           0.62096132       -0.006061148     0.02714115  1.000000000"
      ]
     },
     "metadata": {},
     "output_type": "display_data"
    }
   ],
   "source": [
    "cor(df[, c(\"Item_Outlet_Sales\", \"Item_Visibility\", \"Item_Weight\", \"Item_MRP\")], use = \"complete.obs\")"
   ]
  },
  {
   "cell_type": "code",
   "execution_count": 29,
   "id": "8965f66f-c48c-42bb-a0e9-20082f91e65f",
   "metadata": {},
   "outputs": [
    {
     "name": "stderr",
     "output_type": "stream",
     "text": [
      "Warning message in ggally_statistic(data = data, mapping = mapping, na.rm = na.rm, :\n",
      "\"Removed 1463 rows containing missing values\"\n",
      "Warning message in ggally_statistic(data = data, mapping = mapping, na.rm = na.rm, :\n",
      "\"Removed 1463 rows containing missing values\"\n",
      "Warning message:\n",
      "\"\u001b[1m\u001b[22mRemoved 1463 rows containing missing values (`geom_point()`).\"\n",
      "Warning message:\n",
      "\"\u001b[1m\u001b[22mRemoved 1463 rows containing missing values (`geom_point()`).\"\n",
      "Warning message:\n",
      "\"\u001b[1m\u001b[22mRemoved 1463 rows containing non-finite values (`stat_density()`).\"\n",
      "Warning message in ggally_statistic(data = data, mapping = mapping, na.rm = na.rm, :\n",
      "\"Removed 1463 rows containing missing values\"\n",
      "Warning message:\n",
      "\"\u001b[1m\u001b[22mRemoved 1463 rows containing missing values (`geom_point()`).\"\n"
     ]
    },
    {
     "data": {
      "image/png": "[encoded data removed]",
      "text/plain": [
       "plot without title"
      ]
     },
     "metadata": {
      "image/png": {
       "height": 420,
       "width": 420
      }
     },
     "output_type": "display_data"
    }
   ],
   "source": [
    "ggpairs(\n",
    "    df[, c(\"Item_Outlet_Sales\", \"Item_Visibility\", \"Item_Weight\", \"Item_MRP\")],\n",
    ")"
   ]
  },
  {
   "cell_type": "markdown",
   "id": "a6f1f99d-ad8d-4c1e-ae59-8a092e622bf5",
   "metadata": {},
   "source": [
    "> No clear linear relationships exists b/n **Item Outlet sales** and **Item_Visibility**, **Item_Weight**. A clearly linear relationship exists between **Item_Sales_Outlet** and **Item_MRP**."
   ]
  },
  {
   "cell_type": "code",
   "execution_count": 30,
   "id": "c4a707fb-664f-4ab0-a0b0-d656fcda9895",
   "metadata": {},
   "outputs": [],
   "source": [
    "corr_df <- df |>\n",
    "                select(c(Item_Weight, Item_Fat_Content)) |>\n",
    "                mutate(Item_Fat_Content = if_else(Item_Fat_Content == \"Low Fat\", 0, 1))"
   ]
  },
  {
   "cell_type": "code",
   "execution_count": 31,
   "id": "4212aafb-b79a-4ebe-a052-b5067642d5b3",
   "metadata": {},
   "outputs": [
    {
     "data": {
      "text/plain": [
       "\n",
       "\tPearson's product-moment correlation\n",
       "\n",
       "data:  corr_df$Item_Weight and corr_df$Item_Fat_Content\n",
       "t = -1.9528, df = 7058, p-value = 0.05088\n",
       "alternative hypothesis: true correlation is not equal to 0\n",
       "95 percent confidence interval:\n",
       " -4.653966e-02  8.919433e-05\n",
       "sample estimates:\n",
       "        cor \n",
       "-0.02323787 \n"
      ]
     },
     "metadata": {},
     "output_type": "display_data"
    }
   ],
   "source": [
    "# Point bi-serial correlation between Item Weight and Item Fat\n",
    "cor.test(x = corr_df$Item_Weight, y =  corr_df$Item_Fat_Content)"
   ]
  },
  {
   "cell_type": "code",
   "execution_count": 32,
   "id": "d8bd268e-8373-440c-83ff-1c79be5e2b10",
   "metadata": {},
   "outputs": [
    {
     "data": {
      "image/png": "[encoded data removed]",
      "text/plain": [
       "plot without title"
      ]
     },
     "metadata": {
      "image/png": {
       "height": 420,
       "width": 420
      }
     },
     "output_type": "display_data"
    }
   ],
   "source": [
    "# Determining the relationship b/n Item_Outlet_Sales and Item_Fat_Content\n",
    "\n",
    "df |>\n",
    "ggplot(\n",
    "    aes(y=Item_Outlet_Sales, \n",
    "        x=reorder(Item_Fat_Content, Item_Outlet_Sales))\n",
    ") +\n",
    "geom_boxplot() + \n",
    "xlab(\"Item_Fat_Content\") +\n",
    "ylab(\"Item_Outlet_Sales\")"
   ]
  },
  {
   "cell_type": "markdown",
   "id": "1b4ecd44-0a9a-4e8f-93e3-e4779cc7990f",
   "metadata": {},
   "source": [
    "> From the above it looks like the regular item fat content leads to more sales"
   ]
  },
  {
   "cell_type": "code",
   "execution_count": 33,
   "id": "a29cc74e-fc34-46f2-a328-861672bb53fc",
   "metadata": {},
   "outputs": [
    {
     "data": {
      "image/png": "[encoded data removed]",
      "text/plain": [
       "plot without title"
      ]
     },
     "metadata": {
      "image/png": {
       "height": 420,
       "width": 420
      }
     },
     "output_type": "display_data"
    }
   ],
   "source": [
    "# Determining the relationship b/n Item_Outlet_Sales and Outlet_Identifier\n",
    "\n",
    "df |>\n",
    "ggplot(\n",
    "    aes(y=Item_Outlet_Sales, x= reorder(Outlet_Identifier, Item_Outlet_Sales))\n",
    ") +\n",
    "geom_boxplot() + \n",
    "xlab(\"Outlet_Identifier\") +\n",
    "ylab(\"Item_Outlet_Sales\")"
   ]
  },
  {
   "cell_type": "code",
   "execution_count": 34,
   "id": "8c4ebdbe-2220-4a83-af36-a0c188d41430",
   "metadata": {},
   "outputs": [
    {
     "data": {
      "image/png": "[encoded data removed]",
      "text/plain": [
       "plot without title"
      ]
     },
     "metadata": {
      "image/png": {
       "height": 420,
       "width": 420
      }
     },
     "output_type": "display_data"
    }
   ],
   "source": [
    "# Determining the relationship b/n Item_Outlet_Sales and Outlet_Size\n",
    "\n",
    "df |>\n",
    "ggplot(\n",
    "    aes(y=Item_Outlet_Sales, x= reorder(Outlet_Size, Item_Outlet_Sales))\n",
    ") +\n",
    "geom_boxplot() + \n",
    "xlab(\"Outlet_Size\") +\n",
    "ylab(\"Item_Outlet_Sales\")"
   ]
  },
  {
   "cell_type": "code",
   "execution_count": 35,
   "id": "3542a330-53e8-48a3-8cc0-e841ee045169",
   "metadata": {},
   "outputs": [
    {
     "data": {
      "image/png": "[encoded data removed]",
      "text/plain": [
       "plot without title"
      ]
     },
     "metadata": {
      "image/png": {
       "height": 420,
       "width": 420
      }
     },
     "output_type": "display_data"
    }
   ],
   "source": [
    "# Determining the relationship b/n Item_Outlet_Sales and Outlet_Location_Type\n",
    "\n",
    "df |>\n",
    "ggplot(\n",
    "    aes(y=Item_Outlet_Sales, x=Outlet_Location_Type)\n",
    ") +\n",
    "geom_boxplot()"
   ]
  },
  {
   "cell_type": "code",
   "execution_count": 36,
   "id": "04e92724-a38a-4d06-b877-e341e7c12fdd",
   "metadata": {},
   "outputs": [
    {
     "data": {
      "image/png": "[encoded data removed]",
      "text/plain": [
       "plot without title"
      ]
     },
     "metadata": {
      "image/png": {
       "height": 420,
       "width": 420
      }
     },
     "output_type": "display_data"
    }
   ],
   "source": [
    "# Determining the relationship b/n Item_Outlet_Sales and Outlet_Type\n",
    "\n",
    "df |>\n",
    "ggplot(\n",
    "    aes(y=Item_Outlet_Sales, x=Outlet_Type)\n",
    ") +\n",
    "geom_boxplot()"
   ]
  },
  {
   "cell_type": "code",
   "execution_count": 37,
   "id": "9a0eb766-f997-4cc0-b4df-a66f6e0a97b0",
   "metadata": {},
   "outputs": [
    {
     "data": {
      "image/png": "[encoded data removed]",
      "text/plain": [
       "plot without title"
      ]
     },
     "metadata": {
      "image/png": {
       "height": 420,
       "width": 420
      }
     },
     "output_type": "display_data"
    }
   ],
   "source": [
    "# Determining the relationship b/n Item_Outlet_Sales and Outlet_Establishment_Year\n",
    "\n",
    "df |>\n",
    "ggplot(\n",
    "    aes(y=Item_Outlet_Sales, x= reorder(as.factor(Outlet_Establishment_Year), Item_Outlet_Sales))\n",
    ") +\n",
    "geom_boxplot() +\n",
    "xlab(\"Year of Establishment\")"
   ]
  },
  {
   "cell_type": "markdown",
   "id": "df677a8d-123e-4c17-8a9d-164598b12ab9",
   "metadata": {},
   "source": [
    "# Correlation Analysis"
   ]
  },
  {
   "cell_type": "code",
   "execution_count": 38,
   "id": "1825e153-db0b-45c3-b383-108d9d998130",
   "metadata": {},
   "outputs": [
    {
     "data": {
      "text/html": [
       "<table class=\"dataframe\">\n",
       "<caption>A matrix: 4 × 4 of type dbl</caption>\n",
       "<thead>\n",
       "\t<tr><th></th><th scope=col>Item_Outlet_Sales</th><th scope=col>Item_Visibility</th><th scope=col>Item_Weight</th><th scope=col>Item_MRP</th></tr>\n",
       "</thead>\n",
       "<tbody>\n",
       "\t<tr><th scope=row>Item_Outlet_Sales</th><td> 1.00000000</td><td>-0.085334041</td><td> 0.01412274</td><td> 0.620961316</td></tr>\n",
       "\t<tr><th scope=row>Item_Visibility</th><td>-0.08533404</td><td> 1.000000000</td><td>-0.01404773</td><td>-0.006061148</td></tr>\n",
       "\t<tr><th scope=row>Item_Weight</th><td> 0.01412274</td><td>-0.014047726</td><td> 1.00000000</td><td> 0.027141154</td></tr>\n",
       "\t<tr><th scope=row>Item_MRP</th><td> 0.62096132</td><td>-0.006061148</td><td> 0.02714115</td><td> 1.000000000</td></tr>\n",
       "</tbody>\n",
       "</table>\n"
      ],
      "text/latex": [
       "A matrix: 4 × 4 of type dbl\n",
       "\\begin{tabular}{r|llll}\n",
       "  & Item\\_Outlet\\_Sales & Item\\_Visibility & Item\\_Weight & Item\\_MRP\\\\\n",
       "\\hline\n",
       "\tItem\\_Outlet\\_Sales &  1.00000000 & -0.085334041 &  0.01412274 &  0.620961316\\\\\n",
       "\tItem\\_Visibility & -0.08533404 &  1.000000000 & -0.01404773 & -0.006061148\\\\\n",
       "\tItem\\_Weight &  0.01412274 & -0.014047726 &  1.00000000 &  0.027141154\\\\\n",
       "\tItem\\_MRP &  0.62096132 & -0.006061148 &  0.02714115 &  1.000000000\\\\\n",
       "\\end{tabular}\n"
      ],
      "text/markdown": [
       "\n",
       "A matrix: 4 × 4 of type dbl\n",
       "\n",
       "| <!--/--> | Item_Outlet_Sales | Item_Visibility | Item_Weight | Item_MRP |\n",
       "|---|---|---|---|---|\n",
       "| Item_Outlet_Sales |  1.00000000 | -0.085334041 |  0.01412274 |  0.620961316 |\n",
       "| Item_Visibility | -0.08533404 |  1.000000000 | -0.01404773 | -0.006061148 |\n",
       "| Item_Weight |  0.01412274 | -0.014047726 |  1.00000000 |  0.027141154 |\n",
       "| Item_MRP |  0.62096132 | -0.006061148 |  0.02714115 |  1.000000000 |\n",
       "\n"
      ],
      "text/plain": [
       "                  Item_Outlet_Sales Item_Visibility Item_Weight Item_MRP    \n",
       "Item_Outlet_Sales  1.00000000       -0.085334041     0.01412274  0.620961316\n",
       "Item_Visibility   -0.08533404        1.000000000    -0.01404773 -0.006061148\n",
       "Item_Weight        0.01412274       -0.014047726     1.00000000  0.027141154\n",
       "Item_MRP           0.62096132       -0.006061148     0.02714115  1.000000000"
      ]
     },
     "metadata": {},
     "output_type": "display_data"
    }
   ],
   "source": [
    "cor(df[, c(\"Item_Outlet_Sales\", \"Item_Visibility\", \"Item_Weight\", \"Item_MRP\")], use = \"complete.obs\")"
   ]
  },
  {
   "cell_type": "code",
   "execution_count": 39,
   "id": "87440228-4bc6-46c6-9059-326c6ef410ff",
   "metadata": {},
   "outputs": [
    {
     "data": {
      "text/html": [
       "<table class=\"dataframe\">\n",
       "<caption>A tibble: 1 × 8</caption>\n",
       "<thead>\n",
       "\t<tr><th scope=col>estimate</th><th scope=col>statistic</th><th scope=col>p.value</th><th scope=col>parameter</th><th scope=col>conf.low</th><th scope=col>conf.high</th><th scope=col>method</th><th scope=col>alternative</th></tr>\n",
       "\t<tr><th scope=col>&lt;dbl&gt;</th><th scope=col>&lt;dbl&gt;</th><th scope=col>&lt;dbl&gt;</th><th scope=col>&lt;int&gt;</th><th scope=col>&lt;dbl&gt;</th><th scope=col>&lt;dbl&gt;</th><th scope=col>&lt;chr&gt;</th><th scope=col>&lt;chr&gt;</th></tr>\n",
       "</thead>\n",
       "<tbody>\n",
       "\t<tr><td>-0.1290756</td><td>-10.17533</td><td>3.975586e-24</td><td>6111</td><td>-0.1536474</td><td>-0.1043443</td><td>Pearson's product-moment correlation</td><td>two.sided</td></tr>\n",
       "</tbody>\n",
       "</table>\n"
      ],
      "text/latex": [
       "A tibble: 1 × 8\n",
       "\\begin{tabular}{llllllll}\n",
       " estimate & statistic & p.value & parameter & conf.low & conf.high & method & alternative\\\\\n",
       " <dbl> & <dbl> & <dbl> & <int> & <dbl> & <dbl> & <chr> & <chr>\\\\\n",
       "\\hline\n",
       "\t -0.1290756 & -10.17533 & 3.975586e-24 & 6111 & -0.1536474 & -0.1043443 & Pearson's product-moment correlation & two.sided\\\\\n",
       "\\end{tabular}\n"
      ],
      "text/markdown": [
       "\n",
       "A tibble: 1 × 8\n",
       "\n",
       "| estimate &lt;dbl&gt; | statistic &lt;dbl&gt; | p.value &lt;dbl&gt; | parameter &lt;int&gt; | conf.low &lt;dbl&gt; | conf.high &lt;dbl&gt; | method &lt;chr&gt; | alternative &lt;chr&gt; |\n",
       "|---|---|---|---|---|---|---|---|\n",
       "| -0.1290756 | -10.17533 | 3.975586e-24 | 6111 | -0.1536474 | -0.1043443 | Pearson's product-moment correlation | two.sided |\n",
       "\n"
      ],
      "text/plain": [
       "  estimate   statistic p.value      parameter conf.low   conf.high \n",
       "1 -0.1290756 -10.17533 3.975586e-24 6111      -0.1536474 -0.1043443\n",
       "  method                               alternative\n",
       "1 Pearson's product-moment correlation two.sided  "
      ]
     },
     "metadata": {},
     "output_type": "display_data"
    }
   ],
   "source": [
    "tidy(cor.test(as.numeric(as.factor(df$Outlet_Size)), df$Item_Outlet_Sales))"
   ]
  },
  {
   "cell_type": "markdown",
   "id": "194b4c62-af1d-4703-8697-aa75540420a6",
   "metadata": {},
   "source": [
    "# Recipes for Transofrmation"
   ]
  },
  {
   "cell_type": "markdown",
   "id": "e00076db-2821-4fec-8b3a-75ceb5e444e8",
   "metadata": {},
   "source": [
    "# Modelling"
   ]
  },
  {
   "cell_type": "code",
   "execution_count": 44,
   "id": "a8b4dc11-773a-4c37-8f4e-403123d4fa5a",
   "metadata": {},
   "outputs": [],
   "source": [
    "\n",
    "# Normalizing the Dependent Variable\n",
    "df <- df |> \n",
    "        mutate(Item_Outlet_Sales = ((Item_Outlet_Sales - mean(Item_Outlet_Sales) ) / sd(Item_Outlet_Sales)))\n",
    "\n",
    "\n",
    "# Spit to train and test\n",
    "set.seed(343)\n",
    "\n",
    "df_split <- initial_split(df, strata = Item_Outlet_Sales)\n",
    "\n",
    "df_train <- training(df_split)\n",
    "\n",
    "df_test <- testing(df_split)\n",
    "\n",
    "# Folds\n",
    "df_folds <- vfold_cv(df_train, strata = Item_Outlet_Sales, repeats = 5)\n",
    "\n",
    "# Recipe\n",
    "# normalized_recipe <-recipe( Item_Outlet_Sales ~ . , data = df) |>\n",
    "#                         # Fields not used in the predictive model\n",
    "#                         update_role(Item_Weight, new_role = \"weight_of_item\") |>\n",
    "#                         update_role(Outlet_Size, new_role = \"size_of_outlet\") |>\n",
    "#                         # Normalizing all numeric variables except date\n",
    "#                         step_normalize(all_predictors())\n",
    "\n",
    "\n",
    "\n",
    "\n",
    "reg_recipe <-recipe( Item_Outlet_Sales ~ . , data = df) |>\n",
    "                        # Fields not used in the predictive model\n",
    "                        update_role(Item_Weight, new_role = \"weight_of_item\") |>\n",
    "                        update_role(Outlet_Size, new_role = \"size_of_outlet\") |>\n",
    "                        # Normalizing all numeric variables except date\n",
    "                        step_normalize(all_numeric_predictors(), -Outlet_Establishment_Year) |>\n",
    "                        # Pool infrequently occurring values into an \"other\" category\n",
    "                        step_other(Item_Identifier, threshold = 9) |>\n",
    "                        # Dummy all the categorical Predictors \n",
    "                        step_dummy(all_nominal_predictors())\n",
    "                        "
   ]
  },
  {
   "cell_type": "code",
   "execution_count": 45,
   "id": "77451ea2-a576-40e7-8e08-33b032ed59a1",
   "metadata": {},
   "outputs": [
    {
     "data": {
      "text/html": [
       "<table class=\"dataframe\">\n",
       "<caption>A tibble: 8523 × 63</caption>\n",
       "<thead>\n",
       "\t<tr><th scope=col>Item_Weight</th><th scope=col>Item_Visibility</th><th scope=col>Item_MRP</th><th scope=col>Outlet_Establishment_Year</th><th scope=col>Outlet_Size</th><th scope=col>Item_Outlet_Sales</th><th scope=col>Item_Identifier_DRN47</th><th scope=col>Item_Identifier_FDD38</th><th scope=col>Item_Identifier_FDF52</th><th scope=col>Item_Identifier_FDF56</th><th scope=col>⋯</th><th scope=col>Outlet_Identifier_OUT027</th><th scope=col>Outlet_Identifier_OUT035</th><th scope=col>Outlet_Identifier_OUT045</th><th scope=col>Outlet_Identifier_OUT046</th><th scope=col>Outlet_Identifier_OUT049</th><th scope=col>Outlet_Location_Type_Tier.2</th><th scope=col>Outlet_Location_Type_Tier.3</th><th scope=col>Outlet_Type_Supermarket.Type1</th><th scope=col>Outlet_Type_Supermarket.Type2</th><th scope=col>Outlet_Type_Supermarket.Type3</th></tr>\n",
       "\t<tr><th scope=col>&lt;dbl&gt;</th><th scope=col>&lt;dbl&gt;</th><th scope=col>&lt;dbl&gt;</th><th scope=col>&lt;dbl&gt;</th><th scope=col>&lt;fct&gt;</th><th scope=col>&lt;dbl&gt;</th><th scope=col>&lt;dbl&gt;</th><th scope=col>&lt;dbl&gt;</th><th scope=col>&lt;dbl&gt;</th><th scope=col>&lt;dbl&gt;</th><th scope=col>⋯</th><th scope=col>&lt;dbl&gt;</th><th scope=col>&lt;dbl&gt;</th><th scope=col>&lt;dbl&gt;</th><th scope=col>&lt;dbl&gt;</th><th scope=col>&lt;dbl&gt;</th><th scope=col>&lt;dbl&gt;</th><th scope=col>&lt;dbl&gt;</th><th scope=col>&lt;dbl&gt;</th><th scope=col>&lt;dbl&gt;</th><th scope=col>&lt;dbl&gt;</th></tr>\n",
       "</thead>\n",
       "<tbody>\n",
       "\t<tr><td> 9.300</td><td>-0.97067522</td><td> 1.74735129</td><td>1999</td><td>Medium</td><td> 0.910547575</td><td>0</td><td>0</td><td>0</td><td>0</td><td>⋯</td><td>0</td><td>0</td><td>0</td><td>0</td><td>1</td><td>0</td><td>0</td><td>1</td><td>0</td><td>0</td></tr>\n",
       "\t<tr><td> 5.920</td><td>-0.90805795</td><td>-1.48893590</td><td>2009</td><td>Medium</td><td>-1.018380606</td><td>0</td><td>0</td><td>0</td><td>0</td><td>⋯</td><td>0</td><td>0</td><td>0</td><td>0</td><td>0</td><td>0</td><td>1</td><td>0</td><td>1</td><td>0</td></tr>\n",
       "\t<tr><td>17.500</td><td>-0.95686119</td><td> 0.01003962</td><td>1999</td><td>Medium</td><td>-0.049234651</td><td>0</td><td>0</td><td>0</td><td>0</td><td>⋯</td><td>0</td><td>0</td><td>0</td><td>0</td><td>1</td><td>0</td><td>0</td><td>1</td><td>0</td><td>0</td></tr>\n",
       "\t<tr><td>19.200</td><td>-1.28168256</td><td> 0.66001082</td><td>1998</td><td>NA    </td><td>-0.849053173</td><td>0</td><td>0</td><td>0</td><td>0</td><td>⋯</td><td>0</td><td>0</td><td>0</td><td>0</td><td>0</td><td>0</td><td>1</td><td>0</td><td>0</td><td>0</td></tr>\n",
       "\t<tr><td> 8.930</td><td>-1.28168256</td><td>-1.39913752</td><td>1987</td><td>High  </td><td>-0.695331955</td><td>0</td><td>0</td><td>0</td><td>0</td><td>⋯</td><td>0</td><td>0</td><td>0</td><td>0</td><td>0</td><td>0</td><td>1</td><td>1</td><td>0</td><td>0</td></tr>\n",
       "\t<tr><td>10.395</td><td>-1.28168256</td><td>-1.43864932</td><td>2009</td><td>Medium</td><td>-0.952054192</td><td>0</td><td>0</td><td>0</td><td>0</td><td>⋯</td><td>0</td><td>0</td><td>0</td><td>0</td><td>0</td><td>0</td><td>1</td><td>0</td><td>1</td><td>0</td></tr>\n",
       "\t<tr><td>13.650</td><td>-1.03475180</td><td>-1.33815966</td><td>1987</td><td>High  </td><td>-1.076903913</td><td>0</td><td>0</td><td>0</td><td>0</td><td>⋯</td><td>0</td><td>0</td><td>0</td><td>0</td><td>0</td><td>0</td><td>1</td><td>1</td><td>0</td><td>0</td></tr>\n",
       "\t<tr><td>    NA</td><td> 1.18876777</td><td>-0.53360974</td><td>1985</td><td>Medium</td><td> 1.079094697</td><td>0</td><td>0</td><td>0</td><td>0</td><td>⋯</td><td>1</td><td>0</td><td>0</td><td>0</td><td>0</td><td>0</td><td>1</td><td>0</td><td>0</td><td>1</td></tr>\n",
       "\t<tr><td>16.200</td><td>-0.95827522</td><td>-0.70686688</td><td>2002</td><td>NA    </td><td>-0.647342843</td><td>0</td><td>0</td><td>0</td><td>0</td><td>⋯</td><td>0</td><td>0</td><td>1</td><td>0</td><td>0</td><td>1</td><td>0</td><td>1</td><td>0</td><td>0</td></tr>\n",
       "\t<tr><td>19.200</td><td> 0.54881311</td><td> 0.75196416</td><td>2007</td><td>NA    </td><td> 1.482125201</td><td>0</td><td>0</td><td>0</td><td>0</td><td>⋯</td><td>0</td><td>0</td><td>0</td><td>0</td><td>0</td><td>1</td><td>0</td><td>1</td><td>0</td><td>0</td></tr>\n",
       "\t<tr><td>11.800</td><td>-1.28168256</td><td>-1.53275761</td><td>1999</td><td>Medium</td><td>-0.389840295</td><td>0</td><td>0</td><td>0</td><td>0</td><td>⋯</td><td>0</td><td>0</td><td>0</td><td>0</td><td>1</td><td>0</td><td>0</td><td>1</td><td>0</td><td>0</td></tr>\n",
       "\t<tr><td>18.500</td><td>-0.40056450</td><td> 0.05005885</td><td>1997</td><td>Small </td><td> 0.003436324</td><td>0</td><td>0</td><td>0</td><td>0</td><td>⋯</td><td>0</td><td>0</td><td>0</td><td>1</td><td>0</td><td>0</td><td>0</td><td>1</td><td>0</td><td>0</td></tr>\n",
       "\t<tr><td>15.100</td><td> 0.65664537</td><td> 0.07203233</td><td>1999</td><td>Medium</td><td>-0.346923204</td><td>0</td><td>0</td><td>0</td><td>0</td><td>⋯</td><td>0</td><td>0</td><td>0</td><td>0</td><td>1</td><td>0</td><td>0</td><td>1</td><td>0</td><td>0</td></tr>\n",
       "\t<tr><td>17.600</td><td>-0.36580421</td><td>-0.34226510</td><td>1997</td><td>Small </td><td>-0.021143464</td><td>0</td><td>0</td><td>0</td><td>0</td><td>⋯</td><td>0</td><td>0</td><td>0</td><td>1</td><td>0</td><td>0</td><td>0</td><td>1</td><td>0</td><td>0</td></tr>\n",
       "\t<tr><td>16.350</td><td> 0.03667347</td><td> 0.89040159</td><td>1987</td><td>High  </td><td>-0.119462619</td><td>0</td><td>0</td><td>0</td><td>0</td><td>⋯</td><td>0</td><td>0</td><td>0</td><td>0</td><td>0</td><td>0</td><td>1</td><td>1</td><td>0</td><td>0</td></tr>\n",
       "\t<tr><td> 9.000</td><td> 0.05730731</td><td>-1.35899304</td><td>1997</td><td>Small </td><td>-0.371502992</td><td>0</td><td>0</td><td>0</td><td>0</td><td>⋯</td><td>0</td><td>0</td><td>0</td><td>1</td><td>0</td><td>0</td><td>0</td><td>1</td><td>0</td><td>0</td></tr>\n",
       "\t<tr><td>11.800</td><td>-1.11508539</td><td>-0.41177928</td><td>2009</td><td>Medium</td><td>-0.327805590</td><td>0</td><td>0</td><td>0</td><td>0</td><td>⋯</td><td>0</td><td>0</td><td>0</td><td>0</td><td>0</td><td>0</td><td>1</td><td>0</td><td>1</td><td>0</td></tr>\n",
       "\t<tr><td> 9.000</td><td> 0.05938908</td><td>-1.39110862</td><td>1999</td><td>Medium</td><td>-0.857246436</td><td>0</td><td>0</td><td>0</td><td>0</td><td>⋯</td><td>0</td><td>0</td><td>0</td><td>0</td><td>1</td><td>0</td><td>0</td><td>1</td><td>0</td><td>0</td></tr>\n",
       "\t<tr><td>    NA</td><td>-0.61813358</td><td>-0.44495146</td><td>1985</td><td>Medium</td><td> 0.071713515</td><td>0</td><td>0</td><td>0</td><td>0</td><td>⋯</td><td>1</td><td>0</td><td>0</td><td>0</td><td>0</td><td>0</td><td>1</td><td>0</td><td>0</td><td>1</td></tr>\n",
       "\t<tr><td>13.350</td><td> 0.70468267</td><td> 1.43785343</td><td>2004</td><td>Small </td><td> 0.332337307</td><td>0</td><td>0</td><td>0</td><td>0</td><td>⋯</td><td>0</td><td>1</td><td>0</td><td>0</td><td>0</td><td>1</td><td>0</td><td>1</td><td>0</td><td>0</td></tr>\n",
       "\t<tr><td>18.850</td><td> 1.39653662</td><td> 1.76442394</td><td>1987</td><td>High  </td><td> 0.933956897</td><td>0</td><td>0</td><td>0</td><td>0</td><td>⋯</td><td>0</td><td>0</td><td>0</td><td>0</td><td>0</td><td>0</td><td>1</td><td>1</td><td>0</td><td>0</td></tr>\n",
       "\t<tr><td>    NA</td><td>-0.59560858</td><td> 0.05703114</td><td>1985</td><td>Medium</td><td> 1.103284331</td><td>0</td><td>0</td><td>0</td><td>0</td><td>⋯</td><td>1</td><td>0</td><td>0</td><td>0</td><td>0</td><td>0</td><td>1</td><td>0</td><td>0</td><td>1</td></tr>\n",
       "\t<tr><td>14.600</td><td>-0.78363568</td><td> 0.89145819</td><td>2004</td><td>Small </td><td>-0.348093670</td><td>0</td><td>0</td><td>0</td><td>0</td><td>⋯</td><td>0</td><td>1</td><td>0</td><td>0</td><td>0</td><td>1</td><td>0</td><td>1</td><td>0</td><td>0</td></tr>\n",
       "\t<tr><td>    NA</td><td>-0.16618978</td><td>-0.53470809</td><td>1985</td><td>Small </td><td>-1.152594056</td><td>0</td><td>0</td><td>0</td><td>0</td><td>⋯</td><td>0</td><td>0</td><td>0</td><td>0</td><td>0</td><td>0</td><td>0</td><td>0</td><td>0</td><td>0</td></tr>\n",
       "\t<tr><td>13.850</td><td>-0.77979151</td><td> 0.38584010</td><td>1997</td><td>Small </td><td> 1.111477594</td><td>0</td><td>0</td><td>0</td><td>0</td><td>⋯</td><td>0</td><td>0</td><td>0</td><td>1</td><td>0</td><td>0</td><td>0</td><td>1</td><td>0</td><td>0</td></tr>\n",
       "\t<tr><td>13.000</td><td> 0.65419571</td><td>-1.52688367</td><td>2007</td><td>NA    </td><td>-0.786628313</td><td>0</td><td>0</td><td>0</td><td>0</td><td>⋯</td><td>0</td><td>0</td><td>0</td><td>0</td><td>0</td><td>1</td><td>0</td><td>1</td><td>0</td><td>0</td></tr>\n",
       "\t<tr><td> 7.645</td><td> 0.01088046</td><td>-1.58460821</td><td>2004</td><td>Small </td><td>-0.653975485</td><td>0</td><td>0</td><td>0</td><td>0</td><td>⋯</td><td>0</td><td>1</td><td>0</td><td>0</td><td>0</td><td>1</td><td>0</td><td>1</td><td>0</td><td>0</td></tr>\n",
       "\t<tr><td>11.650</td><td>-0.90654789</td><td>-1.63590965</td><td>1987</td><td>High  </td><td>-1.097191992</td><td>0</td><td>0</td><td>0</td><td>0</td><td>⋯</td><td>0</td><td>0</td><td>0</td><td>0</td><td>0</td><td>0</td><td>1</td><td>1</td><td>0</td><td>0</td></tr>\n",
       "\t<tr><td> 5.925</td><td> 1.84764591</td><td>-1.53326503</td><td>1998</td><td>NA    </td><td>-1.173662446</td><td>0</td><td>0</td><td>0</td><td>0</td><td>⋯</td><td>0</td><td>0</td><td>0</td><td>0</td><td>0</td><td>0</td><td>1</td><td>0</td><td>0</td><td>0</td></tr>\n",
       "\t<tr><td>    NA</td><td> 0.11802382</td><td>-1.56318391</td><td>1985</td><td>Small </td><td>-1.204484721</td><td>0</td><td>0</td><td>0</td><td>0</td><td>⋯</td><td>0</td><td>0</td><td>0</td><td>0</td><td>0</td><td>0</td><td>0</td><td>0</td><td>0</td><td>0</td></tr>\n",
       "\t<tr><td>⋮</td><td>⋮</td><td>⋮</td><td>⋮</td><td>⋮</td><td>⋮</td><td>⋮</td><td>⋮</td><td>⋮</td><td>⋮</td><td>⋱</td><td>⋮</td><td>⋮</td><td>⋮</td><td>⋮</td><td>⋮</td><td>⋮</td><td>⋮</td><td>⋮</td><td>⋮</td><td>⋮</td></tr>\n",
       "\t<tr><td> 7.420</td><td>-0.77998613</td><td> 0.7738959</td><td>2007</td><td>NA    </td><td> 1.49187909</td><td>0</td><td>0</td><td>0</td><td>0</td><td>⋯</td><td>0</td><td>0</td><td>0</td><td>0</td><td>0</td><td>1</td><td>0</td><td>1</td><td>0</td><td>0</td></tr>\n",
       "\t<tr><td>15.200</td><td>-1.28168256</td><td>-0.4897880</td><td>2007</td><td>NA    </td><td>-0.31844186</td><td>0</td><td>0</td><td>0</td><td>0</td><td>⋯</td><td>0</td><td>0</td><td>0</td><td>0</td><td>0</td><td>1</td><td>0</td><td>1</td><td>0</td><td>0</td></tr>\n",
       "\t<tr><td> 9.695</td><td>-0.70865027</td><td> 0.3131144</td><td>2004</td><td>Small </td><td> 1.24998275</td><td>0</td><td>0</td><td>0</td><td>0</td><td>⋯</td><td>0</td><td>1</td><td>0</td><td>0</td><td>0</td><td>1</td><td>0</td><td>1</td><td>0</td><td>0</td></tr>\n",
       "\t<tr><td> 7.420</td><td>-0.86120601</td><td> 0.7124106</td><td>2007</td><td>NA    </td><td> 0.89884291</td><td>0</td><td>0</td><td>0</td><td>0</td><td>⋯</td><td>0</td><td>0</td><td>0</td><td>0</td><td>0</td><td>1</td><td>0</td><td>1</td><td>0</td><td>0</td></tr>\n",
       "\t<tr><td>13.650</td><td>-0.32797579</td><td> 0.1447163</td><td>2004</td><td>Small </td><td> 0.03855031</td><td>0</td><td>0</td><td>0</td><td>0</td><td>⋯</td><td>0</td><td>1</td><td>0</td><td>0</td><td>0</td><td>1</td><td>0</td><td>1</td><td>0</td><td>0</td></tr>\n",
       "\t<tr><td>15.350</td><td>-0.59768363</td><td>-0.2636654</td><td>2009</td><td>Medium</td><td>-0.33990041</td><td>0</td><td>0</td><td>0</td><td>0</td><td>⋯</td><td>0</td><td>0</td><td>0</td><td>0</td><td>0</td><td>0</td><td>1</td><td>0</td><td>1</td><td>0</td></tr>\n",
       "\t<tr><td>11.600</td><td>-0.55347087</td><td>-0.6581861</td><td>2004</td><td>Small </td><td> 0.46577045</td><td>0</td><td>0</td><td>0</td><td>0</td><td>⋯</td><td>0</td><td>1</td><td>0</td><td>0</td><td>0</td><td>1</td><td>0</td><td>1</td><td>0</td><td>0</td></tr>\n",
       "\t<tr><td>20.350</td><td>-1.28168256</td><td>-0.2541143</td><td>2007</td><td>NA    </td><td>-0.16042893</td><td>0</td><td>0</td><td>0</td><td>0</td><td>⋯</td><td>0</td><td>0</td><td>0</td><td>0</td><td>0</td><td>1</td><td>0</td><td>1</td><td>0</td><td>0</td></tr>\n",
       "\t<tr><td> 5.340</td><td>-1.16544480</td><td>-0.6512555</td><td>2007</td><td>NA    </td><td>-0.39452216</td><td>0</td><td>0</td><td>0</td><td>0</td><td>⋯</td><td>0</td><td>0</td><td>0</td><td>0</td><td>0</td><td>1</td><td>0</td><td>1</td><td>0</td><td>0</td></tr>\n",
       "\t<tr><td> 8.420</td><td> 0.08876348</td><td> 1.2111817</td><td>2002</td><td>NA    </td><td> 0.49152070</td><td>0</td><td>0</td><td>0</td><td>0</td><td>⋯</td><td>0</td><td>0</td><td>1</td><td>0</td><td>0</td><td>1</td><td>0</td><td>1</td><td>0</td><td>0</td></tr>\n",
       "\t<tr><td>20.500</td><td>-0.58139209</td><td>-0.3342780</td><td>2004</td><td>Small </td><td> 0.71000771</td><td>0</td><td>0</td><td>0</td><td>0</td><td>⋯</td><td>0</td><td>1</td><td>0</td><td>0</td><td>0</td><td>1</td><td>0</td><td>1</td><td>0</td><td>0</td></tr>\n",
       "\t<tr><td>    NA</td><td> 1.12366574</td><td>-0.4695038</td><td>1985</td><td>Medium</td><td> 1.14698173</td><td>0</td><td>0</td><td>0</td><td>0</td><td>⋯</td><td>1</td><td>0</td><td>0</td><td>0</td><td>0</td><td>0</td><td>1</td><td>0</td><td>0</td><td>1</td></tr>\n",
       "\t<tr><td>10.500</td><td> 0.54292586</td><td> 1.1213415</td><td>2009</td><td>Medium</td><td>-0.03752999</td><td>0</td><td>0</td><td>0</td><td>0</td><td>⋯</td><td>0</td><td>0</td><td>0</td><td>0</td><td>0</td><td>0</td><td>1</td><td>0</td><td>1</td><td>0</td></tr>\n",
       "\t<tr><td>17.250</td><td> 0.35939781</td><td> 1.9622334</td><td>2009</td><td>Medium</td><td> 1.03344652</td><td>0</td><td>0</td><td>0</td><td>0</td><td>⋯</td><td>0</td><td>0</td><td>0</td><td>0</td><td>0</td><td>0</td><td>1</td><td>0</td><td>1</td><td>0</td></tr>\n",
       "\t<tr><td> 5.880</td><td>-0.69556898</td><td>-0.6293656</td><td>2004</td><td>Small </td><td>-0.97585367</td><td>0</td><td>0</td><td>0</td><td>0</td><td>⋯</td><td>0</td><td>1</td><td>0</td><td>0</td><td>0</td><td>1</td><td>0</td><td>1</td><td>0</td><td>0</td></tr>\n",
       "\t<tr><td>11.350</td><td>-0.44355358</td><td> 0.9390824</td><td>2002</td><td>NA    </td><td> 0.23830986</td><td>0</td><td>0</td><td>0</td><td>0</td><td>⋯</td><td>0</td><td>0</td><td>1</td><td>0</td><td>0</td><td>1</td><td>0</td><td>1</td><td>0</td><td>0</td></tr>\n",
       "\t<tr><td> 8.100</td><td> 2.87171232</td><td> 1.1721773</td><td>1998</td><td>NA    </td><td>-1.02930496</td><td>0</td><td>0</td><td>0</td><td>0</td><td>⋯</td><td>0</td><td>0</td><td>0</td><td>0</td><td>0</td><td>0</td><td>1</td><td>0</td><td>0</td><td>0</td></tr>\n",
       "\t<tr><td>13.800</td><td>-0.17966632</td><td> 1.4549261</td><td>2004</td><td>Small </td><td> 2.93077211</td><td>0</td><td>0</td><td>0</td><td>0</td><td>⋯</td><td>0</td><td>1</td><td>0</td><td>0</td><td>0</td><td>1</td><td>0</td><td>1</td><td>0</td><td>0</td></tr>\n",
       "\t<tr><td>17.500</td><td>-0.75878547</td><td> 1.9525988</td><td>2009</td><td>Medium</td><td> 1.18755789</td><td>0</td><td>0</td><td>0</td><td>0</td><td>⋯</td><td>0</td><td>0</td><td>0</td><td>0</td><td>0</td><td>0</td><td>1</td><td>0</td><td>1</td><td>0</td></tr>\n",
       "\t<tr><td>20.700</td><td>-0.45216828</td><td> 0.5991165</td><td>1987</td><td>High  </td><td> 0.17471453</td><td>0</td><td>0</td><td>0</td><td>0</td><td>⋯</td><td>0</td><td>0</td><td>0</td><td>0</td><td>0</td><td>0</td><td>1</td><td>1</td><td>0</td><td>0</td></tr>\n",
       "\t<tr><td>12.000</td><td>-0.88617563</td><td>-0.6597919</td><td>2004</td><td>Small </td><td>-0.92942518</td><td>0</td><td>0</td><td>0</td><td>0</td><td>⋯</td><td>0</td><td>1</td><td>0</td><td>0</td><td>0</td><td>1</td><td>0</td><td>1</td><td>0</td><td>0</td></tr>\n",
       "\t<tr><td>15.000</td><td>-0.22565865</td><td>-1.3392580</td><td>2002</td><td>NA    </td><td>-1.00355470</td><td>0</td><td>0</td><td>0</td><td>0</td><td>⋯</td><td>0</td><td>0</td><td>1</td><td>0</td><td>0</td><td>1</td><td>0</td><td>1</td><td>0</td><td>0</td></tr>\n",
       "\t<tr><td>20.700</td><td>-0.86464102</td><td> 0.2655319</td><td>2009</td><td>Medium</td><td>-0.35745740</td><td>0</td><td>0</td><td>0</td><td>0</td><td>⋯</td><td>0</td><td>0</td><td>0</td><td>0</td><td>0</td><td>0</td><td>1</td><td>0</td><td>1</td><td>0</td></tr>\n",
       "\t<tr><td>18.600</td><td> 1.01805454</td><td>-1.3204961</td><td>2009</td><td>Medium</td><td>-0.77492365</td><td>0</td><td>0</td><td>0</td><td>0</td><td>⋯</td><td>0</td><td>0</td><td>0</td><td>0</td><td>0</td><td>0</td><td>1</td><td>0</td><td>1</td><td>0</td></tr>\n",
       "\t<tr><td>20.750</td><td> 0.33866810</td><td> 0.6076110</td><td>1997</td><td>Small </td><td> 0.83641805</td><td>0</td><td>0</td><td>0</td><td>0</td><td>⋯</td><td>0</td><td>0</td><td>0</td><td>1</td><td>0</td><td>0</td><td>0</td><td>1</td><td>0</td><td>0</td></tr>\n",
       "\t<tr><td> 6.865</td><td>-0.18118284</td><td> 1.1807136</td><td>1987</td><td>High  </td><td> 0.34989430</td><td>0</td><td>0</td><td>0</td><td>0</td><td>⋯</td><td>0</td><td>0</td><td>0</td><td>0</td><td>0</td><td>0</td><td>1</td><td>1</td><td>0</td><td>0</td></tr>\n",
       "\t<tr><td> 8.380</td><td>-0.37113194</td><td>-0.5272701</td><td>2002</td><td>NA    </td><td>-0.95634590</td><td>0</td><td>0</td><td>0</td><td>0</td><td>⋯</td><td>0</td><td>0</td><td>1</td><td>0</td><td>0</td><td>1</td><td>0</td><td>1</td><td>0</td><td>0</td></tr>\n",
       "\t<tr><td>10.600</td><td>-0.59974930</td><td>-0.8971549</td><td>2004</td><td>Small </td><td>-0.57906565</td><td>0</td><td>0</td><td>0</td><td>0</td><td>⋯</td><td>0</td><td>1</td><td>0</td><td>0</td><td>0</td><td>1</td><td>0</td><td>1</td><td>0</td><td>0</td></tr>\n",
       "\t<tr><td> 7.210</td><td> 1.53278983</td><td>-0.6079413</td><td>2009</td><td>Medium</td><td>-0.19671338</td><td>0</td><td>0</td><td>0</td><td>0</td><td>⋯</td><td>0</td><td>0</td><td>0</td><td>0</td><td>0</td><td>0</td><td>1</td><td>0</td><td>1</td><td>0</td></tr>\n",
       "\t<tr><td>14.800</td><td>-0.41191174</td><td>-1.0521993</td><td>1997</td><td>Small </td><td>-0.82954540</td><td>0</td><td>0</td><td>0</td><td>0</td><td>⋯</td><td>0</td><td>0</td><td>0</td><td>1</td><td>0</td><td>0</td><td>0</td><td>1</td><td>0</td><td>0</td></tr>\n",
       "</tbody>\n",
       "</table>\n"
      ],
      "text/latex": [
       "A tibble: 8523 × 63\n",
       "\\begin{tabular}{lllllllllllllllllllll}\n",
       " Item\\_Weight & Item\\_Visibility & Item\\_MRP & Outlet\\_Establishment\\_Year & Outlet\\_Size & Item\\_Outlet\\_Sales & Item\\_Identifier\\_DRN47 & Item\\_Identifier\\_FDD38 & Item\\_Identifier\\_FDF52 & Item\\_Identifier\\_FDF56 & ⋯ & Outlet\\_Identifier\\_OUT027 & Outlet\\_Identifier\\_OUT035 & Outlet\\_Identifier\\_OUT045 & Outlet\\_Identifier\\_OUT046 & Outlet\\_Identifier\\_OUT049 & Outlet\\_Location\\_Type\\_Tier.2 & Outlet\\_Location\\_Type\\_Tier.3 & Outlet\\_Type\\_Supermarket.Type1 & Outlet\\_Type\\_Supermarket.Type2 & Outlet\\_Type\\_Supermarket.Type3\\\\\n",
       " <dbl> & <dbl> & <dbl> & <dbl> & <fct> & <dbl> & <dbl> & <dbl> & <dbl> & <dbl> & ⋯ & <dbl> & <dbl> & <dbl> & <dbl> & <dbl> & <dbl> & <dbl> & <dbl> & <dbl> & <dbl>\\\\\n",
       "\\hline\n",
       "\t  9.300 & -0.97067522 &  1.74735129 & 1999 & Medium &  0.910547575 & 0 & 0 & 0 & 0 & ⋯ & 0 & 0 & 0 & 0 & 1 & 0 & 0 & 1 & 0 & 0\\\\\n",
       "\t  5.920 & -0.90805795 & -1.48893590 & 2009 & Medium & -1.018380606 & 0 & 0 & 0 & 0 & ⋯ & 0 & 0 & 0 & 0 & 0 & 0 & 1 & 0 & 1 & 0\\\\\n",
       "\t 17.500 & -0.95686119 &  0.01003962 & 1999 & Medium & -0.049234651 & 0 & 0 & 0 & 0 & ⋯ & 0 & 0 & 0 & 0 & 1 & 0 & 0 & 1 & 0 & 0\\\\\n",
       "\t 19.200 & -1.28168256 &  0.66001082 & 1998 & NA     & -0.849053173 & 0 & 0 & 0 & 0 & ⋯ & 0 & 0 & 0 & 0 & 0 & 0 & 1 & 0 & 0 & 0\\\\\n",
       "\t  8.930 & -1.28168256 & -1.39913752 & 1987 & High   & -0.695331955 & 0 & 0 & 0 & 0 & ⋯ & 0 & 0 & 0 & 0 & 0 & 0 & 1 & 1 & 0 & 0\\\\\n",
       "\t 10.395 & -1.28168256 & -1.43864932 & 2009 & Medium & -0.952054192 & 0 & 0 & 0 & 0 & ⋯ & 0 & 0 & 0 & 0 & 0 & 0 & 1 & 0 & 1 & 0\\\\\n",
       "\t 13.650 & -1.03475180 & -1.33815966 & 1987 & High   & -1.076903913 & 0 & 0 & 0 & 0 & ⋯ & 0 & 0 & 0 & 0 & 0 & 0 & 1 & 1 & 0 & 0\\\\\n",
       "\t     NA &  1.18876777 & -0.53360974 & 1985 & Medium &  1.079094697 & 0 & 0 & 0 & 0 & ⋯ & 1 & 0 & 0 & 0 & 0 & 0 & 1 & 0 & 0 & 1\\\\\n",
       "\t 16.200 & -0.95827522 & -0.70686688 & 2002 & NA     & -0.647342843 & 0 & 0 & 0 & 0 & ⋯ & 0 & 0 & 1 & 0 & 0 & 1 & 0 & 1 & 0 & 0\\\\\n",
       "\t 19.200 &  0.54881311 &  0.75196416 & 2007 & NA     &  1.482125201 & 0 & 0 & 0 & 0 & ⋯ & 0 & 0 & 0 & 0 & 0 & 1 & 0 & 1 & 0 & 0\\\\\n",
       "\t 11.800 & -1.28168256 & -1.53275761 & 1999 & Medium & -0.389840295 & 0 & 0 & 0 & 0 & ⋯ & 0 & 0 & 0 & 0 & 1 & 0 & 0 & 1 & 0 & 0\\\\\n",
       "\t 18.500 & -0.40056450 &  0.05005885 & 1997 & Small  &  0.003436324 & 0 & 0 & 0 & 0 & ⋯ & 0 & 0 & 0 & 1 & 0 & 0 & 0 & 1 & 0 & 0\\\\\n",
       "\t 15.100 &  0.65664537 &  0.07203233 & 1999 & Medium & -0.346923204 & 0 & 0 & 0 & 0 & ⋯ & 0 & 0 & 0 & 0 & 1 & 0 & 0 & 1 & 0 & 0\\\\\n",
       "\t 17.600 & -0.36580421 & -0.34226510 & 1997 & Small  & -0.021143464 & 0 & 0 & 0 & 0 & ⋯ & 0 & 0 & 0 & 1 & 0 & 0 & 0 & 1 & 0 & 0\\\\\n",
       "\t 16.350 &  0.03667347 &  0.89040159 & 1987 & High   & -0.119462619 & 0 & 0 & 0 & 0 & ⋯ & 0 & 0 & 0 & 0 & 0 & 0 & 1 & 1 & 0 & 0\\\\\n",
       "\t  9.000 &  0.05730731 & -1.35899304 & 1997 & Small  & -0.371502992 & 0 & 0 & 0 & 0 & ⋯ & 0 & 0 & 0 & 1 & 0 & 0 & 0 & 1 & 0 & 0\\\\\n",
       "\t 11.800 & -1.11508539 & -0.41177928 & 2009 & Medium & -0.327805590 & 0 & 0 & 0 & 0 & ⋯ & 0 & 0 & 0 & 0 & 0 & 0 & 1 & 0 & 1 & 0\\\\\n",
       "\t  9.000 &  0.05938908 & -1.39110862 & 1999 & Medium & -0.857246436 & 0 & 0 & 0 & 0 & ⋯ & 0 & 0 & 0 & 0 & 1 & 0 & 0 & 1 & 0 & 0\\\\\n",
       "\t     NA & -0.61813358 & -0.44495146 & 1985 & Medium &  0.071713515 & 0 & 0 & 0 & 0 & ⋯ & 1 & 0 & 0 & 0 & 0 & 0 & 1 & 0 & 0 & 1\\\\\n",
       "\t 13.350 &  0.70468267 &  1.43785343 & 2004 & Small  &  0.332337307 & 0 & 0 & 0 & 0 & ⋯ & 0 & 1 & 0 & 0 & 0 & 1 & 0 & 1 & 0 & 0\\\\\n",
       "\t 18.850 &  1.39653662 &  1.76442394 & 1987 & High   &  0.933956897 & 0 & 0 & 0 & 0 & ⋯ & 0 & 0 & 0 & 0 & 0 & 0 & 1 & 1 & 0 & 0\\\\\n",
       "\t     NA & -0.59560858 &  0.05703114 & 1985 & Medium &  1.103284331 & 0 & 0 & 0 & 0 & ⋯ & 1 & 0 & 0 & 0 & 0 & 0 & 1 & 0 & 0 & 1\\\\\n",
       "\t 14.600 & -0.78363568 &  0.89145819 & 2004 & Small  & -0.348093670 & 0 & 0 & 0 & 0 & ⋯ & 0 & 1 & 0 & 0 & 0 & 1 & 0 & 1 & 0 & 0\\\\\n",
       "\t     NA & -0.16618978 & -0.53470809 & 1985 & Small  & -1.152594056 & 0 & 0 & 0 & 0 & ⋯ & 0 & 0 & 0 & 0 & 0 & 0 & 0 & 0 & 0 & 0\\\\\n",
       "\t 13.850 & -0.77979151 &  0.38584010 & 1997 & Small  &  1.111477594 & 0 & 0 & 0 & 0 & ⋯ & 0 & 0 & 0 & 1 & 0 & 0 & 0 & 1 & 0 & 0\\\\\n",
       "\t 13.000 &  0.65419571 & -1.52688367 & 2007 & NA     & -0.786628313 & 0 & 0 & 0 & 0 & ⋯ & 0 & 0 & 0 & 0 & 0 & 1 & 0 & 1 & 0 & 0\\\\\n",
       "\t  7.645 &  0.01088046 & -1.58460821 & 2004 & Small  & -0.653975485 & 0 & 0 & 0 & 0 & ⋯ & 0 & 1 & 0 & 0 & 0 & 1 & 0 & 1 & 0 & 0\\\\\n",
       "\t 11.650 & -0.90654789 & -1.63590965 & 1987 & High   & -1.097191992 & 0 & 0 & 0 & 0 & ⋯ & 0 & 0 & 0 & 0 & 0 & 0 & 1 & 1 & 0 & 0\\\\\n",
       "\t  5.925 &  1.84764591 & -1.53326503 & 1998 & NA     & -1.173662446 & 0 & 0 & 0 & 0 & ⋯ & 0 & 0 & 0 & 0 & 0 & 0 & 1 & 0 & 0 & 0\\\\\n",
       "\t     NA &  0.11802382 & -1.56318391 & 1985 & Small  & -1.204484721 & 0 & 0 & 0 & 0 & ⋯ & 0 & 0 & 0 & 0 & 0 & 0 & 0 & 0 & 0 & 0\\\\\n",
       "\t ⋮ & ⋮ & ⋮ & ⋮ & ⋮ & ⋮ & ⋮ & ⋮ & ⋮ & ⋮ & ⋱ & ⋮ & ⋮ & ⋮ & ⋮ & ⋮ & ⋮ & ⋮ & ⋮ & ⋮ & ⋮\\\\\n",
       "\t  7.420 & -0.77998613 &  0.7738959 & 2007 & NA     &  1.49187909 & 0 & 0 & 0 & 0 & ⋯ & 0 & 0 & 0 & 0 & 0 & 1 & 0 & 1 & 0 & 0\\\\\n",
       "\t 15.200 & -1.28168256 & -0.4897880 & 2007 & NA     & -0.31844186 & 0 & 0 & 0 & 0 & ⋯ & 0 & 0 & 0 & 0 & 0 & 1 & 0 & 1 & 0 & 0\\\\\n",
       "\t  9.695 & -0.70865027 &  0.3131144 & 2004 & Small  &  1.24998275 & 0 & 0 & 0 & 0 & ⋯ & 0 & 1 & 0 & 0 & 0 & 1 & 0 & 1 & 0 & 0\\\\\n",
       "\t  7.420 & -0.86120601 &  0.7124106 & 2007 & NA     &  0.89884291 & 0 & 0 & 0 & 0 & ⋯ & 0 & 0 & 0 & 0 & 0 & 1 & 0 & 1 & 0 & 0\\\\\n",
       "\t 13.650 & -0.32797579 &  0.1447163 & 2004 & Small  &  0.03855031 & 0 & 0 & 0 & 0 & ⋯ & 0 & 1 & 0 & 0 & 0 & 1 & 0 & 1 & 0 & 0\\\\\n",
       "\t 15.350 & -0.59768363 & -0.2636654 & 2009 & Medium & -0.33990041 & 0 & 0 & 0 & 0 & ⋯ & 0 & 0 & 0 & 0 & 0 & 0 & 1 & 0 & 1 & 0\\\\\n",
       "\t 11.600 & -0.55347087 & -0.6581861 & 2004 & Small  &  0.46577045 & 0 & 0 & 0 & 0 & ⋯ & 0 & 1 & 0 & 0 & 0 & 1 & 0 & 1 & 0 & 0\\\\\n",
       "\t 20.350 & -1.28168256 & -0.2541143 & 2007 & NA     & -0.16042893 & 0 & 0 & 0 & 0 & ⋯ & 0 & 0 & 0 & 0 & 0 & 1 & 0 & 1 & 0 & 0\\\\\n",
       "\t  5.340 & -1.16544480 & -0.6512555 & 2007 & NA     & -0.39452216 & 0 & 0 & 0 & 0 & ⋯ & 0 & 0 & 0 & 0 & 0 & 1 & 0 & 1 & 0 & 0\\\\\n",
       "\t  8.420 &  0.08876348 &  1.2111817 & 2002 & NA     &  0.49152070 & 0 & 0 & 0 & 0 & ⋯ & 0 & 0 & 1 & 0 & 0 & 1 & 0 & 1 & 0 & 0\\\\\n",
       "\t 20.500 & -0.58139209 & -0.3342780 & 2004 & Small  &  0.71000771 & 0 & 0 & 0 & 0 & ⋯ & 0 & 1 & 0 & 0 & 0 & 1 & 0 & 1 & 0 & 0\\\\\n",
       "\t     NA &  1.12366574 & -0.4695038 & 1985 & Medium &  1.14698173 & 0 & 0 & 0 & 0 & ⋯ & 1 & 0 & 0 & 0 & 0 & 0 & 1 & 0 & 0 & 1\\\\\n",
       "\t 10.500 &  0.54292586 &  1.1213415 & 2009 & Medium & -0.03752999 & 0 & 0 & 0 & 0 & ⋯ & 0 & 0 & 0 & 0 & 0 & 0 & 1 & 0 & 1 & 0\\\\\n",
       "\t 17.250 &  0.35939781 &  1.9622334 & 2009 & Medium &  1.03344652 & 0 & 0 & 0 & 0 & ⋯ & 0 & 0 & 0 & 0 & 0 & 0 & 1 & 0 & 1 & 0\\\\\n",
       "\t  5.880 & -0.69556898 & -0.6293656 & 2004 & Small  & -0.97585367 & 0 & 0 & 0 & 0 & ⋯ & 0 & 1 & 0 & 0 & 0 & 1 & 0 & 1 & 0 & 0\\\\\n",
       "\t 11.350 & -0.44355358 &  0.9390824 & 2002 & NA     &  0.23830986 & 0 & 0 & 0 & 0 & ⋯ & 0 & 0 & 1 & 0 & 0 & 1 & 0 & 1 & 0 & 0\\\\\n",
       "\t  8.100 &  2.87171232 &  1.1721773 & 1998 & NA     & -1.02930496 & 0 & 0 & 0 & 0 & ⋯ & 0 & 0 & 0 & 0 & 0 & 0 & 1 & 0 & 0 & 0\\\\\n",
       "\t 13.800 & -0.17966632 &  1.4549261 & 2004 & Small  &  2.93077211 & 0 & 0 & 0 & 0 & ⋯ & 0 & 1 & 0 & 0 & 0 & 1 & 0 & 1 & 0 & 0\\\\\n",
       "\t 17.500 & -0.75878547 &  1.9525988 & 2009 & Medium &  1.18755789 & 0 & 0 & 0 & 0 & ⋯ & 0 & 0 & 0 & 0 & 0 & 0 & 1 & 0 & 1 & 0\\\\\n",
       "\t 20.700 & -0.45216828 &  0.5991165 & 1987 & High   &  0.17471453 & 0 & 0 & 0 & 0 & ⋯ & 0 & 0 & 0 & 0 & 0 & 0 & 1 & 1 & 0 & 0\\\\\n",
       "\t 12.000 & -0.88617563 & -0.6597919 & 2004 & Small  & -0.92942518 & 0 & 0 & 0 & 0 & ⋯ & 0 & 1 & 0 & 0 & 0 & 1 & 0 & 1 & 0 & 0\\\\\n",
       "\t 15.000 & -0.22565865 & -1.3392580 & 2002 & NA     & -1.00355470 & 0 & 0 & 0 & 0 & ⋯ & 0 & 0 & 1 & 0 & 0 & 1 & 0 & 1 & 0 & 0\\\\\n",
       "\t 20.700 & -0.86464102 &  0.2655319 & 2009 & Medium & -0.35745740 & 0 & 0 & 0 & 0 & ⋯ & 0 & 0 & 0 & 0 & 0 & 0 & 1 & 0 & 1 & 0\\\\\n",
       "\t 18.600 &  1.01805454 & -1.3204961 & 2009 & Medium & -0.77492365 & 0 & 0 & 0 & 0 & ⋯ & 0 & 0 & 0 & 0 & 0 & 0 & 1 & 0 & 1 & 0\\\\\n",
       "\t 20.750 &  0.33866810 &  0.6076110 & 1997 & Small  &  0.83641805 & 0 & 0 & 0 & 0 & ⋯ & 0 & 0 & 0 & 1 & 0 & 0 & 0 & 1 & 0 & 0\\\\\n",
       "\t  6.865 & -0.18118284 &  1.1807136 & 1987 & High   &  0.34989430 & 0 & 0 & 0 & 0 & ⋯ & 0 & 0 & 0 & 0 & 0 & 0 & 1 & 1 & 0 & 0\\\\\n",
       "\t  8.380 & -0.37113194 & -0.5272701 & 2002 & NA     & -0.95634590 & 0 & 0 & 0 & 0 & ⋯ & 0 & 0 & 1 & 0 & 0 & 1 & 0 & 1 & 0 & 0\\\\\n",
       "\t 10.600 & -0.59974930 & -0.8971549 & 2004 & Small  & -0.57906565 & 0 & 0 & 0 & 0 & ⋯ & 0 & 1 & 0 & 0 & 0 & 1 & 0 & 1 & 0 & 0\\\\\n",
       "\t  7.210 &  1.53278983 & -0.6079413 & 2009 & Medium & -0.19671338 & 0 & 0 & 0 & 0 & ⋯ & 0 & 0 & 0 & 0 & 0 & 0 & 1 & 0 & 1 & 0\\\\\n",
       "\t 14.800 & -0.41191174 & -1.0521993 & 1997 & Small  & -0.82954540 & 0 & 0 & 0 & 0 & ⋯ & 0 & 0 & 0 & 1 & 0 & 0 & 0 & 1 & 0 & 0\\\\\n",
       "\\end{tabular}\n"
      ],
      "text/markdown": [
       "\n",
       "A tibble: 8523 × 63\n",
       "\n",
       "| Item_Weight &lt;dbl&gt; | Item_Visibility &lt;dbl&gt; | Item_MRP &lt;dbl&gt; | Outlet_Establishment_Year &lt;dbl&gt; | Outlet_Size &lt;fct&gt; | Item_Outlet_Sales &lt;dbl&gt; | Item_Identifier_DRN47 &lt;dbl&gt; | Item_Identifier_FDD38 &lt;dbl&gt; | Item_Identifier_FDF52 &lt;dbl&gt; | Item_Identifier_FDF56 &lt;dbl&gt; | ⋯ ⋯ | Outlet_Identifier_OUT027 &lt;dbl&gt; | Outlet_Identifier_OUT035 &lt;dbl&gt; | Outlet_Identifier_OUT045 &lt;dbl&gt; | Outlet_Identifier_OUT046 &lt;dbl&gt; | Outlet_Identifier_OUT049 &lt;dbl&gt; | Outlet_Location_Type_Tier.2 &lt;dbl&gt; | Outlet_Location_Type_Tier.3 &lt;dbl&gt; | Outlet_Type_Supermarket.Type1 &lt;dbl&gt; | Outlet_Type_Supermarket.Type2 &lt;dbl&gt; | Outlet_Type_Supermarket.Type3 &lt;dbl&gt; |\n",
       "|---|---|---|---|---|---|---|---|---|---|---|---|---|---|---|---|---|---|---|---|---|\n",
       "|  9.300 | -0.97067522 |  1.74735129 | 1999 | Medium |  0.910547575 | 0 | 0 | 0 | 0 | ⋯ | 0 | 0 | 0 | 0 | 1 | 0 | 0 | 1 | 0 | 0 |\n",
       "|  5.920 | -0.90805795 | -1.48893590 | 2009 | Medium | -1.018380606 | 0 | 0 | 0 | 0 | ⋯ | 0 | 0 | 0 | 0 | 0 | 0 | 1 | 0 | 1 | 0 |\n",
       "| 17.500 | -0.95686119 |  0.01003962 | 1999 | Medium | -0.049234651 | 0 | 0 | 0 | 0 | ⋯ | 0 | 0 | 0 | 0 | 1 | 0 | 0 | 1 | 0 | 0 |\n",
       "| 19.200 | -1.28168256 |  0.66001082 | 1998 | NA     | -0.849053173 | 0 | 0 | 0 | 0 | ⋯ | 0 | 0 | 0 | 0 | 0 | 0 | 1 | 0 | 0 | 0 |\n",
       "|  8.930 | -1.28168256 | -1.39913752 | 1987 | High   | -0.695331955 | 0 | 0 | 0 | 0 | ⋯ | 0 | 0 | 0 | 0 | 0 | 0 | 1 | 1 | 0 | 0 |\n",
       "| 10.395 | -1.28168256 | -1.43864932 | 2009 | Medium | -0.952054192 | 0 | 0 | 0 | 0 | ⋯ | 0 | 0 | 0 | 0 | 0 | 0 | 1 | 0 | 1 | 0 |\n",
       "| 13.650 | -1.03475180 | -1.33815966 | 1987 | High   | -1.076903913 | 0 | 0 | 0 | 0 | ⋯ | 0 | 0 | 0 | 0 | 0 | 0 | 1 | 1 | 0 | 0 |\n",
       "|     NA |  1.18876777 | -0.53360974 | 1985 | Medium |  1.079094697 | 0 | 0 | 0 | 0 | ⋯ | 1 | 0 | 0 | 0 | 0 | 0 | 1 | 0 | 0 | 1 |\n",
       "| 16.200 | -0.95827522 | -0.70686688 | 2002 | NA     | -0.647342843 | 0 | 0 | 0 | 0 | ⋯ | 0 | 0 | 1 | 0 | 0 | 1 | 0 | 1 | 0 | 0 |\n",
       "| 19.200 |  0.54881311 |  0.75196416 | 2007 | NA     |  1.482125201 | 0 | 0 | 0 | 0 | ⋯ | 0 | 0 | 0 | 0 | 0 | 1 | 0 | 1 | 0 | 0 |\n",
       "| 11.800 | -1.28168256 | -1.53275761 | 1999 | Medium | -0.389840295 | 0 | 0 | 0 | 0 | ⋯ | 0 | 0 | 0 | 0 | 1 | 0 | 0 | 1 | 0 | 0 |\n",
       "| 18.500 | -0.40056450 |  0.05005885 | 1997 | Small  |  0.003436324 | 0 | 0 | 0 | 0 | ⋯ | 0 | 0 | 0 | 1 | 0 | 0 | 0 | 1 | 0 | 0 |\n",
       "| 15.100 |  0.65664537 |  0.07203233 | 1999 | Medium | -0.346923204 | 0 | 0 | 0 | 0 | ⋯ | 0 | 0 | 0 | 0 | 1 | 0 | 0 | 1 | 0 | 0 |\n",
       "| 17.600 | -0.36580421 | -0.34226510 | 1997 | Small  | -0.021143464 | 0 | 0 | 0 | 0 | ⋯ | 0 | 0 | 0 | 1 | 0 | 0 | 0 | 1 | 0 | 0 |\n",
       "| 16.350 |  0.03667347 |  0.89040159 | 1987 | High   | -0.119462619 | 0 | 0 | 0 | 0 | ⋯ | 0 | 0 | 0 | 0 | 0 | 0 | 1 | 1 | 0 | 0 |\n",
       "|  9.000 |  0.05730731 | -1.35899304 | 1997 | Small  | -0.371502992 | 0 | 0 | 0 | 0 | ⋯ | 0 | 0 | 0 | 1 | 0 | 0 | 0 | 1 | 0 | 0 |\n",
       "| 11.800 | -1.11508539 | -0.41177928 | 2009 | Medium | -0.327805590 | 0 | 0 | 0 | 0 | ⋯ | 0 | 0 | 0 | 0 | 0 | 0 | 1 | 0 | 1 | 0 |\n",
       "|  9.000 |  0.05938908 | -1.39110862 | 1999 | Medium | -0.857246436 | 0 | 0 | 0 | 0 | ⋯ | 0 | 0 | 0 | 0 | 1 | 0 | 0 | 1 | 0 | 0 |\n",
       "|     NA | -0.61813358 | -0.44495146 | 1985 | Medium |  0.071713515 | 0 | 0 | 0 | 0 | ⋯ | 1 | 0 | 0 | 0 | 0 | 0 | 1 | 0 | 0 | 1 |\n",
       "| 13.350 |  0.70468267 |  1.43785343 | 2004 | Small  |  0.332337307 | 0 | 0 | 0 | 0 | ⋯ | 0 | 1 | 0 | 0 | 0 | 1 | 0 | 1 | 0 | 0 |\n",
       "| 18.850 |  1.39653662 |  1.76442394 | 1987 | High   |  0.933956897 | 0 | 0 | 0 | 0 | ⋯ | 0 | 0 | 0 | 0 | 0 | 0 | 1 | 1 | 0 | 0 |\n",
       "|     NA | -0.59560858 |  0.05703114 | 1985 | Medium |  1.103284331 | 0 | 0 | 0 | 0 | ⋯ | 1 | 0 | 0 | 0 | 0 | 0 | 1 | 0 | 0 | 1 |\n",
       "| 14.600 | -0.78363568 |  0.89145819 | 2004 | Small  | -0.348093670 | 0 | 0 | 0 | 0 | ⋯ | 0 | 1 | 0 | 0 | 0 | 1 | 0 | 1 | 0 | 0 |\n",
       "|     NA | -0.16618978 | -0.53470809 | 1985 | Small  | -1.152594056 | 0 | 0 | 0 | 0 | ⋯ | 0 | 0 | 0 | 0 | 0 | 0 | 0 | 0 | 0 | 0 |\n",
       "| 13.850 | -0.77979151 |  0.38584010 | 1997 | Small  |  1.111477594 | 0 | 0 | 0 | 0 | ⋯ | 0 | 0 | 0 | 1 | 0 | 0 | 0 | 1 | 0 | 0 |\n",
       "| 13.000 |  0.65419571 | -1.52688367 | 2007 | NA     | -0.786628313 | 0 | 0 | 0 | 0 | ⋯ | 0 | 0 | 0 | 0 | 0 | 1 | 0 | 1 | 0 | 0 |\n",
       "|  7.645 |  0.01088046 | -1.58460821 | 2004 | Small  | -0.653975485 | 0 | 0 | 0 | 0 | ⋯ | 0 | 1 | 0 | 0 | 0 | 1 | 0 | 1 | 0 | 0 |\n",
       "| 11.650 | -0.90654789 | -1.63590965 | 1987 | High   | -1.097191992 | 0 | 0 | 0 | 0 | ⋯ | 0 | 0 | 0 | 0 | 0 | 0 | 1 | 1 | 0 | 0 |\n",
       "|  5.925 |  1.84764591 | -1.53326503 | 1998 | NA     | -1.173662446 | 0 | 0 | 0 | 0 | ⋯ | 0 | 0 | 0 | 0 | 0 | 0 | 1 | 0 | 0 | 0 |\n",
       "|     NA |  0.11802382 | -1.56318391 | 1985 | Small  | -1.204484721 | 0 | 0 | 0 | 0 | ⋯ | 0 | 0 | 0 | 0 | 0 | 0 | 0 | 0 | 0 | 0 |\n",
       "| ⋮ | ⋮ | ⋮ | ⋮ | ⋮ | ⋮ | ⋮ | ⋮ | ⋮ | ⋮ | ⋱ | ⋮ | ⋮ | ⋮ | ⋮ | ⋮ | ⋮ | ⋮ | ⋮ | ⋮ | ⋮ |\n",
       "|  7.420 | -0.77998613 |  0.7738959 | 2007 | NA     |  1.49187909 | 0 | 0 | 0 | 0 | ⋯ | 0 | 0 | 0 | 0 | 0 | 1 | 0 | 1 | 0 | 0 |\n",
       "| 15.200 | -1.28168256 | -0.4897880 | 2007 | NA     | -0.31844186 | 0 | 0 | 0 | 0 | ⋯ | 0 | 0 | 0 | 0 | 0 | 1 | 0 | 1 | 0 | 0 |\n",
       "|  9.695 | -0.70865027 |  0.3131144 | 2004 | Small  |  1.24998275 | 0 | 0 | 0 | 0 | ⋯ | 0 | 1 | 0 | 0 | 0 | 1 | 0 | 1 | 0 | 0 |\n",
       "|  7.420 | -0.86120601 |  0.7124106 | 2007 | NA     |  0.89884291 | 0 | 0 | 0 | 0 | ⋯ | 0 | 0 | 0 | 0 | 0 | 1 | 0 | 1 | 0 | 0 |\n",
       "| 13.650 | -0.32797579 |  0.1447163 | 2004 | Small  |  0.03855031 | 0 | 0 | 0 | 0 | ⋯ | 0 | 1 | 0 | 0 | 0 | 1 | 0 | 1 | 0 | 0 |\n",
       "| 15.350 | -0.59768363 | -0.2636654 | 2009 | Medium | -0.33990041 | 0 | 0 | 0 | 0 | ⋯ | 0 | 0 | 0 | 0 | 0 | 0 | 1 | 0 | 1 | 0 |\n",
       "| 11.600 | -0.55347087 | -0.6581861 | 2004 | Small  |  0.46577045 | 0 | 0 | 0 | 0 | ⋯ | 0 | 1 | 0 | 0 | 0 | 1 | 0 | 1 | 0 | 0 |\n",
       "| 20.350 | -1.28168256 | -0.2541143 | 2007 | NA     | -0.16042893 | 0 | 0 | 0 | 0 | ⋯ | 0 | 0 | 0 | 0 | 0 | 1 | 0 | 1 | 0 | 0 |\n",
       "|  5.340 | -1.16544480 | -0.6512555 | 2007 | NA     | -0.39452216 | 0 | 0 | 0 | 0 | ⋯ | 0 | 0 | 0 | 0 | 0 | 1 | 0 | 1 | 0 | 0 |\n",
       "|  8.420 |  0.08876348 |  1.2111817 | 2002 | NA     |  0.49152070 | 0 | 0 | 0 | 0 | ⋯ | 0 | 0 | 1 | 0 | 0 | 1 | 0 | 1 | 0 | 0 |\n",
       "| 20.500 | -0.58139209 | -0.3342780 | 2004 | Small  |  0.71000771 | 0 | 0 | 0 | 0 | ⋯ | 0 | 1 | 0 | 0 | 0 | 1 | 0 | 1 | 0 | 0 |\n",
       "|     NA |  1.12366574 | -0.4695038 | 1985 | Medium |  1.14698173 | 0 | 0 | 0 | 0 | ⋯ | 1 | 0 | 0 | 0 | 0 | 0 | 1 | 0 | 0 | 1 |\n",
       "| 10.500 |  0.54292586 |  1.1213415 | 2009 | Medium | -0.03752999 | 0 | 0 | 0 | 0 | ⋯ | 0 | 0 | 0 | 0 | 0 | 0 | 1 | 0 | 1 | 0 |\n",
       "| 17.250 |  0.35939781 |  1.9622334 | 2009 | Medium |  1.03344652 | 0 | 0 | 0 | 0 | ⋯ | 0 | 0 | 0 | 0 | 0 | 0 | 1 | 0 | 1 | 0 |\n",
       "|  5.880 | -0.69556898 | -0.6293656 | 2004 | Small  | -0.97585367 | 0 | 0 | 0 | 0 | ⋯ | 0 | 1 | 0 | 0 | 0 | 1 | 0 | 1 | 0 | 0 |\n",
       "| 11.350 | -0.44355358 |  0.9390824 | 2002 | NA     |  0.23830986 | 0 | 0 | 0 | 0 | ⋯ | 0 | 0 | 1 | 0 | 0 | 1 | 0 | 1 | 0 | 0 |\n",
       "|  8.100 |  2.87171232 |  1.1721773 | 1998 | NA     | -1.02930496 | 0 | 0 | 0 | 0 | ⋯ | 0 | 0 | 0 | 0 | 0 | 0 | 1 | 0 | 0 | 0 |\n",
       "| 13.800 | -0.17966632 |  1.4549261 | 2004 | Small  |  2.93077211 | 0 | 0 | 0 | 0 | ⋯ | 0 | 1 | 0 | 0 | 0 | 1 | 0 | 1 | 0 | 0 |\n",
       "| 17.500 | -0.75878547 |  1.9525988 | 2009 | Medium |  1.18755789 | 0 | 0 | 0 | 0 | ⋯ | 0 | 0 | 0 | 0 | 0 | 0 | 1 | 0 | 1 | 0 |\n",
       "| 20.700 | -0.45216828 |  0.5991165 | 1987 | High   |  0.17471453 | 0 | 0 | 0 | 0 | ⋯ | 0 | 0 | 0 | 0 | 0 | 0 | 1 | 1 | 0 | 0 |\n",
       "| 12.000 | -0.88617563 | -0.6597919 | 2004 | Small  | -0.92942518 | 0 | 0 | 0 | 0 | ⋯ | 0 | 1 | 0 | 0 | 0 | 1 | 0 | 1 | 0 | 0 |\n",
       "| 15.000 | -0.22565865 | -1.3392580 | 2002 | NA     | -1.00355470 | 0 | 0 | 0 | 0 | ⋯ | 0 | 0 | 1 | 0 | 0 | 1 | 0 | 1 | 0 | 0 |\n",
       "| 20.700 | -0.86464102 |  0.2655319 | 2009 | Medium | -0.35745740 | 0 | 0 | 0 | 0 | ⋯ | 0 | 0 | 0 | 0 | 0 | 0 | 1 | 0 | 1 | 0 |\n",
       "| 18.600 |  1.01805454 | -1.3204961 | 2009 | Medium | -0.77492365 | 0 | 0 | 0 | 0 | ⋯ | 0 | 0 | 0 | 0 | 0 | 0 | 1 | 0 | 1 | 0 |\n",
       "| 20.750 |  0.33866810 |  0.6076110 | 1997 | Small  |  0.83641805 | 0 | 0 | 0 | 0 | ⋯ | 0 | 0 | 0 | 1 | 0 | 0 | 0 | 1 | 0 | 0 |\n",
       "|  6.865 | -0.18118284 |  1.1807136 | 1987 | High   |  0.34989430 | 0 | 0 | 0 | 0 | ⋯ | 0 | 0 | 0 | 0 | 0 | 0 | 1 | 1 | 0 | 0 |\n",
       "|  8.380 | -0.37113194 | -0.5272701 | 2002 | NA     | -0.95634590 | 0 | 0 | 0 | 0 | ⋯ | 0 | 0 | 1 | 0 | 0 | 1 | 0 | 1 | 0 | 0 |\n",
       "| 10.600 | -0.59974930 | -0.8971549 | 2004 | Small  | -0.57906565 | 0 | 0 | 0 | 0 | ⋯ | 0 | 1 | 0 | 0 | 0 | 1 | 0 | 1 | 0 | 0 |\n",
       "|  7.210 |  1.53278983 | -0.6079413 | 2009 | Medium | -0.19671338 | 0 | 0 | 0 | 0 | ⋯ | 0 | 0 | 0 | 0 | 0 | 0 | 1 | 0 | 1 | 0 |\n",
       "| 14.800 | -0.41191174 | -1.0521993 | 1997 | Small  | -0.82954540 | 0 | 0 | 0 | 0 | ⋯ | 0 | 0 | 0 | 1 | 0 | 0 | 0 | 1 | 0 | 0 |\n",
       "\n"
      ],
      "text/plain": [
       "     Item_Weight Item_Visibility Item_MRP    Outlet_Establishment_Year\n",
       "1     9.300      -0.97067522      1.74735129 1999                     \n",
       "2     5.920      -0.90805795     -1.48893590 2009                     \n",
       "3    17.500      -0.95686119      0.01003962 1999                     \n",
       "4    19.200      -1.28168256      0.66001082 1998                     \n",
       "5     8.930      -1.28168256     -1.39913752 1987                     \n",
       "6    10.395      -1.28168256     -1.43864932 2009                     \n",
       "7    13.650      -1.03475180     -1.33815966 1987                     \n",
       "8        NA       1.18876777     -0.53360974 1985                     \n",
       "9    16.200      -0.95827522     -0.70686688 2002                     \n",
       "10   19.200       0.54881311      0.75196416 2007                     \n",
       "11   11.800      -1.28168256     -1.53275761 1999                     \n",
       "12   18.500      -0.40056450      0.05005885 1997                     \n",
       "13   15.100       0.65664537      0.07203233 1999                     \n",
       "14   17.600      -0.36580421     -0.34226510 1997                     \n",
       "15   16.350       0.03667347      0.89040159 1987                     \n",
       "16    9.000       0.05730731     -1.35899304 1997                     \n",
       "17   11.800      -1.11508539     -0.41177928 2009                     \n",
       "18    9.000       0.05938908     -1.39110862 1999                     \n",
       "19       NA      -0.61813358     -0.44495146 1985                     \n",
       "20   13.350       0.70468267      1.43785343 2004                     \n",
       "21   18.850       1.39653662      1.76442394 1987                     \n",
       "22       NA      -0.59560858      0.05703114 1985                     \n",
       "23   14.600      -0.78363568      0.89145819 2004                     \n",
       "24       NA      -0.16618978     -0.53470809 1985                     \n",
       "25   13.850      -0.77979151      0.38584010 1997                     \n",
       "26   13.000       0.65419571     -1.52688367 2007                     \n",
       "27    7.645       0.01088046     -1.58460821 2004                     \n",
       "28   11.650      -0.90654789     -1.63590965 1987                     \n",
       "29    5.925       1.84764591     -1.53326503 1998                     \n",
       "30       NA       0.11802382     -1.56318391 1985                     \n",
       "⋮    ⋮           ⋮               ⋮           ⋮                        \n",
       "8494  7.420      -0.77998613      0.7738959  2007                     \n",
       "8495 15.200      -1.28168256     -0.4897880  2007                     \n",
       "8496  9.695      -0.70865027      0.3131144  2004                     \n",
       "8497  7.420      -0.86120601      0.7124106  2007                     \n",
       "8498 13.650      -0.32797579      0.1447163  2004                     \n",
       "8499 15.350      -0.59768363     -0.2636654  2009                     \n",
       "8500 11.600      -0.55347087     -0.6581861  2004                     \n",
       "8501 20.350      -1.28168256     -0.2541143  2007                     \n",
       "8502  5.340      -1.16544480     -0.6512555  2007                     \n",
       "8503  8.420       0.08876348      1.2111817  2002                     \n",
       "8504 20.500      -0.58139209     -0.3342780  2004                     \n",
       "8505     NA       1.12366574     -0.4695038  1985                     \n",
       "8506 10.500       0.54292586      1.1213415  2009                     \n",
       "8507 17.250       0.35939781      1.9622334  2009                     \n",
       "8508  5.880      -0.69556898     -0.6293656  2004                     \n",
       "8509 11.350      -0.44355358      0.9390824  2002                     \n",
       "8510  8.100       2.87171232      1.1721773  1998                     \n",
       "8511 13.800      -0.17966632      1.4549261  2004                     \n",
       "8512 17.500      -0.75878547      1.9525988  2009                     \n",
       "8513 20.700      -0.45216828      0.5991165  1987                     \n",
       "8514 12.000      -0.88617563     -0.6597919  2004                     \n",
       "8515 15.000      -0.22565865     -1.3392580  2002                     \n",
       "8516 20.700      -0.86464102      0.2655319  2009                     \n",
       "8517 18.600       1.01805454     -1.3204961  2009                     \n",
       "8518 20.750       0.33866810      0.6076110  1997                     \n",
       "8519  6.865      -0.18118284      1.1807136  1987                     \n",
       "8520  8.380      -0.37113194     -0.5272701  2002                     \n",
       "8521 10.600      -0.59974930     -0.8971549  2004                     \n",
       "8522  7.210       1.53278983     -0.6079413  2009                     \n",
       "8523 14.800      -0.41191174     -1.0521993  1997                     \n",
       "     Outlet_Size Item_Outlet_Sales Item_Identifier_DRN47 Item_Identifier_FDD38\n",
       "1    Medium       0.910547575      0                     0                    \n",
       "2    Medium      -1.018380606      0                     0                    \n",
       "3    Medium      -0.049234651      0                     0                    \n",
       "4    NA          -0.849053173      0                     0                    \n",
       "5    High        -0.695331955      0                     0                    \n",
       "6    Medium      -0.952054192      0                     0                    \n",
       "7    High        -1.076903913      0                     0                    \n",
       "8    Medium       1.079094697      0                     0                    \n",
       "9    NA          -0.647342843      0                     0                    \n",
       "10   NA           1.482125201      0                     0                    \n",
       "11   Medium      -0.389840295      0                     0                    \n",
       "12   Small        0.003436324      0                     0                    \n",
       "13   Medium      -0.346923204      0                     0                    \n",
       "14   Small       -0.021143464      0                     0                    \n",
       "15   High        -0.119462619      0                     0                    \n",
       "16   Small       -0.371502992      0                     0                    \n",
       "17   Medium      -0.327805590      0                     0                    \n",
       "18   Medium      -0.857246436      0                     0                    \n",
       "19   Medium       0.071713515      0                     0                    \n",
       "20   Small        0.332337307      0                     0                    \n",
       "21   High         0.933956897      0                     0                    \n",
       "22   Medium       1.103284331      0                     0                    \n",
       "23   Small       -0.348093670      0                     0                    \n",
       "24   Small       -1.152594056      0                     0                    \n",
       "25   Small        1.111477594      0                     0                    \n",
       "26   NA          -0.786628313      0                     0                    \n",
       "27   Small       -0.653975485      0                     0                    \n",
       "28   High        -1.097191992      0                     0                    \n",
       "29   NA          -1.173662446      0                     0                    \n",
       "30   Small       -1.204484721      0                     0                    \n",
       "⋮    ⋮           ⋮                 ⋮                     ⋮                    \n",
       "8494 NA           1.49187909       0                     0                    \n",
       "8495 NA          -0.31844186       0                     0                    \n",
       "8496 Small        1.24998275       0                     0                    \n",
       "8497 NA           0.89884291       0                     0                    \n",
       "8498 Small        0.03855031       0                     0                    \n",
       "8499 Medium      -0.33990041       0                     0                    \n",
       "8500 Small        0.46577045       0                     0                    \n",
       "8501 NA          -0.16042893       0                     0                    \n",
       "8502 NA          -0.39452216       0                     0                    \n",
       "8503 NA           0.49152070       0                     0                    \n",
       "8504 Small        0.71000771       0                     0                    \n",
       "8505 Medium       1.14698173       0                     0                    \n",
       "8506 Medium      -0.03752999       0                     0                    \n",
       "8507 Medium       1.03344652       0                     0                    \n",
       "8508 Small       -0.97585367       0                     0                    \n",
       "8509 NA           0.23830986       0                     0                    \n",
       "8510 NA          -1.02930496       0                     0                    \n",
       "8511 Small        2.93077211       0                     0                    \n",
       "8512 Medium       1.18755789       0                     0                    \n",
       "8513 High         0.17471453       0                     0                    \n",
       "8514 Small       -0.92942518       0                     0                    \n",
       "8515 NA          -1.00355470       0                     0                    \n",
       "8516 Medium      -0.35745740       0                     0                    \n",
       "8517 Medium      -0.77492365       0                     0                    \n",
       "8518 Small        0.83641805       0                     0                    \n",
       "8519 High         0.34989430       0                     0                    \n",
       "8520 NA          -0.95634590       0                     0                    \n",
       "8521 Small       -0.57906565       0                     0                    \n",
       "8522 Medium      -0.19671338       0                     0                    \n",
       "8523 Small       -0.82954540       0                     0                    \n",
       "     Item_Identifier_FDF52 Item_Identifier_FDF56 ⋯ Outlet_Identifier_OUT027\n",
       "1    0                     0                     ⋯ 0                       \n",
       "2    0                     0                     ⋯ 0                       \n",
       "3    0                     0                     ⋯ 0                       \n",
       "4    0                     0                     ⋯ 0                       \n",
       "5    0                     0                     ⋯ 0                       \n",
       "6    0                     0                     ⋯ 0                       \n",
       "7    0                     0                     ⋯ 0                       \n",
       "8    0                     0                     ⋯ 1                       \n",
       "9    0                     0                     ⋯ 0                       \n",
       "10   0                     0                     ⋯ 0                       \n",
       "11   0                     0                     ⋯ 0                       \n",
       "12   0                     0                     ⋯ 0                       \n",
       "13   0                     0                     ⋯ 0                       \n",
       "14   0                     0                     ⋯ 0                       \n",
       "15   0                     0                     ⋯ 0                       \n",
       "16   0                     0                     ⋯ 0                       \n",
       "17   0                     0                     ⋯ 0                       \n",
       "18   0                     0                     ⋯ 0                       \n",
       "19   0                     0                     ⋯ 1                       \n",
       "20   0                     0                     ⋯ 0                       \n",
       "21   0                     0                     ⋯ 0                       \n",
       "22   0                     0                     ⋯ 1                       \n",
       "23   0                     0                     ⋯ 0                       \n",
       "24   0                     0                     ⋯ 0                       \n",
       "25   0                     0                     ⋯ 0                       \n",
       "26   0                     0                     ⋯ 0                       \n",
       "27   0                     0                     ⋯ 0                       \n",
       "28   0                     0                     ⋯ 0                       \n",
       "29   0                     0                     ⋯ 0                       \n",
       "30   0                     0                     ⋯ 0                       \n",
       "⋮    ⋮                     ⋮                     ⋱ ⋮                       \n",
       "8494 0                     0                     ⋯ 0                       \n",
       "8495 0                     0                     ⋯ 0                       \n",
       "8496 0                     0                     ⋯ 0                       \n",
       "8497 0                     0                     ⋯ 0                       \n",
       "8498 0                     0                     ⋯ 0                       \n",
       "8499 0                     0                     ⋯ 0                       \n",
       "8500 0                     0                     ⋯ 0                       \n",
       "8501 0                     0                     ⋯ 0                       \n",
       "8502 0                     0                     ⋯ 0                       \n",
       "8503 0                     0                     ⋯ 0                       \n",
       "8504 0                     0                     ⋯ 0                       \n",
       "8505 0                     0                     ⋯ 1                       \n",
       "8506 0                     0                     ⋯ 0                       \n",
       "8507 0                     0                     ⋯ 0                       \n",
       "8508 0                     0                     ⋯ 0                       \n",
       "8509 0                     0                     ⋯ 0                       \n",
       "8510 0                     0                     ⋯ 0                       \n",
       "8511 0                     0                     ⋯ 0                       \n",
       "8512 0                     0                     ⋯ 0                       \n",
       "8513 0                     0                     ⋯ 0                       \n",
       "8514 0                     0                     ⋯ 0                       \n",
       "8515 0                     0                     ⋯ 0                       \n",
       "8516 0                     0                     ⋯ 0                       \n",
       "8517 0                     0                     ⋯ 0                       \n",
       "8518 0                     0                     ⋯ 0                       \n",
       "8519 0                     0                     ⋯ 0                       \n",
       "8520 0                     0                     ⋯ 0                       \n",
       "8521 0                     0                     ⋯ 0                       \n",
       "8522 0                     0                     ⋯ 0                       \n",
       "8523 0                     0                     ⋯ 0                       \n",
       "     Outlet_Identifier_OUT035 Outlet_Identifier_OUT045 Outlet_Identifier_OUT046\n",
       "1    0                        0                        0                       \n",
       "2    0                        0                        0                       \n",
       "3    0                        0                        0                       \n",
       "4    0                        0                        0                       \n",
       "5    0                        0                        0                       \n",
       "6    0                        0                        0                       \n",
       "7    0                        0                        0                       \n",
       "8    0                        0                        0                       \n",
       "9    0                        1                        0                       \n",
       "10   0                        0                        0                       \n",
       "11   0                        0                        0                       \n",
       "12   0                        0                        1                       \n",
       "13   0                        0                        0                       \n",
       "14   0                        0                        1                       \n",
       "15   0                        0                        0                       \n",
       "16   0                        0                        1                       \n",
       "17   0                        0                        0                       \n",
       "18   0                        0                        0                       \n",
       "19   0                        0                        0                       \n",
       "20   1                        0                        0                       \n",
       "21   0                        0                        0                       \n",
       "22   0                        0                        0                       \n",
       "23   1                        0                        0                       \n",
       "24   0                        0                        0                       \n",
       "25   0                        0                        1                       \n",
       "26   0                        0                        0                       \n",
       "27   1                        0                        0                       \n",
       "28   0                        0                        0                       \n",
       "29   0                        0                        0                       \n",
       "30   0                        0                        0                       \n",
       "⋮    ⋮                        ⋮                        ⋮                       \n",
       "8494 0                        0                        0                       \n",
       "8495 0                        0                        0                       \n",
       "8496 1                        0                        0                       \n",
       "8497 0                        0                        0                       \n",
       "8498 1                        0                        0                       \n",
       "8499 0                        0                        0                       \n",
       "8500 1                        0                        0                       \n",
       "8501 0                        0                        0                       \n",
       "8502 0                        0                        0                       \n",
       "8503 0                        1                        0                       \n",
       "8504 1                        0                        0                       \n",
       "8505 0                        0                        0                       \n",
       "8506 0                        0                        0                       \n",
       "8507 0                        0                        0                       \n",
       "8508 1                        0                        0                       \n",
       "8509 0                        1                        0                       \n",
       "8510 0                        0                        0                       \n",
       "8511 1                        0                        0                       \n",
       "8512 0                        0                        0                       \n",
       "8513 0                        0                        0                       \n",
       "8514 1                        0                        0                       \n",
       "8515 0                        1                        0                       \n",
       "8516 0                        0                        0                       \n",
       "8517 0                        0                        0                       \n",
       "8518 0                        0                        1                       \n",
       "8519 0                        0                        0                       \n",
       "8520 0                        1                        0                       \n",
       "8521 1                        0                        0                       \n",
       "8522 0                        0                        0                       \n",
       "8523 0                        0                        1                       \n",
       "     Outlet_Identifier_OUT049 Outlet_Location_Type_Tier.2\n",
       "1    1                        0                          \n",
       "2    0                        0                          \n",
       "3    1                        0                          \n",
       "4    0                        0                          \n",
       "5    0                        0                          \n",
       "6    0                        0                          \n",
       "7    0                        0                          \n",
       "8    0                        0                          \n",
       "9    0                        1                          \n",
       "10   0                        1                          \n",
       "11   1                        0                          \n",
       "12   0                        0                          \n",
       "13   1                        0                          \n",
       "14   0                        0                          \n",
       "15   0                        0                          \n",
       "16   0                        0                          \n",
       "17   0                        0                          \n",
       "18   1                        0                          \n",
       "19   0                        0                          \n",
       "20   0                        1                          \n",
       "21   0                        0                          \n",
       "22   0                        0                          \n",
       "23   0                        1                          \n",
       "24   0                        0                          \n",
       "25   0                        0                          \n",
       "26   0                        1                          \n",
       "27   0                        1                          \n",
       "28   0                        0                          \n",
       "29   0                        0                          \n",
       "30   0                        0                          \n",
       "⋮    ⋮                        ⋮                          \n",
       "8494 0                        1                          \n",
       "8495 0                        1                          \n",
       "8496 0                        1                          \n",
       "8497 0                        1                          \n",
       "8498 0                        1                          \n",
       "8499 0                        0                          \n",
       "8500 0                        1                          \n",
       "8501 0                        1                          \n",
       "8502 0                        1                          \n",
       "8503 0                        1                          \n",
       "8504 0                        1                          \n",
       "8505 0                        0                          \n",
       "8506 0                        0                          \n",
       "8507 0                        0                          \n",
       "8508 0                        1                          \n",
       "8509 0                        1                          \n",
       "8510 0                        0                          \n",
       "8511 0                        1                          \n",
       "8512 0                        0                          \n",
       "8513 0                        0                          \n",
       "8514 0                        1                          \n",
       "8515 0                        1                          \n",
       "8516 0                        0                          \n",
       "8517 0                        0                          \n",
       "8518 0                        0                          \n",
       "8519 0                        0                          \n",
       "8520 0                        1                          \n",
       "8521 0                        1                          \n",
       "8522 0                        0                          \n",
       "8523 0                        0                          \n",
       "     Outlet_Location_Type_Tier.3 Outlet_Type_Supermarket.Type1\n",
       "1    0                           1                            \n",
       "2    1                           0                            \n",
       "3    0                           1                            \n",
       "4    1                           0                            \n",
       "5    1                           1                            \n",
       "6    1                           0                            \n",
       "7    1                           1                            \n",
       "8    1                           0                            \n",
       "9    0                           1                            \n",
       "10   0                           1                            \n",
       "11   0                           1                            \n",
       "12   0                           1                            \n",
       "13   0                           1                            \n",
       "14   0                           1                            \n",
       "15   1                           1                            \n",
       "16   0                           1                            \n",
       "17   1                           0                            \n",
       "18   0                           1                            \n",
       "19   1                           0                            \n",
       "20   0                           1                            \n",
       "21   1                           1                            \n",
       "22   1                           0                            \n",
       "23   0                           1                            \n",
       "24   0                           0                            \n",
       "25   0                           1                            \n",
       "26   0                           1                            \n",
       "27   0                           1                            \n",
       "28   1                           1                            \n",
       "29   1                           0                            \n",
       "30   0                           0                            \n",
       "⋮    ⋮                           ⋮                            \n",
       "8494 0                           1                            \n",
       "8495 0                           1                            \n",
       "8496 0                           1                            \n",
       "8497 0                           1                            \n",
       "8498 0                           1                            \n",
       "8499 1                           0                            \n",
       "8500 0                           1                            \n",
       "8501 0                           1                            \n",
       "8502 0                           1                            \n",
       "8503 0                           1                            \n",
       "8504 0                           1                            \n",
       "8505 1                           0                            \n",
       "8506 1                           0                            \n",
       "8507 1                           0                            \n",
       "8508 0                           1                            \n",
       "8509 0                           1                            \n",
       "8510 1                           0                            \n",
       "8511 0                           1                            \n",
       "8512 1                           0                            \n",
       "8513 1                           1                            \n",
       "8514 0                           1                            \n",
       "8515 0                           1                            \n",
       "8516 1                           0                            \n",
       "8517 1                           0                            \n",
       "8518 0                           1                            \n",
       "8519 1                           1                            \n",
       "8520 0                           1                            \n",
       "8521 0                           1                            \n",
       "8522 1                           0                            \n",
       "8523 0                           1                            \n",
       "     Outlet_Type_Supermarket.Type2 Outlet_Type_Supermarket.Type3\n",
       "1    0                             0                            \n",
       "2    1                             0                            \n",
       "3    0                             0                            \n",
       "4    0                             0                            \n",
       "5    0                             0                            \n",
       "6    1                             0                            \n",
       "7    0                             0                            \n",
       "8    0                             1                            \n",
       "9    0                             0                            \n",
       "10   0                             0                            \n",
       "11   0                             0                            \n",
       "12   0                             0                            \n",
       "13   0                             0                            \n",
       "14   0                             0                            \n",
       "15   0                             0                            \n",
       "16   0                             0                            \n",
       "17   1                             0                            \n",
       "18   0                             0                            \n",
       "19   0                             1                            \n",
       "20   0                             0                            \n",
       "21   0                             0                            \n",
       "22   0                             1                            \n",
       "23   0                             0                            \n",
       "24   0                             0                            \n",
       "25   0                             0                            \n",
       "26   0                             0                            \n",
       "27   0                             0                            \n",
       "28   0                             0                            \n",
       "29   0                             0                            \n",
       "30   0                             0                            \n",
       "⋮    ⋮                             ⋮                            \n",
       "8494 0                             0                            \n",
       "8495 0                             0                            \n",
       "8496 0                             0                            \n",
       "8497 0                             0                            \n",
       "8498 0                             0                            \n",
       "8499 1                             0                            \n",
       "8500 0                             0                            \n",
       "8501 0                             0                            \n",
       "8502 0                             0                            \n",
       "8503 0                             0                            \n",
       "8504 0                             0                            \n",
       "8505 0                             1                            \n",
       "8506 1                             0                            \n",
       "8507 1                             0                            \n",
       "8508 0                             0                            \n",
       "8509 0                             0                            \n",
       "8510 0                             0                            \n",
       "8511 0                             0                            \n",
       "8512 1                             0                            \n",
       "8513 0                             0                            \n",
       "8514 0                             0                            \n",
       "8515 0                             0                            \n",
       "8516 1                             0                            \n",
       "8517 1                             0                            \n",
       "8518 0                             0                            \n",
       "8519 0                             0                            \n",
       "8520 0                             0                            \n",
       "8521 0                             0                            \n",
       "8522 1                             0                            \n",
       "8523 0                             0                            "
      ]
     },
     "metadata": {},
     "output_type": "display_data"
    }
   ],
   "source": [
    "reg_recipe |>\n",
    "    prep() |>\n",
    "    bake(new_data = NULL) "
   ]
  },
  {
   "cell_type": "code",
   "execution_count": null,
   "id": "061d2418-e73f-4a8f-837a-29b552c5f81a",
   "metadata": {},
   "outputs": [],
   "source": []
  },
  {
   "cell_type": "markdown",
   "id": "8d94ffc6-b458-4e0f-8ad3-3daba1b493f1",
   "metadata": {},
   "source": [
    "## Reg Models"
   ]
  },
  {
   "cell_type": "code",
   "execution_count": 57,
   "id": "5c887980-2373-44c3-b27a-5394a5afced3",
   "metadata": {},
   "outputs": [],
   "source": [
    "library(rules)\n",
    "library(baguette)\n",
    "\n",
    "\n",
    "# Linear Regression Model\n",
    "linear_reg_spec <- \n",
    "   linear_reg(penalty = tune(), mixture = tune()) %>% \n",
    "   set_engine(\"glmnet\")\n",
    "\n",
    "\n",
    "# Neural Network\n",
    "nnet_spec <- \n",
    "   mlp(hidden_units = tune(), penalty = tune(), epochs = tune()) %>% \n",
    "   set_engine(\"nnet\", MaxNWts = 2600) %>% \n",
    "   set_mode(\"regression\")\n",
    "\n",
    "\n",
    "\n",
    "mars_spec <- \n",
    "   mars(prod_degree = tune()) %>%  #<- use GCV to choose terms\n",
    "   set_engine(\"earth\") %>% \n",
    "   set_mode(\"regression\")\n",
    "\n",
    "\n",
    "# Radial SVM\n",
    "svm_r_spec <- \n",
    "   svm_rbf(cost = tune(), rbf_sigma = tune()) %>% \n",
    "   set_engine(\"kernlab\") %>% \n",
    "   set_mode(\"regression\")\n",
    "\n",
    "\n",
    "# Polynomial SVM\n",
    "svm_p_spec <- \n",
    "   svm_poly(cost = tune(), degree = tune()) %>% \n",
    "   set_engine(\"kernlab\") %>% \n",
    "   set_mode(\"regression\")\n",
    "\n",
    "\n",
    "# K-Nearest Neighbors SVM\n",
    "knn_spec <- \n",
    "   nearest_neighbor(neighbors = tune(), dist_power = tune(), weight_func = tune()) %>% \n",
    "   set_engine(\"kknn\") %>% \n",
    "   set_mode(\"regression\")\n",
    "\n",
    "\n",
    "# Classification and Regression Trees\n",
    "cart_spec <- \n",
    "   decision_tree(cost_complexity = tune(), min_n = tune()) %>% \n",
    "   set_engine(\"rpart\") %>% \n",
    "   set_mode(\"regression\")\n",
    "\n",
    "\n",
    "# Bag and CART Trees\n",
    "bag_cart_spec <- \n",
    "   bag_tree() %>% \n",
    "   set_engine(\"rpart\", times = 50L) %>% \n",
    "   set_mode(\"regression\")\n",
    "\n",
    "\n",
    "# Random Forest Regressor\n",
    "rf_spec <- \n",
    "   rand_forest(mtry = tune(), min_n = tune(), trees = 1000) %>% \n",
    "   set_engine(\"ranger\") %>% \n",
    "   set_mode(\"regression\")\n",
    "\n",
    "\n",
    "# XGBoost Regressor\n",
    "xgb_spec <- \n",
    "   boost_tree(tree_depth = tune(), learn_rate = tune(), loss_reduction = tune(), \n",
    "              min_n = tune(), sample_size = tune(), trees = tune()) %>% \n",
    "   set_engine(\"xgboost\") %>% \n",
    "   set_mode(\"regression\")\n",
    "\n"
   ]
  },
  {
   "cell_type": "code",
   "execution_count": 58,
   "id": "1c1d9a62-cbef-4dc0-ad46-41131424c404",
   "metadata": {},
   "outputs": [],
   "source": [
    "# Neural Network Param\n",
    "\n",
    "nnet_param <- \n",
    "   nnet_spec %>% \n",
    "   extract_parameter_set_dials() %>% \n",
    "   update(hidden_units = hidden_units(c(1, 27)))"
   ]
  },
  {
   "cell_type": "markdown",
   "id": "46917cd8-49b7-4be8-bf6f-9214a6dd50fc",
   "metadata": {},
   "source": [
    "## Creating the Workflow Set"
   ]
  },
  {
   "cell_type": "code",
   "execution_count": 61,
   "id": "22c6eba4-d2fc-4798-88cb-f7b2a268be8c",
   "metadata": {},
   "outputs": [],
   "source": [
    "normalized <- \n",
    "   workflow_set(\n",
    "      preproc = list(normalized = normalized_recipe), \n",
    "      models = list(SVM_radial = svm_r_spec, SVM_poly = svm_p_spec, \n",
    "                    KNN = knn_spec, neural_network = nnet_spec, \n",
    "                    MARS = mars_spec, CART = cart_spec, CART_bagged = bag_cart_spec,\n",
    "                    RF = rf_spec, boosting = xgb_spec)\n",
    "   )\n",
    "# normalized"
   ]
  },
  {
   "cell_type": "code",
   "execution_count": 62,
   "id": "fdf19353-d5ec-4801-99b8-1cd0d1879731",
   "metadata": {},
   "outputs": [],
   "source": [
    "# Adding the Neural Network Parameters\n",
    "\n",
    "normalized <- \n",
    "   normalized %>% \n",
    "   option_add(param_info = nnet_param, id = \"normalized_neural_network\")"
   ]
  },
  {
   "cell_type": "code",
   "execution_count": 63,
   "id": "225d2a1e-5813-47c4-9802-a771d57aeb23",
   "metadata": {},
   "outputs": [],
   "source": [
    "# Workflow Set for Non-Linear Models\n",
    "\n",
    "# model_vars <- \n",
    "#    workflow_variables(outcomes = Item_Outlet_Sales, \n",
    "#                       predictors = everything())\n",
    "\n",
    "# simple_pre_proc <- \n",
    "#    workflow_set(\n",
    "#       preproc = list(simple_recipe = normalized_recipe), \n",
    "#       models = list(MARS = mars_spec, CART = cart_spec, CART_bagged = bag_cart_spec,\n",
    "#                     RF = rf_spec, boosting = xgb_spec)\n",
    "#    )\n",
    "\n",
    "# simple_pre_proc"
   ]
  },
  {
   "cell_type": "markdown",
   "id": "5e9de6e6-d6a6-4e8d-96c5-a4203bb7e700",
   "metadata": {},
   "source": [
    "## Bind Workflows\n"
   ]
  },
  {
   "cell_type": "code",
   "execution_count": 46,
   "id": "2c64215c-41b0-465e-8854-c7725b700d30",
   "metadata": {},
   "outputs": [],
   "source": [
    "all_workflows <-\n",
    "    bind_rows(simple_pre_proc, normalized) |>\n",
    "    # Simplifying Workflow ID\n",
    "    mutate(wflow_id = gsub(\"(simple_)|(normalized_)\", \"\", wflow_id))"
   ]
  },
  {
   "cell_type": "code",
   "execution_count": 64,
   "id": "3841bf10-1fdf-4d6b-b875-d4f2a8dc2387",
   "metadata": {},
   "outputs": [
    {
     "data": {
      "text/html": [
       "<table class=\"dataframe\">\n",
       "<caption>A tibble: 9 × 3</caption>\n",
       "<thead>\n",
       "\t<tr><th scope=col>wflow_id</th><th scope=col>option</th><th scope=col>result</th></tr>\n",
       "\t<tr><th scope=col>&lt;chr&gt;</th><th scope=col>&lt;list&gt;</th><th scope=col>&lt;list&gt;</th></tr>\n",
       "</thead>\n",
       "<tbody>\n",
       "\t<tr><td>normalized_SVM_radial    </td><td>NULL</td><td>NULL</td></tr>\n",
       "\t<tr><td>normalized_SVM_poly      </td><td>NULL</td><td>NULL</td></tr>\n",
       "\t<tr><td>normalized_KNN           </td><td>NULL</td><td>NULL</td></tr>\n",
       "\t<tr><td>normalized_neural_network</td><td><span style=white-space:pre-wrap>hidden_units, penalty, epochs, hidden_units, penalty, epochs, model_spec, model_spec, model_spec, mlp, mlp, mlp, main, main, main, integer, 1, 27, TRUE, TRUE, # Hidden Units, double, -10, 0, TRUE, TRUE, log-10, function (x) , log(x, base), function (x) , base^x, function (x, n = n_default) , {,     raw_rng &lt;- suppressWarnings(range(x, na.rm = TRUE)),     if (any(!is.finite(raw_rng))) {,         return(numeric()),     },     rng &lt;- log(raw_rng, base = base),     min &lt;- floor(rng[1]),     max &lt;- ceiling(rng[2]),     if (max == min) {,         return(base^min),     },     by &lt;- floor((max - min)/n) + 1,     breaks &lt;- base^seq(min, max, by = by),     relevant_breaks &lt;- base^rng[1] &lt;= breaks &amp; breaks &lt;= base^rng[2],     if (sum(relevant_breaks) &gt;= (n - 2)) {,         return(breaks),     },     while (by &gt; 1) {,         by &lt;- by - 1,         breaks &lt;- base^seq(min, max, by = by),         relevant_breaks &lt;- base^rng[1] &lt;= breaks &amp; breaks &lt;= ,             base^rng[2],         if (sum(relevant_breaks) &gt;= (n - 2)) {,             return(breaks),         },     },     log_sub_breaks(rng, n = n, base = base), }, function (b, limits, n) , {,     b &lt;- b[!is.na(b)],     if (length(b) &lt; 2) {,         return(),     },     bd &lt;- diff(b)[1],     if (!reverse) {,         if (min(limits) &lt; min(b)) ,             b &lt;- c(b[1] - bd, b),         if (max(limits) &gt; max(b)) ,             b &lt;- c(b, b[length(b)] + bd),     },     else {,         if (max(limits) &gt; max(b)) ,             b &lt;- c(b[1] - bd, b),         if (min(limits) &lt; min(b)) ,             b &lt;- c(b, b[length(b)] + bd),     },     seq_between &lt;- function(a, b) {,         seq(a, b, length.out = n + 1)[-(n + 1)],     },     breaks &lt;- unlist(Map(seq_between, b[-length(b)], b[-1])),     breaks &lt;- c(breaks, b[length(b)]),     breaks, }, function (x) , {,     if (!is.null(names(x))) {,         return(names(x)),     },     ret &lt;- format(x, ..., trim = TRUE, justify = \"left\"),     ret[is.na(x)] &lt;- NA,     ret, }, 1e-100, Inf, Amount of Regularization, integer, 10, 1000, TRUE, TRUE, # Epochs</span></td><td>NULL</td></tr>\n",
       "\t<tr><td>normalized_MARS          </td><td>NULL</td><td>NULL</td></tr>\n",
       "\t<tr><td>normalized_CART          </td><td>NULL</td><td>NULL</td></tr>\n",
       "\t<tr><td>normalized_CART_bagged   </td><td>NULL</td><td>NULL</td></tr>\n",
       "\t<tr><td>normalized_RF            </td><td>NULL</td><td>NULL</td></tr>\n",
       "\t<tr><td>normalized_boosting      </td><td>NULL</td><td>NULL</td></tr>\n",
       "</tbody>\n",
       "</table>\n"
      ],
      "text/latex": [
       "A tibble: 9 × 3\n",
       "\\begin{tabular}{lll}\n",
       " wflow\\_id & option & result\\\\\n",
       " <chr> & <list> & <list>\\\\\n",
       "\\hline\n",
       "\t normalized\\_SVM\\_radial     & NULL & NULL\\\\\n",
       "\t normalized\\_SVM\\_poly       & NULL & NULL\\\\\n",
       "\t normalized\\_KNN            & NULL & NULL\\\\\n",
       "\t normalized\\_neural\\_network & hidden\\_units, penalty, epochs, hidden\\_units, penalty, epochs, model\\_spec, model\\_spec, model\\_spec, mlp, mlp, mlp, main, main, main, integer, 1, 27, TRUE, TRUE, \\# Hidden Units, double, -10, 0, TRUE, TRUE, log-10, function (x) , log(x, base), function (x) , base\\textasciicircum{}x, function (x, n = n\\_default) , \\{,     raw\\_rng <- suppressWarnings(range(x, na.rm = TRUE)),     if (any(!is.finite(raw\\_rng))) \\{,         return(numeric()),     \\},     rng <- log(raw\\_rng, base = base),     min <- floor(rng{[}1{]}),     max <- ceiling(rng{[}2{]}),     if (max == min) \\{,         return(base\\textasciicircum{}min),     \\},     by <- floor((max - min)/n) + 1,     breaks <- base\\textasciicircum{}seq(min, max, by = by),     relevant\\_breaks <- base\\textasciicircum{}rng{[}1{]} <= breaks \\& breaks <= base\\textasciicircum{}rng{[}2{]},     if (sum(relevant\\_breaks) >= (n - 2)) \\{,         return(breaks),     \\},     while (by > 1) \\{,         by <- by - 1,         breaks <- base\\textasciicircum{}seq(min, max, by = by),         relevant\\_breaks <- base\\textasciicircum{}rng{[}1{]} <= breaks \\& breaks <= ,             base\\textasciicircum{}rng{[}2{]},         if (sum(relevant\\_breaks) >= (n - 2)) \\{,             return(breaks),         \\},     \\},     log\\_sub\\_breaks(rng, n = n, base = base), \\}, function (b, limits, n) , \\{,     b <- b{[}!is.na(b){]},     if (length(b) < 2) \\{,         return(),     \\},     bd <- diff(b){[}1{]},     if (!reverse) \\{,         if (min(limits) < min(b)) ,             b <- c(b{[}1{]} - bd, b),         if (max(limits) > max(b)) ,             b <- c(b, b{[}length(b){]} + bd),     \\},     else \\{,         if (max(limits) > max(b)) ,             b <- c(b{[}1{]} - bd, b),         if (min(limits) < min(b)) ,             b <- c(b, b{[}length(b){]} + bd),     \\},     seq\\_between <- function(a, b) \\{,         seq(a, b, length.out = n + 1){[}-(n + 1){]},     \\},     breaks <- unlist(Map(seq\\_between, b{[}-length(b){]}, b{[}-1{]})),     breaks <- c(breaks, b{[}length(b){]}),     breaks, \\}, function (x) , \\{,     if (!is.null(names(x))) \\{,         return(names(x)),     \\},     ret <- format(x, ..., trim = TRUE, justify = \"left\"),     ret{[}is.na(x){]} <- NA,     ret, \\}, 1e-100, Inf, Amount of Regularization, integer, 10, 1000, TRUE, TRUE, \\# Epochs & NULL\\\\\n",
       "\t normalized\\_MARS           & NULL & NULL\\\\\n",
       "\t normalized\\_CART           & NULL & NULL\\\\\n",
       "\t normalized\\_CART\\_bagged    & NULL & NULL\\\\\n",
       "\t normalized\\_RF             & NULL & NULL\\\\\n",
       "\t normalized\\_boosting       & NULL & NULL\\\\\n",
       "\\end{tabular}\n"
      ],
      "text/markdown": [
       "\n",
       "A tibble: 9 × 3\n",
       "\n",
       "| wflow_id &lt;chr&gt; | option &lt;list&gt; | result &lt;list&gt; |\n",
       "|---|---|---|\n",
       "| normalized_SVM_radial     | NULL | NULL |\n",
       "| normalized_SVM_poly       | NULL | NULL |\n",
       "| normalized_KNN            | NULL | NULL |\n",
       "| normalized_neural_network | hidden_units, penalty, epochs, hidden_units, penalty, epochs, model_spec, model_spec, model_spec, mlp, mlp, mlp, main, main, main, integer, 1, 27, TRUE, TRUE, # Hidden Units, double, -10, 0, TRUE, TRUE, log-10, function (x) , log(x, base), function (x) , base^x, function (x, n = n_default) , {,     raw_rng &lt;- suppressWarnings(range(x, na.rm = TRUE)),     if (any(!is.finite(raw_rng))) {,         return(numeric()),     },     rng &lt;- log(raw_rng, base = base),     min &lt;- floor(rng[1]),     max &lt;- ceiling(rng[2]),     if (max == min) {,         return(base^min),     },     by &lt;- floor((max - min)/n) + 1,     breaks &lt;- base^seq(min, max, by = by),     relevant_breaks &lt;- base^rng[1] &lt;= breaks &amp; breaks &lt;= base^rng[2],     if (sum(relevant_breaks) &gt;= (n - 2)) {,         return(breaks),     },     while (by &gt; 1) {,         by &lt;- by - 1,         breaks &lt;- base^seq(min, max, by = by),         relevant_breaks &lt;- base^rng[1] &lt;= breaks &amp; breaks &lt;= ,             base^rng[2],         if (sum(relevant_breaks) &gt;= (n - 2)) {,             return(breaks),         },     },     log_sub_breaks(rng, n = n, base = base), }, function (b, limits, n) , {,     b &lt;- b[!is.na(b)],     if (length(b) &lt; 2) {,         return(),     },     bd &lt;- diff(b)[1],     if (!reverse) {,         if (min(limits) &lt; min(b)) ,             b &lt;- c(b[1] - bd, b),         if (max(limits) &gt; max(b)) ,             b &lt;- c(b, b[length(b)] + bd),     },     else {,         if (max(limits) &gt; max(b)) ,             b &lt;- c(b[1] - bd, b),         if (min(limits) &lt; min(b)) ,             b &lt;- c(b, b[length(b)] + bd),     },     seq_between &lt;- function(a, b) {,         seq(a, b, length.out = n + 1)[-(n + 1)],     },     breaks &lt;- unlist(Map(seq_between, b[-length(b)], b[-1])),     breaks &lt;- c(breaks, b[length(b)]),     breaks, }, function (x) , {,     if (!is.null(names(x))) {,         return(names(x)),     },     ret &lt;- format(x, ..., trim = TRUE, justify = \"left\"),     ret[is.na(x)] &lt;- NA,     ret, }, 1e-100, Inf, Amount of Regularization, integer, 10, 1000, TRUE, TRUE, # Epochs | NULL |\n",
       "| normalized_MARS           | NULL | NULL |\n",
       "| normalized_CART           | NULL | NULL |\n",
       "| normalized_CART_bagged    | NULL | NULL |\n",
       "| normalized_RF             | NULL | NULL |\n",
       "| normalized_boosting       | NULL | NULL |\n",
       "\n"
      ],
      "text/plain": [
       "  wflow_id                 \n",
       "1 normalized_SVM_radial    \n",
       "2 normalized_SVM_poly      \n",
       "3 normalized_KNN           \n",
       "4 normalized_neural_network\n",
       "5 normalized_MARS          \n",
       "6 normalized_CART          \n",
       "7 normalized_CART_bagged   \n",
       "8 normalized_RF            \n",
       "9 normalized_boosting      \n",
       "  option                                                                                                                                                                                                                                                                                                                                                                                                                                                                                                                                                                                                                                                                                                                                                                                                                                                                                                                                                                                                                                                                                                                                                                                                                                                                                                                                                                                                                                                                                                                                                                                                                                                                                                                                                                                                                                                                                                                                                                                                                                                                                                                           \n",
       "1 NULL                                                                                                                                                                                                                                                                                                                                                                                                                                                                                                                                                                                                                                                                                                                                                                                                                                                                                                                                                                                                                                                                                                                                                                                                                                                                                                                                                                                                                                                                                                                                                                                                                                                                                                                                                                                                                                                                                                                                                                                                                                                                                                                             \n",
       "2 NULL                                                                                                                                                                                                                                                                                                                                                                                                                                                                                                                                                                                                                                                                                                                                                                                                                                                                                                                                                                                                                                                                                                                                                                                                                                                                                                                                                                                                                                                                                                                                                                                                                                                                                                                                                                                                                                                                                                                                                                                                                                                                                                                             \n",
       "3 NULL                                                                                                                                                                                                                                                                                                                                                                                                                                                                                                                                                                                                                                                                                                                                                                                                                                                                                                                                                                                                                                                                                                                                                                                                                                                                                                                                                                                                                                                                                                                                                                                                                                                                                                                                                                                                                                                                                                                                                                                                                                                                                                                             \n",
       "4 hidden_units, penalty, epochs, hidden_units, penalty, epochs, model_spec, model_spec, model_spec, mlp, mlp, mlp, main, main, main, integer, 1, 27, TRUE, TRUE, # Hidden Units, double, -10, 0, TRUE, TRUE, log-10, function (x) , log(x, base), function (x) , base^x, function (x, n = n_default) , {,     raw_rng <- suppressWarnings(range(x, na.rm = TRUE)),     if (any(!is.finite(raw_rng))) {,         return(numeric()),     },     rng <- log(raw_rng, base = base),     min <- floor(rng[1]),     max <- ceiling(rng[2]),     if (max == min) {,         return(base^min),     },     by <- floor((max - min)/n) + 1,     breaks <- base^seq(min, max, by = by),     relevant_breaks <- base^rng[1] <= breaks & breaks <= base^rng[2],     if (sum(relevant_breaks) >= (n - 2)) {,         return(breaks),     },     while (by > 1) {,         by <- by - 1,         breaks <- base^seq(min, max, by = by),         relevant_breaks <- base^rng[1] <= breaks & breaks <= ,             base^rng[2],         if (sum(relevant_breaks) >= (n - 2)) {,             return(breaks),         },     },     log_sub_breaks(rng, n = n, base = base), }, function (b, limits, n) , {,     b <- b[!is.na(b)],     if (length(b) < 2) {,         return(),     },     bd <- diff(b)[1],     if (!reverse) {,         if (min(limits) < min(b)) ,             b <- c(b[1] - bd, b),         if (max(limits) > max(b)) ,             b <- c(b, b[length(b)] + bd),     },     else {,         if (max(limits) > max(b)) ,             b <- c(b[1] - bd, b),         if (min(limits) < min(b)) ,             b <- c(b, b[length(b)] + bd),     },     seq_between <- function(a, b) {,         seq(a, b, length.out = n + 1)[-(n + 1)],     },     breaks <- unlist(Map(seq_between, b[-length(b)], b[-1])),     breaks <- c(breaks, b[length(b)]),     breaks, }, function (x) , {,     if (!is.null(names(x))) {,         return(names(x)),     },     ret <- format(x, ..., trim = TRUE, justify = \"left\"),     ret[is.na(x)] <- NA,     ret, }, 1e-100, Inf, Amount of Regularization, integer, 10, 1000, TRUE, TRUE, # Epochs\n",
       "5 NULL                                                                                                                                                                                                                                                                                                                                                                                                                                                                                                                                                                                                                                                                                                                                                                                                                                                                                                                                                                                                                                                                                                                                                                                                                                                                                                                                                                                                                                                                                                                                                                                                                                                                                                                                                                                                                                                                                                                                                                                                                                                                                                                             \n",
       "6 NULL                                                                                                                                                                                                                                                                                                                                                                                                                                                                                                                                                                                                                                                                                                                                                                                                                                                                                                                                                                                                                                                                                                                                                                                                                                                                                                                                                                                                                                                                                                                                                                                                                                                                                                                                                                                                                                                                                                                                                                                                                                                                                                                             \n",
       "7 NULL                                                                                                                                                                                                                                                                                                                                                                                                                                                                                                                                                                                                                                                                                                                                                                                                                                                                                                                                                                                                                                                                                                                                                                                                                                                                                                                                                                                                                                                                                                                                                                                                                                                                                                                                                                                                                                                                                                                                                                                                                                                                                                                             \n",
       "8 NULL                                                                                                                                                                                                                                                                                                                                                                                                                                                                                                                                                                                                                                                                                                                                                                                                                                                                                                                                                                                                                                                                                                                                                                                                                                                                                                                                                                                                                                                                                                                                                                                                                                                                                                                                                                                                                                                                                                                                                                                                                                                                                                                             \n",
       "9 NULL                                                                                                                                                                                                                                                                                                                                                                                                                                                                                                                                                                                                                                                                                                                                                                                                                                                                                                                                                                                                                                                                                                                                                                                                                                                                                                                                                                                                                                                                                                                                                                                                                                                                                                                                                                                                                                                                                                                                                                                                                                                                                                                             \n",
       "  result\n",
       "1 NULL  \n",
       "2 NULL  \n",
       "3 NULL  \n",
       "4 NULL  \n",
       "5 NULL  \n",
       "6 NULL  \n",
       "7 NULL  \n",
       "8 NULL  \n",
       "9 NULL  "
      ]
     },
     "metadata": {},
     "output_type": "display_data"
    }
   ],
   "source": [
    "normalized[, c(\"wflow_id\", \"option\", \"result\")]"
   ]
  },
  {
   "cell_type": "markdown",
   "id": "d33abc7a-e7a2-46a9-abbf-fe5ac96988a5",
   "metadata": {},
   "source": [
    "## Tuning and Evaluating the Models"
   ]
  },
  {
   "cell_type": "code",
   "execution_count": 48,
   "id": "3ab48c14-73a8-4bc2-9a10-069d9c586f06",
   "metadata": {},
   "outputs": [],
   "source": [
    "# # Using Grid Search\n",
    "\n",
    "# grid_ctrl <-\n",
    "#    control_grid(\n",
    "#       save_pred = TRUE,\n",
    "#       parallel_over = \"everything\",\n",
    "#       save_workflow = TRUE\n",
    "#    )\n",
    "\n",
    "\n",
    "# grid_results <-\n",
    "#    all_workflows %>%\n",
    "#    workflow_map(\n",
    "#       seed = 1503,\n",
    "#       resamples = df_folds,\n",
    "#       grid = 25,\n",
    "#       control = grid_ctrl\n",
    "#    )"
   ]
  },
  {
   "cell_type": "code",
   "execution_count": 49,
   "id": "85c4fc9b-ec89-4a69-88b2-9885a8ea448f",
   "metadata": {},
   "outputs": [],
   "source": [
    "# # View the results\n",
    "\n",
    "# grid_results %>% \n",
    "#    rank_results() %>% \n",
    "#    filter(.metric == \"rmse\") %>% \n",
    "#    select(model, .config, rmse = mean, rank)"
   ]
  },
  {
   "cell_type": "code",
   "execution_count": 50,
   "id": "a501d912-3fc9-40aa-ad6d-167d1a3384fd",
   "metadata": {},
   "outputs": [],
   "source": [
    "# autoplot(\n",
    "#    grid_results,\n",
    "#    rank_metric = \"rmse\",  # <- how to order models\n",
    "#    metric = \"rmse\",       # <- which metric to visualize\n",
    "#    select_best = TRUE     # <- one point per workflow\n",
    "# ) +\n",
    "#    geom_text(aes(y = mean - 1/2, label = wflow_id), angle = 90, hjust = 1) +\n",
    "#    lims(y = c(3.5, 9.5)) +\n",
    "#    theme(legend.position = \"none\")"
   ]
  },
  {
   "cell_type": "markdown",
   "id": "cd3e8b18-401d-463f-ac19-93f803616270",
   "metadata": {},
   "source": [
    "## Efficiently Selecting Models"
   ]
  },
  {
   "cell_type": "code",
   "execution_count": 65,
   "id": "afac85b6-2a2b-4c76-a740-277d8fadcd00",
   "metadata": {},
   "outputs": [],
   "source": [
    "library(finetune)\n",
    "\n",
    "race_ctrl <-\n",
    "   control_race(\n",
    "      save_pred = TRUE,\n",
    "      parallel_over = \"everything\",\n",
    "      save_workflow = TRUE\n",
    "   )\n",
    "\n",
    "race_results <-\n",
    "   normalized %>%\n",
    "   workflow_map(\n",
    "      \"tune_race_anova\",\n",
    "      seed = 1503,\n",
    "      resamples = df_folds,\n",
    "      grid = 25,\n",
    "      control = race_ctrl\n",
    "   )"
   ]
  },
  {
   "cell_type": "code",
   "execution_count": null,
   "id": "208095cc-c0b1-4333-8944-23d40d5ac15d",
   "metadata": {},
   "outputs": [],
   "source": [
    "race_results[, c(\"wflow_id\", \"option\", \"result\")]"
   ]
  },
  {
   "cell_type": "code",
   "execution_count": null,
   "id": "426aac0b-e5a4-473e-9c5d-68b5abab9c7f",
   "metadata": {},
   "outputs": [],
   "source": [
    "autoplot(\n",
    "   race_results,\n",
    "   rank_metric = \"rmse\",  \n",
    "   metric = \"rmse\",       \n",
    "   select_best = TRUE    \n",
    ") +\n",
    "   geom_text(aes(y = mean - 1/2, label = wflow_id), angle = 90, hjust = 1) +\n",
    "   # lims(y = c(3.0, 9.5)) +\n",
    "   theme(legend.position = \"none\")"
   ]
  },
  {
   "cell_type": "markdown",
   "id": "019a7185-0107-4260-8485-12157dde720b",
   "metadata": {},
   "source": [
    "# The Best Model"
   ]
  },
  {
   "cell_type": "code",
   "execution_count": null,
   "id": "28668d7e-a002-4ce2-b6bb-796d08df3da0",
   "metadata": {},
   "outputs": [],
   "source": [
    "best_results <- \n",
    "   race_results %>% \n",
    "   extract_workflow_set_result(\"boosting\") %>% \n",
    "   select_best(metric = \"rmse\")\n",
    "\n",
    "\n",
    "best_results"
   ]
  },
  {
   "cell_type": "code",
   "execution_count": null,
   "id": "ecc95bbe-55e6-4e39-bd0c-d4031c81f110",
   "metadata": {},
   "outputs": [],
   "source": [
    "boosting_test_results <- \n",
    "   race_results %>% \n",
    "   extract_workflow(\"boosting\") %>% \n",
    "   finalize_workflow(best_results) %>% \n",
    "   last_fit(split = concrete_split)"
   ]
  },
  {
   "cell_type": "code",
   "execution_count": null,
   "id": "d054af58-39c8-4d54-9752-01d097547ed2",
   "metadata": {},
   "outputs": [],
   "source": [
    "collect_metrics(boosting_test_results)"
   ]
  },
  {
   "cell_type": "code",
   "execution_count": null,
   "id": "eb947fa5-2a91-4d7d-af84-0204c871b291",
   "metadata": {},
   "outputs": [],
   "source": [
    "boosting_test_results %>% \n",
    "   collect_predictions() %>% \n",
    "   ggplot(aes(x = Item_Outlet_Sales, y = .pred)) + \n",
    "   geom_abline(color = \"gray50\", lty = 2) + \n",
    "   geom_point(alpha = 0.5) + \n",
    "   coord_obs_pred() + \n",
    "   labs(x = \"observed\", y = \"predicted\")"
   ]
  },
  {
   "cell_type": "code",
   "execution_count": null,
   "id": "675d86a3-297c-4593-b20d-fcd61aa798d6",
   "metadata": {},
   "outputs": [],
   "source": []
  },
  {
   "cell_type": "code",
   "execution_count": null,
   "id": "83646568-5b37-44b6-8405-3b7a5f40e521",
   "metadata": {},
   "outputs": [],
   "source": []
  },
  {
   "cell_type": "code",
   "execution_count": null,
   "id": "742c3a7c-ff8f-4e11-8bdd-408bdd108d6c",
   "metadata": {},
   "outputs": [],
   "source": []
  },
  {
   "cell_type": "code",
   "execution_count": null,
   "id": "5aa6d3b6-9e84-4703-8f35-ffb681754439",
   "metadata": {},
   "outputs": [],
   "source": []
  },
  {
   "cell_type": "code",
   "execution_count": null,
   "id": "fa9bb951-e7a3-42a9-8ab4-c224a518e357",
   "metadata": {},
   "outputs": [],
   "source": []
  },
  {
   "cell_type": "code",
   "execution_count": null,
   "id": "b4536bea-caa8-452b-af85-f62d3056fdd4",
   "metadata": {},
   "outputs": [],
   "source": []
  },
  {
   "cell_type": "code",
   "execution_count": null,
   "id": "8c796fdc-611a-4b31-bd04-f89cace85e10",
   "metadata": {},
   "outputs": [],
   "source": []
  },
  {
   "cell_type": "code",
   "execution_count": null,
   "id": "5322995f-88fe-4cae-b36a-7ecafcaf6cc7",
   "metadata": {},
   "outputs": [],
   "source": []
  },
  {
   "cell_type": "code",
   "execution_count": null,
   "id": "da212e02-754e-4fe2-8ae7-8c0d223e160f",
   "metadata": {},
   "outputs": [],
   "source": []
  },
  {
   "cell_type": "markdown",
   "id": "d9c84f2e-6e99-4e20-9397-7a0d7038e350",
   "metadata": {},
   "source": [
    "## Building the Product"
   ]
  },
  {
   "cell_type": "markdown",
   "id": "ce0797cd-d838-424e-bce1-c7477a6dd457",
   "metadata": {},
   "source": [
    "### What will the final product be?"
   ]
  },
  {
   "cell_type": "markdown",
   "id": "9f0d68d3-8391-48e8-a113-b09a56315eb4",
   "metadata": {},
   "source": [
    "The product will be a **report** that details the **influence** of *item characteristics* and *store profile* on item_sales.\n",
    "\n",
    "In addition, the product will contain a *user-friendly application* that will provide business teams the ability to **predict/forecast** the sales of an item based on the item characteristics and store profile."
   ]
  },
  {
   "cell_type": "markdown",
   "id": "8cadc167-fa7e-4198-8d38-d2b6030f090c",
   "metadata": {},
   "source": [
    "### Which Statistical Methods will be used and purpose of each?"
   ]
  },
  {
   "cell_type": "markdown",
   "id": "bac9b5b1-a3f7-4dd6-b398-a76b4ea0ffdc",
   "metadata": {},
   "source": [
    "I will be using the following statistical methods:\n",
    "\n",
    "- **Descriptive Statistics**: This will reveal the properties of the given data.\n",
    "- **Univariate and Bivariate analysis**: This will enable me to understand the distribution of the data and the relationship between the predictors and the response variable (item_sales_outlet).\n",
    "- **Correlation Analysis**: This gives a level of association between all variables.\n",
    "- **Modelling**: Here, I will build predictive models that best fit the data and evaluate each model using the **adjusted R-squared** metric."
   ]
  },
  {
   "cell_type": "markdown",
   "id": "bf073021-a53d-4164-8425-fafa3d1fe472",
   "metadata": {},
   "source": [
    "### Which software?\n",
    "\n",
    "For this analysis, I will be using R."
   ]
  },
  {
   "cell_type": "markdown",
   "id": "05ab2d4e-6d94-4b11-9872-3b23cdfd6453",
   "metadata": {},
   "source": [
    "### Will these be adequate?\n",
    "\n",
    "This analysis will be adequate to achieve the obectives of this analysis i.e.\n",
    "\n",
    "1. Produce a report to guide strategic decision making.\n",
    "2. Produce a user friendly application that forecasting tool to guide **tactical** and **operational** decisions "
   ]
  },
  {
   "cell_type": "markdown",
   "id": "cf0f0c9b-69c8-4443-b209-6ca225647448",
   "metadata": {},
   "source": [
    "### How will the analysis be validated?\n",
    "\n",
    "The analysis will be validated in two ways:\n",
    "\n",
    "1. We will document domain knowledge within the organization i.e. interview various tores to understand their beliefs of how **item characteristics** and **store profile** affects sales. After this we will test whether our model validates or contradicts their beliefs.\n",
    "2. We will request for new data to evaluate/validate our model and check whether our model test performance (measured by RMSE/MAE or Adjusted-R-squared), is atleast better than our training performance (from our analysis). "
   ]
  },
  {
   "cell_type": "markdown",
   "id": "5e50aec8-38c3-4cd1-8a40-e2db1c0a1932",
   "metadata": {},
   "source": [
    "#### Does the product need to be tested?\n",
    "\n",
    "The product will need to be tested to ensure high performance. "
   ]
  },
  {
   "cell_type": "markdown",
   "id": "5066051d-2f0b-4b42-af7e-55fcf1d81104",
   "metadata": {},
   "source": [
    "## Delivering the Product\n",
    "\n",
    "\n",
    "### Who is the audience?\n",
    "\n",
    "The audience of this report are in 2 broad folds:\n",
    "1. **Upper level management**: A comprehensive report detailing the influences/factors that affect item_outlet_sales will be submitted to this audience. This report will significantly guide strategic decision-making.\n",
    "2. **Supply Chain and Sales teams**: A prediction/forecasting tool (or application) will be delivered to this audience to enable planning and sales forecast."
   ]
  },
  {
   "cell_type": "markdown",
   "id": "aff5645d-0190-4252-a9e1-d3fbe6a6a781",
   "metadata": {},
   "source": [
    "### How will the product be delivered?\n",
    "\n",
    "The product will be produced via the ff approach:\n",
    "\n",
    "1. **Exploring the data**: This will tie understanding the business to how the data reflects the business. This will include missing data analysis, correlation analysis, scatterplots and other approaches to understand the data.\n",
    "2. **Plan the analysis**: Based on the results of the data exploration, I will plan how to deal with missing data, will predictors need to be transformed and prepare the data to be modeled.\n",
    "3. **Modelling and Evaluation**: Build the predctive models and evaluate the performance of these models.\n",
    "4. **Deployment**: Producing the report and building the application."
   ]
  },
  {
   "cell_type": "markdown",
   "id": "2f95d752-69ae-4396-aa94-892d5078f365",
   "metadata": {},
   "source": [
    "### How will the product be used?\n",
    "\n",
    "The product will be used in the following ways:\n",
    "\n",
    "1. **Report**: This will be used to enable strategic decision-making. For instance, this will inform decisions on what outlet locations and types influence item sales.\n",
    "2. **Application**: This tool will be used by mid-level staff for tactical and operational decision making. For example to forecast sales for a given product in a given store."
   ]
  },
  {
   "cell_type": "markdown",
   "id": "093a757a-5db6-4a14-a753-927b8662a1b8",
   "metadata": {},
   "source": [
    "### How much detail to include?\n",
    "\n",
    "1. **Report**: This should be high-level information and not include so much detail on modelling approaches and others.\n",
    "2. **Application**: This should contain enough detail for the application to be used to predict/forecast sales."
   ]
  },
  {
   "cell_type": "code",
   "execution_count": null,
   "id": "0f744d8b-452c-48b2-9fa5-00122e6f358f",
   "metadata": {},
   "outputs": [],
   "source": []
  },
  {
   "cell_type": "code",
   "execution_count": null,
   "id": "9cd37389-4afc-4927-9f3c-3b568b089076",
   "metadata": {},
   "outputs": [],
   "source": []
  }
 ],
 "metadata": {
  "kernelspec": {
   "display_name": "R",
   "language": "R",
   "name": "ir"
  },
  "language_info": {
   "codemirror_mode": "r",
   "file_extension": ".r",
   "mimetype": "text/x-r-source",
   "name": "R",
   "pygments_lexer": "r",
   "version": "4.3.1"
  }
 },
 "nbformat": 4,
 "nbformat_minor": 5
}

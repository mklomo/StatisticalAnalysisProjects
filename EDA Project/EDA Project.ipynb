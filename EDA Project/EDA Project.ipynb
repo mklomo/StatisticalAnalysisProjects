{
 "cells": [
  {
   "cell_type": "markdown",
   "id": "77e50edf-a8b7-44bc-85d5-ebd31be0613e",
   "metadata": {},
   "source": [
    "# BigMart Project: Data Exploration and Planning Questions"
   ]
  },
  {
   "cell_type": "markdown",
   "id": "b582df4c-14b6-4f2d-b263-10673b48a1a1",
   "metadata": {},
   "source": [
    "## Carry out and present the results of your previously planned data exploration."
   ]
  },
  {
   "cell_type": "code",
   "execution_count": 184,
   "id": "7466c431-c288-4fdb-8b93-3d9afda57f93",
   "metadata": {},
   "outputs": [],
   "source": [
    "library(tidyverse)\n",
    "library(skimr)\n",
    "library(RColorBrewer)"
   ]
  },
  {
   "cell_type": "code",
   "execution_count": 185,
   "id": "92f12a3f-b1a5-4cb3-800e-3929e084956a",
   "metadata": {},
   "outputs": [
    {
     "name": "stderr",
     "output_type": "stream",
     "text": [
      "\u001b[1mRows: \u001b[22m\u001b[34m8523\u001b[39m \u001b[1mColumns: \u001b[22m\u001b[34m12\u001b[39m\n",
      "\u001b[36m──\u001b[39m \u001b[1mColumn specification\u001b[22m \u001b[36m────────────────────────────────────────────────────────────────────────────────────────────────────────────────────────────────────────────────────────────\u001b[39m\n",
      "\u001b[1mDelimiter:\u001b[22m \",\"\n",
      "\u001b[31mchr\u001b[39m (7): Item_Identifier, Item_Fat_Content, Item_Type, Outlet_Identifier, Ou...\n",
      "\u001b[32mdbl\u001b[39m (5): Item_Weight, Item_Visibility, Item_MRP, Outlet_Establishment_Year, ...\n",
      "\n",
      "\u001b[36mℹ\u001b[39m Use `spec()` to retrieve the full column specification for this data.\n",
      "\u001b[36mℹ\u001b[39m Specify the column types or set `show_col_types = FALSE` to quiet this message.\n"
     ]
    },
    {
     "data": {
      "text/html": [
       "<table class=\"dataframe\">\n",
       "<caption>A tibble: 6 × 12</caption>\n",
       "<thead>\n",
       "\t<tr><th scope=col>Item_Identifier</th><th scope=col>Item_Weight</th><th scope=col>Item_Fat_Content</th><th scope=col>Item_Visibility</th><th scope=col>Item_Type</th><th scope=col>Item_MRP</th><th scope=col>Outlet_Identifier</th><th scope=col>Outlet_Establishment_Year</th><th scope=col>Outlet_Size</th><th scope=col>Outlet_Location_Type</th><th scope=col>Outlet_Type</th><th scope=col>Item_Outlet_Sales</th></tr>\n",
       "\t<tr><th scope=col>&lt;chr&gt;</th><th scope=col>&lt;dbl&gt;</th><th scope=col>&lt;chr&gt;</th><th scope=col>&lt;dbl&gt;</th><th scope=col>&lt;chr&gt;</th><th scope=col>&lt;dbl&gt;</th><th scope=col>&lt;chr&gt;</th><th scope=col>&lt;dbl&gt;</th><th scope=col>&lt;chr&gt;</th><th scope=col>&lt;chr&gt;</th><th scope=col>&lt;chr&gt;</th><th scope=col>&lt;dbl&gt;</th></tr>\n",
       "</thead>\n",
       "<tbody>\n",
       "\t<tr><td>FDA15</td><td> 9.300</td><td>Low Fat</td><td>0.01604730</td><td>Dairy                </td><td>249.8092</td><td>OUT049</td><td>1999</td><td>Medium</td><td>Tier 1</td><td>Supermarket Type1</td><td>3735.1380</td></tr>\n",
       "\t<tr><td>DRC01</td><td> 5.920</td><td>Regular</td><td>0.01927822</td><td>Soft Drinks          </td><td> 48.2692</td><td>OUT018</td><td>2009</td><td>Medium</td><td>Tier 3</td><td>Supermarket Type2</td><td> 443.4228</td></tr>\n",
       "\t<tr><td>FDN15</td><td>17.500</td><td>Low Fat</td><td>0.01676007</td><td>Meat                 </td><td>141.6180</td><td>OUT049</td><td>1999</td><td>Medium</td><td>Tier 1</td><td>Supermarket Type1</td><td>2097.2700</td></tr>\n",
       "\t<tr><td>FDX07</td><td>19.200</td><td>Regular</td><td>0.00000000</td><td>Fruits and Vegetables</td><td>182.0950</td><td>OUT010</td><td>1998</td><td>NA    </td><td>Tier 3</td><td>Grocery Store    </td><td> 732.3800</td></tr>\n",
       "\t<tr><td>NCD19</td><td> 8.930</td><td>Low Fat</td><td>0.00000000</td><td>Household            </td><td> 53.8614</td><td>OUT013</td><td>1987</td><td>High  </td><td>Tier 3</td><td>Supermarket Type1</td><td> 994.7052</td></tr>\n",
       "\t<tr><td>FDP36</td><td>10.395</td><td>Regular</td><td>0.00000000</td><td>Baking Goods         </td><td> 51.4008</td><td>OUT018</td><td>2009</td><td>Medium</td><td>Tier 3</td><td>Supermarket Type2</td><td> 556.6088</td></tr>\n",
       "</tbody>\n",
       "</table>\n"
      ],
      "text/latex": [
       "A tibble: 6 × 12\n",
       "\\begin{tabular}{llllllllllll}\n",
       " Item\\_Identifier & Item\\_Weight & Item\\_Fat\\_Content & Item\\_Visibility & Item\\_Type & Item\\_MRP & Outlet\\_Identifier & Outlet\\_Establishment\\_Year & Outlet\\_Size & Outlet\\_Location\\_Type & Outlet\\_Type & Item\\_Outlet\\_Sales\\\\\n",
       " <chr> & <dbl> & <chr> & <dbl> & <chr> & <dbl> & <chr> & <dbl> & <chr> & <chr> & <chr> & <dbl>\\\\\n",
       "\\hline\n",
       "\t FDA15 &  9.300 & Low Fat & 0.01604730 & Dairy                 & 249.8092 & OUT049 & 1999 & Medium & Tier 1 & Supermarket Type1 & 3735.1380\\\\\n",
       "\t DRC01 &  5.920 & Regular & 0.01927822 & Soft Drinks           &  48.2692 & OUT018 & 2009 & Medium & Tier 3 & Supermarket Type2 &  443.4228\\\\\n",
       "\t FDN15 & 17.500 & Low Fat & 0.01676007 & Meat                  & 141.6180 & OUT049 & 1999 & Medium & Tier 1 & Supermarket Type1 & 2097.2700\\\\\n",
       "\t FDX07 & 19.200 & Regular & 0.00000000 & Fruits and Vegetables & 182.0950 & OUT010 & 1998 & NA     & Tier 3 & Grocery Store     &  732.3800\\\\\n",
       "\t NCD19 &  8.930 & Low Fat & 0.00000000 & Household             &  53.8614 & OUT013 & 1987 & High   & Tier 3 & Supermarket Type1 &  994.7052\\\\\n",
       "\t FDP36 & 10.395 & Regular & 0.00000000 & Baking Goods          &  51.4008 & OUT018 & 2009 & Medium & Tier 3 & Supermarket Type2 &  556.6088\\\\\n",
       "\\end{tabular}\n"
      ],
      "text/markdown": [
       "\n",
       "A tibble: 6 × 12\n",
       "\n",
       "| Item_Identifier &lt;chr&gt; | Item_Weight &lt;dbl&gt; | Item_Fat_Content &lt;chr&gt; | Item_Visibility &lt;dbl&gt; | Item_Type &lt;chr&gt; | Item_MRP &lt;dbl&gt; | Outlet_Identifier &lt;chr&gt; | Outlet_Establishment_Year &lt;dbl&gt; | Outlet_Size &lt;chr&gt; | Outlet_Location_Type &lt;chr&gt; | Outlet_Type &lt;chr&gt; | Item_Outlet_Sales &lt;dbl&gt; |\n",
       "|---|---|---|---|---|---|---|---|---|---|---|---|\n",
       "| FDA15 |  9.300 | Low Fat | 0.01604730 | Dairy                 | 249.8092 | OUT049 | 1999 | Medium | Tier 1 | Supermarket Type1 | 3735.1380 |\n",
       "| DRC01 |  5.920 | Regular | 0.01927822 | Soft Drinks           |  48.2692 | OUT018 | 2009 | Medium | Tier 3 | Supermarket Type2 |  443.4228 |\n",
       "| FDN15 | 17.500 | Low Fat | 0.01676007 | Meat                  | 141.6180 | OUT049 | 1999 | Medium | Tier 1 | Supermarket Type1 | 2097.2700 |\n",
       "| FDX07 | 19.200 | Regular | 0.00000000 | Fruits and Vegetables | 182.0950 | OUT010 | 1998 | NA     | Tier 3 | Grocery Store     |  732.3800 |\n",
       "| NCD19 |  8.930 | Low Fat | 0.00000000 | Household             |  53.8614 | OUT013 | 1987 | High   | Tier 3 | Supermarket Type1 |  994.7052 |\n",
       "| FDP36 | 10.395 | Regular | 0.00000000 | Baking Goods          |  51.4008 | OUT018 | 2009 | Medium | Tier 3 | Supermarket Type2 |  556.6088 |\n",
       "\n"
      ],
      "text/plain": [
       "  Item_Identifier Item_Weight Item_Fat_Content Item_Visibility\n",
       "1 FDA15            9.300      Low Fat          0.01604730     \n",
       "2 DRC01            5.920      Regular          0.01927822     \n",
       "3 FDN15           17.500      Low Fat          0.01676007     \n",
       "4 FDX07           19.200      Regular          0.00000000     \n",
       "5 NCD19            8.930      Low Fat          0.00000000     \n",
       "6 FDP36           10.395      Regular          0.00000000     \n",
       "  Item_Type             Item_MRP Outlet_Identifier Outlet_Establishment_Year\n",
       "1 Dairy                 249.8092 OUT049            1999                     \n",
       "2 Soft Drinks            48.2692 OUT018            2009                     \n",
       "3 Meat                  141.6180 OUT049            1999                     \n",
       "4 Fruits and Vegetables 182.0950 OUT010            1998                     \n",
       "5 Household              53.8614 OUT013            1987                     \n",
       "6 Baking Goods           51.4008 OUT018            2009                     \n",
       "  Outlet_Size Outlet_Location_Type Outlet_Type       Item_Outlet_Sales\n",
       "1 Medium      Tier 1               Supermarket Type1 3735.1380        \n",
       "2 Medium      Tier 3               Supermarket Type2  443.4228        \n",
       "3 Medium      Tier 1               Supermarket Type1 2097.2700        \n",
       "4 NA          Tier 3               Grocery Store      732.3800        \n",
       "5 High        Tier 3               Supermarket Type1  994.7052        \n",
       "6 Medium      Tier 3               Supermarket Type2  556.6088        "
      ]
     },
     "metadata": {},
     "output_type": "display_data"
    }
   ],
   "source": [
    "# Loading the data\n",
    "df_url = \"data/BigMart data.csv\"\n",
    "\n",
    "\n",
    "df = read_csv(df_url)\n",
    "\n",
    "\n",
    "# Preview the data\n",
    "head(df)"
   ]
  },
  {
   "cell_type": "markdown",
   "id": "68f477d9-4bad-4910-ba7e-3d09b61f1ae5",
   "metadata": {},
   "source": [
    "#### Step 1: Checking for duplicates"
   ]
  },
  {
   "cell_type": "code",
   "execution_count": 186,
   "id": "209b0a8b-6c62-485c-b46f-b7568f2f3cca",
   "metadata": {},
   "outputs": [
    {
     "name": "stdout",
     "output_type": "stream",
     "text": [
      "Rows: 8,523\n",
      "Columns: 12\n",
      "$ Item_Identifier           \u001b[3m\u001b[90m<chr>\u001b[39m\u001b[23m \"FDA15\", \"DRC01\", \"FDN15\", \"FDX07\", \"NCD19\",…\n",
      "$ Item_Weight               \u001b[3m\u001b[90m<dbl>\u001b[39m\u001b[23m 9.300, 5.920, 17.500, 19.200, 8.930, 10.395,…\n",
      "$ Item_Fat_Content          \u001b[3m\u001b[90m<chr>\u001b[39m\u001b[23m \"Low Fat\", \"Regular\", \"Low Fat\", \"Regular\", …\n",
      "$ Item_Visibility           \u001b[3m\u001b[90m<dbl>\u001b[39m\u001b[23m 0.016047301, 0.019278216, 0.016760075, 0.000…\n",
      "$ Item_Type                 \u001b[3m\u001b[90m<chr>\u001b[39m\u001b[23m \"Dairy\", \"Soft Drinks\", \"Meat\", \"Fruits and …\n",
      "$ Item_MRP                  \u001b[3m\u001b[90m<dbl>\u001b[39m\u001b[23m 249.8092, 48.2692, 141.6180, 182.0950, 53.86…\n",
      "$ Outlet_Identifier         \u001b[3m\u001b[90m<chr>\u001b[39m\u001b[23m \"OUT049\", \"OUT018\", \"OUT049\", \"OUT010\", \"OUT…\n",
      "$ Outlet_Establishment_Year \u001b[3m\u001b[90m<dbl>\u001b[39m\u001b[23m 1999, 2009, 1999, 1998, 1987, 2009, 1987, 19…\n",
      "$ Outlet_Size               \u001b[3m\u001b[90m<chr>\u001b[39m\u001b[23m \"Medium\", \"Medium\", \"Medium\", NA, \"High\", \"M…\n",
      "$ Outlet_Location_Type      \u001b[3m\u001b[90m<chr>\u001b[39m\u001b[23m \"Tier 1\", \"Tier 3\", \"Tier 1\", \"Tier 3\", \"Tie…\n",
      "$ Outlet_Type               \u001b[3m\u001b[90m<chr>\u001b[39m\u001b[23m \"Supermarket Type1\", \"Supermarket Type2\", \"S…\n",
      "$ Item_Outlet_Sales         \u001b[3m\u001b[90m<dbl>\u001b[39m\u001b[23m 3735.1380, 443.4228, 2097.2700, 732.3800, 99…\n"
     ]
    }
   ],
   "source": [
    "# Previewing the unique records in the dataset\n",
    "glimpse(distinct(df))"
   ]
  },
  {
   "cell_type": "markdown",
   "id": "9c261583-1946-4a71-b4d0-af93240c822d",
   "metadata": {},
   "source": [
    "> From the above there are no duplicate records in the dataset. The dataset contains 8523 unique records."
   ]
  },
  {
   "cell_type": "markdown",
   "id": "55fcfed4-5f39-413c-9660-f6f4e6a9a290",
   "metadata": {},
   "source": [
    "### Checking for Missing Values"
   ]
  },
  {
   "cell_type": "code",
   "execution_count": 187,
   "id": "1f0f532b-81cc-4a21-a821-c52226b5949d",
   "metadata": {},
   "outputs": [
    {
     "data": {
      "text/html": [
       "<style>\n",
       ".dl-inline {width: auto; margin:0; padding: 0}\n",
       ".dl-inline>dt, .dl-inline>dd {float: none; width: auto; display: inline-block}\n",
       ".dl-inline>dt::after {content: \":\\0020\"; padding-right: .5ex}\n",
       ".dl-inline>dt:not(:first-of-type) {padding-left: .5ex}\n",
       "</style><dl class=dl-inline><dt>Item_Identifier</dt><dd>0</dd><dt>Item_Weight</dt><dd>1463</dd><dt>Item_Fat_Content</dt><dd>0</dd><dt>Item_Visibility</dt><dd>0</dd><dt>Item_Type</dt><dd>0</dd><dt>Item_MRP</dt><dd>0</dd><dt>Outlet_Identifier</dt><dd>0</dd><dt>Outlet_Establishment_Year</dt><dd>0</dd><dt>Outlet_Size</dt><dd>2410</dd><dt>Outlet_Location_Type</dt><dd>0</dd><dt>Outlet_Type</dt><dd>0</dd><dt>Item_Outlet_Sales</dt><dd>0</dd></dl>\n"
      ],
      "text/latex": [
       "\\begin{description*}\n",
       "\\item[Item\\textbackslash{}\\_Identifier] 0\n",
       "\\item[Item\\textbackslash{}\\_Weight] 1463\n",
       "\\item[Item\\textbackslash{}\\_Fat\\textbackslash{}\\_Content] 0\n",
       "\\item[Item\\textbackslash{}\\_Visibility] 0\n",
       "\\item[Item\\textbackslash{}\\_Type] 0\n",
       "\\item[Item\\textbackslash{}\\_MRP] 0\n",
       "\\item[Outlet\\textbackslash{}\\_Identifier] 0\n",
       "\\item[Outlet\\textbackslash{}\\_Establishment\\textbackslash{}\\_Year] 0\n",
       "\\item[Outlet\\textbackslash{}\\_Size] 2410\n",
       "\\item[Outlet\\textbackslash{}\\_Location\\textbackslash{}\\_Type] 0\n",
       "\\item[Outlet\\textbackslash{}\\_Type] 0\n",
       "\\item[Item\\textbackslash{}\\_Outlet\\textbackslash{}\\_Sales] 0\n",
       "\\end{description*}\n"
      ],
      "text/markdown": [
       "Item_Identifier\n",
       ":   0Item_Weight\n",
       ":   1463Item_Fat_Content\n",
       ":   0Item_Visibility\n",
       ":   0Item_Type\n",
       ":   0Item_MRP\n",
       ":   0Outlet_Identifier\n",
       ":   0Outlet_Establishment_Year\n",
       ":   0Outlet_Size\n",
       ":   2410Outlet_Location_Type\n",
       ":   0Outlet_Type\n",
       ":   0Item_Outlet_Sales\n",
       ":   0\n",
       "\n"
      ],
      "text/plain": [
       "          Item_Identifier               Item_Weight          Item_Fat_Content \n",
       "                        0                      1463                         0 \n",
       "          Item_Visibility                 Item_Type                  Item_MRP \n",
       "                        0                         0                         0 \n",
       "        Outlet_Identifier Outlet_Establishment_Year               Outlet_Size \n",
       "                        0                         0                      2410 \n",
       "     Outlet_Location_Type               Outlet_Type         Item_Outlet_Sales \n",
       "                        0                         0                         0 "
      ]
     },
     "metadata": {},
     "output_type": "display_data"
    }
   ],
   "source": [
    "# How many records are missing?\n",
    "colSums(is.na(df))"
   ]
  },
  {
   "cell_type": "markdown",
   "id": "9b09a2e9-b06b-4bdb-b398-359d54b7a95b",
   "metadata": {},
   "source": [
    "> From the above there are **1463** values missing from the **Item_Weight** field and **2410** values missing from the **Outlet_Size** field"
   ]
  },
  {
   "cell_type": "markdown",
   "id": "9a2d7555-2630-4ce2-946f-44686e978f83",
   "metadata": {},
   "source": [
    "### Univariate Analysis of Columns"
   ]
  },
  {
   "cell_type": "markdown",
   "id": "01d2b9e9-f4c1-4d60-bdff-fec8c2a14fd5",
   "metadata": {},
   "source": [
    "> The dataset consists of **5** numeric variables and **7** categorical variables."
   ]
  },
  {
   "cell_type": "code",
   "execution_count": 188,
   "id": "d54c8859-e018-4daa-8d09-c4b2cb4bf775",
   "metadata": {},
   "outputs": [
    {
     "data": {
      "text/html": [
       "<table class=\"dataframe\">\n",
       "<caption>A tibble: 1 × 9</caption>\n",
       "<thead>\n",
       "\t<tr><th scope=col>avg</th><th scope=col>std_dev</th><th scope=col>median</th><th scope=col>qtile_25</th><th scope=col>qtile_75</th><th scope=col>iqr</th><th scope=col>min</th><th scope=col>max</th><th scope=col>non_missing_rows</th></tr>\n",
       "\t<tr><th scope=col>&lt;dbl&gt;</th><th scope=col>&lt;dbl&gt;</th><th scope=col>&lt;dbl&gt;</th><th scope=col>&lt;dbl&gt;</th><th scope=col>&lt;dbl&gt;</th><th scope=col>&lt;dbl&gt;</th><th scope=col>&lt;dbl&gt;</th><th scope=col>&lt;dbl&gt;</th><th scope=col>&lt;int&gt;</th></tr>\n",
       "</thead>\n",
       "<tbody>\n",
       "\t<tr><td>12.85765</td><td>4.643456</td><td>12.6</td><td>8.77375</td><td>16.85</td><td>8.07625</td><td>4.555</td><td>21.35</td><td>7060</td></tr>\n",
       "</tbody>\n",
       "</table>\n"
      ],
      "text/latex": [
       "A tibble: 1 × 9\n",
       "\\begin{tabular}{lllllllll}\n",
       " avg & std\\_dev & median & qtile\\_25 & qtile\\_75 & iqr & min & max & non\\_missing\\_rows\\\\\n",
       " <dbl> & <dbl> & <dbl> & <dbl> & <dbl> & <dbl> & <dbl> & <dbl> & <int>\\\\\n",
       "\\hline\n",
       "\t 12.85765 & 4.643456 & 12.6 & 8.77375 & 16.85 & 8.07625 & 4.555 & 21.35 & 7060\\\\\n",
       "\\end{tabular}\n"
      ],
      "text/markdown": [
       "\n",
       "A tibble: 1 × 9\n",
       "\n",
       "| avg &lt;dbl&gt; | std_dev &lt;dbl&gt; | median &lt;dbl&gt; | qtile_25 &lt;dbl&gt; | qtile_75 &lt;dbl&gt; | iqr &lt;dbl&gt; | min &lt;dbl&gt; | max &lt;dbl&gt; | non_missing_rows &lt;int&gt; |\n",
       "|---|---|---|---|---|---|---|---|---|\n",
       "| 12.85765 | 4.643456 | 12.6 | 8.77375 | 16.85 | 8.07625 | 4.555 | 21.35 | 7060 |\n",
       "\n"
      ],
      "text/plain": [
       "  avg      std_dev  median qtile_25 qtile_75 iqr     min   max  \n",
       "1 12.85765 4.643456 12.6   8.77375  16.85    8.07625 4.555 21.35\n",
       "  non_missing_rows\n",
       "1 7060            "
      ]
     },
     "metadata": {},
     "output_type": "display_data"
    }
   ],
   "source": [
    "# Previewing Item Weight\n",
    "df |>\n",
    "    # Select the Item_Weight Col\n",
    "    select(Item_Weight) |>\n",
    "    summarise(avg=mean(Item_Weight, na.rm = TRUE), \n",
    "              std_dev=sd(Item_Weight, na.rm=TRUE), \n",
    "              median=median(Item_Weight, na.rm=TRUE),\n",
    "              qtile_25 = quantile(Item_Weight, probs=0.25, na.rm=TRUE),\n",
    "              qtile_75 = quantile(Item_Weight, probs=0.75, na.rm=TRUE),\n",
    "              iqr = IQR(Item_Weight, na.rm=TRUE),\n",
    "              min = min(Item_Weight, na.rm=TRUE),\n",
    "              max = max(Item_Weight, na.rm=TRUE),\n",
    "              non_missing_rows = NROW(Item_Weight[!is.na(Item_Weight)])\n",
    "             )"
   ]
  },
  {
   "cell_type": "code",
   "execution_count": 189,
   "id": "6e3d6e4c-9fce-4639-b31d-0491c83a3962",
   "metadata": {},
   "outputs": [
    {
     "name": "stderr",
     "output_type": "stream",
     "text": [
      "Warning message:\n",
      "\"\u001b[1m\u001b[22mRemoved 1463 rows containing non-finite values (`stat_bin()`).\"\n"
     ]
    },
    {
     "data": {
      "image/png": "[encoded data removed]",
      "text/plain": [
       "plot without title"
      ]
     },
     "metadata": {
      "image/png": {
       "height": 420,
       "width": 420
      }
     },
     "output_type": "display_data"
    }
   ],
   "source": [
    "# Previewing Item Weight\n",
    "df |>\n",
    "    # Select the Item_Weight Col\n",
    "    select(Item_Weight) |>\n",
    "ggplot( \n",
    "    aes(x = Item_Weight)) +\n",
    "geom_histogram(bins = 35) +\n",
    "geom_vline(xintercept=mean(df$Item_Weight, na.rm = TRUE))"
   ]
  },
  {
   "cell_type": "markdown",
   "id": "0cf8742f-6212-4570-8a12-57595f584a59",
   "metadata": {},
   "source": [
    "> This histogram shows a fairly uniformly distributed Item-Weight."
   ]
  },
  {
   "cell_type": "code",
   "execution_count": 190,
   "id": "1a773569-20a8-4f28-a6de-f38299357ca7",
   "metadata": {},
   "outputs": [
    {
     "data": {
      "text/html": [
       "<table class=\"dataframe\">\n",
       "<caption>A tibble: 1 × 9</caption>\n",
       "<thead>\n",
       "\t<tr><th scope=col>avg</th><th scope=col>std_dev</th><th scope=col>median</th><th scope=col>qtile_25</th><th scope=col>qtile_75</th><th scope=col>iqr</th><th scope=col>min</th><th scope=col>max</th><th scope=col>non_missing_rows</th></tr>\n",
       "\t<tr><th scope=col>&lt;dbl&gt;</th><th scope=col>&lt;dbl&gt;</th><th scope=col>&lt;dbl&gt;</th><th scope=col>&lt;dbl&gt;</th><th scope=col>&lt;dbl&gt;</th><th scope=col>&lt;dbl&gt;</th><th scope=col>&lt;dbl&gt;</th><th scope=col>&lt;dbl&gt;</th><th scope=col>&lt;int&gt;</th></tr>\n",
       "</thead>\n",
       "<tbody>\n",
       "\t<tr><td>0.06613203</td><td>0.05159782</td><td>0.05393093</td><td>0.02698948</td><td>0.09458529</td><td>0.06759582</td><td>0</td><td>0.3283909</td><td>8523</td></tr>\n",
       "</tbody>\n",
       "</table>\n"
      ],
      "text/latex": [
       "A tibble: 1 × 9\n",
       "\\begin{tabular}{lllllllll}\n",
       " avg & std\\_dev & median & qtile\\_25 & qtile\\_75 & iqr & min & max & non\\_missing\\_rows\\\\\n",
       " <dbl> & <dbl> & <dbl> & <dbl> & <dbl> & <dbl> & <dbl> & <dbl> & <int>\\\\\n",
       "\\hline\n",
       "\t 0.06613203 & 0.05159782 & 0.05393093 & 0.02698948 & 0.09458529 & 0.06759582 & 0 & 0.3283909 & 8523\\\\\n",
       "\\end{tabular}\n"
      ],
      "text/markdown": [
       "\n",
       "A tibble: 1 × 9\n",
       "\n",
       "| avg &lt;dbl&gt; | std_dev &lt;dbl&gt; | median &lt;dbl&gt; | qtile_25 &lt;dbl&gt; | qtile_75 &lt;dbl&gt; | iqr &lt;dbl&gt; | min &lt;dbl&gt; | max &lt;dbl&gt; | non_missing_rows &lt;int&gt; |\n",
       "|---|---|---|---|---|---|---|---|---|\n",
       "| 0.06613203 | 0.05159782 | 0.05393093 | 0.02698948 | 0.09458529 | 0.06759582 | 0 | 0.3283909 | 8523 |\n",
       "\n"
      ],
      "text/plain": [
       "  avg        std_dev    median     qtile_25   qtile_75   iqr        min\n",
       "1 0.06613203 0.05159782 0.05393093 0.02698948 0.09458529 0.06759582 0  \n",
       "  max       non_missing_rows\n",
       "1 0.3283909 8523            "
      ]
     },
     "metadata": {},
     "output_type": "display_data"
    }
   ],
   "source": [
    "# Previewing Item_Visibility\n",
    "df |>\n",
    "    # Select the Item_Weight Col\n",
    "    select(Item_Visibility) |>\n",
    "    summarise(avg=mean(Item_Visibility, na.rm = TRUE), \n",
    "              std_dev=sd(Item_Visibility, na.rm=TRUE), \n",
    "              median=median(Item_Visibility, na.rm=TRUE),\n",
    "              qtile_25 = quantile(Item_Visibility, probs=0.25, na.rm=TRUE),\n",
    "              qtile_75 = quantile(Item_Visibility, probs=0.75, na.rm=TRUE),\n",
    "              iqr = IQR(Item_Visibility, na.rm=TRUE),\n",
    "              min = min(Item_Visibility, na.rm=TRUE),\n",
    "              max = max(Item_Visibility, na.rm=TRUE),\n",
    "              non_missing_rows = NROW(Item_Visibility[!is.na(Item_Visibility)])\n",
    "             )"
   ]
  },
  {
   "cell_type": "code",
   "execution_count": 191,
   "id": "a0bd3ae6-7346-4785-bd03-6610645d2bb7",
   "metadata": {},
   "outputs": [
    {
     "data": {
      "image/png": "[encoded data removed]",
      "text/plain": [
       "plot without title"
      ]
     },
     "metadata": {
      "image/png": {
       "height": 420,
       "width": 420
      }
     },
     "output_type": "display_data"
    }
   ],
   "source": [
    "# Previewing Item_Visibility\n",
    "df |>\n",
    "    # Select the Item_Visibility Col\n",
    "    select(Item_Visibility) |>\n",
    "ggplot( \n",
    "    aes(x = Item_Visibility)) +\n",
    "geom_histogram(bins = 35) +\n",
    "geom_vline(xintercept=mean(df$Item_Visibility, na.rm = TRUE))"
   ]
  },
  {
   "cell_type": "markdown",
   "id": "afc00534-f500-446b-a34d-cf3fc8606951",
   "metadata": {},
   "source": [
    "> The histogram shows a positively skewed distribution where most records are between 0.0 and 0.2."
   ]
  },
  {
   "cell_type": "code",
   "execution_count": 192,
   "id": "ae790f43-df9a-4916-a0f8-68585bd50fb8",
   "metadata": {},
   "outputs": [
    {
     "data": {
      "text/html": [
       "<table class=\"dataframe\">\n",
       "<caption>A tibble: 1 × 9</caption>\n",
       "<thead>\n",
       "\t<tr><th scope=col>avg</th><th scope=col>std_dev</th><th scope=col>median</th><th scope=col>qtile_25</th><th scope=col>qtile_75</th><th scope=col>iqr</th><th scope=col>min</th><th scope=col>max</th><th scope=col>non_missing_rows</th></tr>\n",
       "\t<tr><th scope=col>&lt;dbl&gt;</th><th scope=col>&lt;dbl&gt;</th><th scope=col>&lt;dbl&gt;</th><th scope=col>&lt;dbl&gt;</th><th scope=col>&lt;dbl&gt;</th><th scope=col>&lt;dbl&gt;</th><th scope=col>&lt;dbl&gt;</th><th scope=col>&lt;dbl&gt;</th><th scope=col>&lt;int&gt;</th></tr>\n",
       "</thead>\n",
       "<tbody>\n",
       "\t<tr><td>140.9928</td><td>62.27507</td><td>143.0128</td><td>93.8265</td><td>185.6437</td><td>91.8172</td><td>31.29</td><td>266.8884</td><td>8523</td></tr>\n",
       "</tbody>\n",
       "</table>\n"
      ],
      "text/latex": [
       "A tibble: 1 × 9\n",
       "\\begin{tabular}{lllllllll}\n",
       " avg & std\\_dev & median & qtile\\_25 & qtile\\_75 & iqr & min & max & non\\_missing\\_rows\\\\\n",
       " <dbl> & <dbl> & <dbl> & <dbl> & <dbl> & <dbl> & <dbl> & <dbl> & <int>\\\\\n",
       "\\hline\n",
       "\t 140.9928 & 62.27507 & 143.0128 & 93.8265 & 185.6437 & 91.8172 & 31.29 & 266.8884 & 8523\\\\\n",
       "\\end{tabular}\n"
      ],
      "text/markdown": [
       "\n",
       "A tibble: 1 × 9\n",
       "\n",
       "| avg &lt;dbl&gt; | std_dev &lt;dbl&gt; | median &lt;dbl&gt; | qtile_25 &lt;dbl&gt; | qtile_75 &lt;dbl&gt; | iqr &lt;dbl&gt; | min &lt;dbl&gt; | max &lt;dbl&gt; | non_missing_rows &lt;int&gt; |\n",
       "|---|---|---|---|---|---|---|---|---|\n",
       "| 140.9928 | 62.27507 | 143.0128 | 93.8265 | 185.6437 | 91.8172 | 31.29 | 266.8884 | 8523 |\n",
       "\n"
      ],
      "text/plain": [
       "  avg      std_dev  median   qtile_25 qtile_75 iqr     min   max     \n",
       "1 140.9928 62.27507 143.0128 93.8265  185.6437 91.8172 31.29 266.8884\n",
       "  non_missing_rows\n",
       "1 8523            "
      ]
     },
     "metadata": {},
     "output_type": "display_data"
    }
   ],
   "source": [
    "# Previewing Item_MRP\n",
    "df |>\n",
    "    # Select the Item_Weight Col\n",
    "    select(Item_MRP) |>\n",
    "    summarise(avg=mean(Item_MRP, na.rm = TRUE), \n",
    "              std_dev=sd(Item_MRP, na.rm=TRUE), \n",
    "              median=median(Item_MRP, na.rm=TRUE),\n",
    "              qtile_25 = quantile(Item_MRP, probs=0.25, na.rm=TRUE),\n",
    "              qtile_75 = quantile(Item_MRP, probs=0.75, na.rm=TRUE),              \n",
    "              iqr = IQR(Item_MRP, na.rm=TRUE),\n",
    "              min = min(Item_MRP, na.rm=TRUE),\n",
    "              max = max(Item_MRP, na.rm=TRUE),\n",
    "              non_missing_rows = NROW(Item_MRP[!is.na(Item_MRP)])\n",
    "             )"
   ]
  },
  {
   "cell_type": "code",
   "execution_count": 193,
   "id": "1151069d-fabf-43dc-b849-686627a6dc8a",
   "metadata": {},
   "outputs": [
    {
     "data": {
      "image/png": "[encoded data removed]",
      "text/plain": [
       "plot without title"
      ]
     },
     "metadata": {
      "image/png": {
       "height": 420,
       "width": 420
      }
     },
     "output_type": "display_data"
    }
   ],
   "source": [
    "# Previewing Item_MRP\n",
    "df |>\n",
    "    # Select the Item_MRP Col\n",
    "    select(Item_MRP) |>\n",
    "ggplot( \n",
    "    aes(x = Item_MRP)) +\n",
    "geom_histogram(bins = 35) +\n",
    "geom_vline(xintercept=mean(df$Item_MRP, na.rm = TRUE))"
   ]
  },
  {
   "cell_type": "markdown",
   "id": "7236dfc6-d1cc-4bb8-9e72-d2ed2aeede0c",
   "metadata": {},
   "source": [
    "> Above distribution is bi-modal with most MRP occuring arround 100 and 175. "
   ]
  },
  {
   "cell_type": "code",
   "execution_count": 194,
   "id": "f58c84c9-a864-446a-98d3-105feeb22e22",
   "metadata": {},
   "outputs": [
    {
     "data": {
      "text/html": [
       "<table class=\"dataframe\">\n",
       "<caption>A tibble: 1 × 9</caption>\n",
       "<thead>\n",
       "\t<tr><th scope=col>avg</th><th scope=col>std_dev</th><th scope=col>median</th><th scope=col>qtile_25</th><th scope=col>qtile_75</th><th scope=col>iqr</th><th scope=col>min</th><th scope=col>max</th><th scope=col>non_missing_rows</th></tr>\n",
       "\t<tr><th scope=col>&lt;dbl&gt;</th><th scope=col>&lt;dbl&gt;</th><th scope=col>&lt;dbl&gt;</th><th scope=col>&lt;dbl&gt;</th><th scope=col>&lt;dbl&gt;</th><th scope=col>&lt;dbl&gt;</th><th scope=col>&lt;dbl&gt;</th><th scope=col>&lt;dbl&gt;</th><th scope=col>&lt;int&gt;</th></tr>\n",
       "</thead>\n",
       "<tbody>\n",
       "\t<tr><td>2181.289</td><td>1706.5</td><td>1794.331</td><td>834.2474</td><td>3101.296</td><td>2267.049</td><td>33.29</td><td>13086.96</td><td>8523</td></tr>\n",
       "</tbody>\n",
       "</table>\n"
      ],
      "text/latex": [
       "A tibble: 1 × 9\n",
       "\\begin{tabular}{lllllllll}\n",
       " avg & std\\_dev & median & qtile\\_25 & qtile\\_75 & iqr & min & max & non\\_missing\\_rows\\\\\n",
       " <dbl> & <dbl> & <dbl> & <dbl> & <dbl> & <dbl> & <dbl> & <dbl> & <int>\\\\\n",
       "\\hline\n",
       "\t 2181.289 & 1706.5 & 1794.331 & 834.2474 & 3101.296 & 2267.049 & 33.29 & 13086.96 & 8523\\\\\n",
       "\\end{tabular}\n"
      ],
      "text/markdown": [
       "\n",
       "A tibble: 1 × 9\n",
       "\n",
       "| avg &lt;dbl&gt; | std_dev &lt;dbl&gt; | median &lt;dbl&gt; | qtile_25 &lt;dbl&gt; | qtile_75 &lt;dbl&gt; | iqr &lt;dbl&gt; | min &lt;dbl&gt; | max &lt;dbl&gt; | non_missing_rows &lt;int&gt; |\n",
       "|---|---|---|---|---|---|---|---|---|\n",
       "| 2181.289 | 1706.5 | 1794.331 | 834.2474 | 3101.296 | 2267.049 | 33.29 | 13086.96 | 8523 |\n",
       "\n"
      ],
      "text/plain": [
       "  avg      std_dev median   qtile_25 qtile_75 iqr      min   max     \n",
       "1 2181.289 1706.5  1794.331 834.2474 3101.296 2267.049 33.29 13086.96\n",
       "  non_missing_rows\n",
       "1 8523            "
      ]
     },
     "metadata": {},
     "output_type": "display_data"
    }
   ],
   "source": [
    "# Previewing Item_Outlet_Sales\n",
    "df |>\n",
    "    # Select the Item_Weight Col\n",
    "    select(Item_Outlet_Sales) |>\n",
    "    summarise(avg=mean(Item_Outlet_Sales, na.rm = TRUE), \n",
    "              std_dev=sd(Item_Outlet_Sales, na.rm=TRUE), \n",
    "              median=median(Item_Outlet_Sales, na.rm=TRUE),\n",
    "              qtile_25 = quantile(Item_Outlet_Sales, probs=0.25, na.rm=TRUE),\n",
    "              qtile_75 = quantile(Item_Outlet_Sales, probs=0.75, na.rm=TRUE),\n",
    "              iqr = IQR(Item_Outlet_Sales, na.rm=TRUE),\n",
    "              min = min(Item_Outlet_Sales, na.rm=TRUE),\n",
    "              max = max(Item_Outlet_Sales, na.rm=TRUE),\n",
    "              non_missing_rows = NROW(Item_Outlet_Sales[!is.na(Item_Outlet_Sales)])\n",
    "             )"
   ]
  },
  {
   "cell_type": "code",
   "execution_count": 195,
   "id": "59f3bd15-cc8e-433c-b587-daf7b629cc1c",
   "metadata": {},
   "outputs": [
    {
     "data": {
      "image/png": "[encoded data removed]",
      "text/plain": [
       "plot without title"
      ]
     },
     "metadata": {
      "image/png": {
       "height": 420,
       "width": 420
      }
     },
     "output_type": "display_data"
    }
   ],
   "source": [
    "# Previewing Item_Outlet_Sales\n",
    "df |>\n",
    "    # Select the Item_Outlet_Sales Col\n",
    "    select(Item_Outlet_Sales) |>\n",
    "ggplot( \n",
    "    aes(x = Item_Outlet_Sales)) +\n",
    "geom_histogram(bins = 35) +\n",
    "geom_vline(xintercept=mean(df$Item_Outlet_Sales, na.rm = TRUE))"
   ]
  },
  {
   "cell_type": "markdown",
   "id": "46d5969a-4e9c-44c9-83ee-975464e3ccea",
   "metadata": {},
   "source": [
    "> The above histogram shows that majority of the values lie between 0-7500."
   ]
  },
  {
   "cell_type": "code",
   "execution_count": 196,
   "id": "f3e4377f-0a2b-4197-9b71-3a2bf06a8166",
   "metadata": {},
   "outputs": [
    {
     "data": {
      "image/png": "[encoded data removed]",
      "text/plain": [
       "plot without title"
      ]
     },
     "metadata": {
      "image/png": {
       "height": 420,
       "width": 420
      }
     },
     "output_type": "display_data"
    }
   ],
   "source": [
    "# Analyzing the Outlet_Establishment_Year\n",
    "df |>\n",
    "    select(Outlet_Establishment_Year) |>\n",
    "    summarise(.by=Outlet_Establishment_Year, count=n()) |>\n",
    "ggplot(\n",
    "    aes(x=reorder(Outlet_Establishment_Year, -Outlet_Establishment_Year), y=count, fill=Outlet_Establishment_Year)\n",
    ") +\n",
    "geom_col() + \n",
    "coord_flip()"
   ]
  },
  {
   "cell_type": "markdown",
   "id": "2174447a-d04c-4edf-a80c-8f5b62086a8b",
   "metadata": {},
   "source": [
    "> The chart above shows that most outlets were established in 1985. Less outlets were established in 1998 but since then a study number of outlets has been established till 2009."
   ]
  },
  {
   "cell_type": "markdown",
   "id": "b97b4acc-c59b-4196-b406-38b332ba24b1",
   "metadata": {},
   "source": [
    "### Analyzing the Categorical Variables"
   ]
  },
  {
   "cell_type": "code",
   "execution_count": 197,
   "id": "0dda744e-e194-4e7e-8202-9cff8a20ef92",
   "metadata": {},
   "outputs": [
    {
     "data": {
      "image/png": "[encoded data removed]",
      "text/plain": [
       "plot without title"
      ]
     },
     "metadata": {
      "image/png": {
       "height": 420,
       "width": 420
      }
     },
     "output_type": "display_data"
    }
   ],
   "source": [
    "# Analyzing the Item_Identifier\n",
    "df |>\n",
    "    select(Item_Identifier) |>\n",
    "    summarise(.by=Item_Identifier, count=n()) |>\n",
    "    # Select the top 10\n",
    "    slice_max(count, n=10) |>\n",
    "ggplot(\n",
    "    aes(x=reorder(Item_Identifier, count), y=count)\n",
    ") +\n",
    "geom_col() + \n",
    "coord_flip()"
   ]
  },
  {
   "cell_type": "markdown",
   "id": "42ec9ab2-bb27-4a03-a34b-f5c2bdccf509",
   "metadata": {},
   "source": [
    "> From the above, there aren't enough records for each group to use this filed in my predictive model. This is because each subgroup has at most 10 records. Some prediction algorithms run into errors when a subgroup has a low number of observations. I will test this is my predictive model and provide feedback."
   ]
  },
  {
   "cell_type": "code",
   "execution_count": 117,
   "id": "d799f430-0295-4458-9a76-893a2a1f9ac3",
   "metadata": {},
   "outputs": [
    {
     "data": {
      "text/html": [
       "<table class=\"dataframe\">\n",
       "<caption>A tibble: 5 × 2</caption>\n",
       "<thead>\n",
       "\t<tr><th scope=col>Item_Fat_Content</th><th scope=col>count</th></tr>\n",
       "\t<tr><th scope=col>&lt;chr&gt;</th><th scope=col>&lt;int&gt;</th></tr>\n",
       "</thead>\n",
       "<tbody>\n",
       "\t<tr><td>Low Fat</td><td>5089</td></tr>\n",
       "\t<tr><td>Regular</td><td>2889</td></tr>\n",
       "\t<tr><td>low fat</td><td> 112</td></tr>\n",
       "\t<tr><td>LF     </td><td> 316</td></tr>\n",
       "\t<tr><td>reg    </td><td> 117</td></tr>\n",
       "</tbody>\n",
       "</table>\n"
      ],
      "text/latex": [
       "A tibble: 5 × 2\n",
       "\\begin{tabular}{ll}\n",
       " Item\\_Fat\\_Content & count\\\\\n",
       " <chr> & <int>\\\\\n",
       "\\hline\n",
       "\t Low Fat & 5089\\\\\n",
       "\t Regular & 2889\\\\\n",
       "\t low fat &  112\\\\\n",
       "\t LF      &  316\\\\\n",
       "\t reg     &  117\\\\\n",
       "\\end{tabular}\n"
      ],
      "text/markdown": [
       "\n",
       "A tibble: 5 × 2\n",
       "\n",
       "| Item_Fat_Content &lt;chr&gt; | count &lt;int&gt; |\n",
       "|---|---|\n",
       "| Low Fat | 5089 |\n",
       "| Regular | 2889 |\n",
       "| low fat |  112 |\n",
       "| LF      |  316 |\n",
       "| reg     |  117 |\n",
       "\n"
      ],
      "text/plain": [
       "  Item_Fat_Content count\n",
       "1 Low Fat          5089 \n",
       "2 Regular          2889 \n",
       "3 low fat           112 \n",
       "4 LF                316 \n",
       "5 reg               117 "
      ]
     },
     "metadata": {},
     "output_type": "display_data"
    }
   ],
   "source": [
    "# Analyzing the Item_Fat_Content\n",
    "df |>\n",
    "    select(Item_Fat_Content) |>\n",
    "    summarise(.by=Item_Fat_Content, count=n()) #|>"
   ]
  },
  {
   "cell_type": "markdown",
   "id": "0ed293d1-cf06-40f1-8435-67402f66c1f6",
   "metadata": {},
   "source": [
    "> From the above, the **Low Fat** records are represented differently, and this has to be cleaned. **Low Fat** is represented as **low fat** and **LF**. And also, replace **reg** with **Regular**"
   ]
  },
  {
   "cell_type": "code",
   "execution_count": 198,
   "id": "06e0f684-27fd-4ef8-9638-7b917b153e17",
   "metadata": {},
   "outputs": [
    {
     "data": {
      "text/html": [
       "<table class=\"dataframe\">\n",
       "<caption>A tibble: 2 × 2</caption>\n",
       "<thead>\n",
       "\t<tr><th scope=col>Item_Fat_Content</th><th scope=col>count</th></tr>\n",
       "\t<tr><th scope=col>&lt;chr&gt;</th><th scope=col>&lt;int&gt;</th></tr>\n",
       "</thead>\n",
       "<tbody>\n",
       "\t<tr><td>Low Fat</td><td>5517</td></tr>\n",
       "\t<tr><td>Regular</td><td>3006</td></tr>\n",
       "</tbody>\n",
       "</table>\n"
      ],
      "text/latex": [
       "A tibble: 2 × 2\n",
       "\\begin{tabular}{ll}\n",
       " Item\\_Fat\\_Content & count\\\\\n",
       " <chr> & <int>\\\\\n",
       "\\hline\n",
       "\t Low Fat & 5517\\\\\n",
       "\t Regular & 3006\\\\\n",
       "\\end{tabular}\n"
      ],
      "text/markdown": [
       "\n",
       "A tibble: 2 × 2\n",
       "\n",
       "| Item_Fat_Content &lt;chr&gt; | count &lt;int&gt; |\n",
       "|---|---|\n",
       "| Low Fat | 5517 |\n",
       "| Regular | 3006 |\n",
       "\n"
      ],
      "text/plain": [
       "  Item_Fat_Content count\n",
       "1 Low Fat          5517 \n",
       "2 Regular          3006 "
      ]
     },
     "metadata": {},
     "output_type": "display_data"
    }
   ],
   "source": [
    "# Fixing the Item_Fat_Content\n",
    "df <- df |>\n",
    "    # Fix the Item_Fat_Content Col\n",
    "    mutate(Item_Fat_Content = case_when(\n",
    "                                      # low fat\n",
    "                                      Item_Fat_Content == \"low fat\" ~ \"Low Fat\",\n",
    "                                      # LF\n",
    "                                      Item_Fat_Content == \"LF\" ~ \"Low Fat\",\n",
    "                                      # reg\n",
    "                                      Item_Fat_Content == \"reg\"  ~ \"Regular\",\n",
    "                                      # Else\n",
    "                                      TRUE ~ Item_Fat_Content\n",
    "    ))\n",
    "\n",
    "df |>\n",
    "    select(Item_Fat_Content) |>\n",
    "    summarise(.by=Item_Fat_Content, count=n())"
   ]
  },
  {
   "cell_type": "markdown",
   "id": "2ca48cc1-93b6-4476-af50-2b104b31094d",
   "metadata": {},
   "source": [
    "> With the new errors fixed, now we have 5517 records for Low Fat and 3006 records for Regular."
   ]
  },
  {
   "cell_type": "code",
   "execution_count": 218,
   "id": "7a507d95-b7cd-4133-8ba2-d7c70aa37cce",
   "metadata": {},
   "outputs": [
    {
     "data": {
      "image/png": "[encoded data removed]",
      "text/plain": [
       "plot without title"
      ]
     },
     "metadata": {
      "image/png": {
       "height": 420,
       "width": 420
      }
     },
     "output_type": "display_data"
    }
   ],
   "source": [
    "# Analyzing the Item_Type\n",
    "df |>\n",
    "    select(Item_Type) |>\n",
    "    summarise(.by=Item_Type, count=n()) |>\n",
    "ggplot(\n",
    "    aes(x=reorder(Item_Type, count), y=count, fill=Item_Type)\n",
    ") +\n",
    "geom_col() + \n",
    "coord_flip() + \n",
    "ylab(\"Count\") +\n",
    "xlab(\"Item_Type\")"
   ]
  },
  {
   "cell_type": "markdown",
   "id": "cbbfe054-1be3-46c5-ad1c-68a396a90c3d",
   "metadata": {},
   "source": [
    "> From the data, most sales happen with the Fruits and Vegetables items."
   ]
  },
  {
   "cell_type": "code",
   "execution_count": 222,
   "id": "190aced7-38eb-4e5e-82db-360dd7964ab1",
   "metadata": {},
   "outputs": [
    {
     "data": {
      "image/png": "[encoded data removed]",
      "text/plain": [
       "plot without title"
      ]
     },
     "metadata": {
      "image/png": {
       "height": 420,
       "width": 420
      }
     },
     "output_type": "display_data"
    }
   ],
   "source": [
    "# Analyzing the Outlet_Identifier\n",
    "df |>\n",
    "    select(Outlet_Identifier) |>\n",
    "    summarise(.by=Outlet_Identifier, count=n()) |>\n",
    "ggplot(\n",
    "    aes(x=reorder(Outlet_Identifier, count), y=count, fill=Outlet_Identifier)\n",
    ") +\n",
    "geom_col() + \n",
    "coord_flip() + \n",
    "xlab(\"Outlet_Identifier\") +\n",
    "ylab(\"Count\")"
   ]
  },
  {
   "cell_type": "code",
   "execution_count": 223,
   "id": "2346c445-2e76-4441-85c4-a5c44126a580",
   "metadata": {},
   "outputs": [
    {
     "data": {
      "image/png": "[encoded data removed]",
      "text/plain": [
       "plot without title"
      ]
     },
     "metadata": {
      "image/png": {
       "height": 420,
       "width": 420
      }
     },
     "output_type": "display_data"
    }
   ],
   "source": [
    "# Analyzing the Outlet_Size\n",
    "df |>\n",
    "    select(Outlet_Size) |>\n",
    "    summarise(.by=Outlet_Size, count=n()) |>\n",
    "ggplot(\n",
    "    aes(x=reorder(Outlet_Size, count), y=count, fill=Outlet_Size)\n",
    ") +\n",
    "geom_col() + \n",
    "coord_flip() + \n",
    "xlab(\"Outlet_Size\") +\n",
    "ylab(\"Count\")"
   ]
  },
  {
   "cell_type": "markdown",
   "id": "d08bdb83-efa8-4f09-a175-5b6c207c34ae",
   "metadata": {},
   "source": [
    "> From the above, most outlets are medium in size. I will have to check if the missing values here are missing completely at random or are missing at random."
   ]
  },
  {
   "cell_type": "code",
   "execution_count": 202,
   "id": "0ece5cd9-f8f3-4d7a-b493-1ec49a7d93ee",
   "metadata": {},
   "outputs": [
    {
     "data": {
      "image/png": "[encoded data removed]",
      "text/plain": [
       "plot without title"
      ]
     },
     "metadata": {
      "image/png": {
       "height": 420,
       "width": 420
      }
     },
     "output_type": "display_data"
    }
   ],
   "source": [
    "# Analyzing the Outlet_Location_Type\n",
    "df |>\n",
    "    select(Outlet_Location_Type) |>\n",
    "    summarise(.by=Outlet_Location_Type, count=n()) |>\n",
    "ggplot(\n",
    "    aes(x=reorder(Outlet_Location_Type, count), y=count, fill=Outlet_Location_Type)\n",
    ") +\n",
    "geom_col() + \n",
    "coord_flip()"
   ]
  },
  {
   "cell_type": "markdown",
   "id": "bfa69acc-6722-4344-bb62-50c60d6f4168",
   "metadata": {},
   "source": [
    "> The location type is dominated by Tier 3."
   ]
  },
  {
   "cell_type": "code",
   "execution_count": 224,
   "id": "546733b1-4f41-4756-803c-2eba72d4c920",
   "metadata": {},
   "outputs": [
    {
     "data": {
      "image/png": "[encoded data removed]",
      "text/plain": [
       "plot without title"
      ]
     },
     "metadata": {
      "image/png": {
       "height": 420,
       "width": 420
      }
     },
     "output_type": "display_data"
    }
   ],
   "source": [
    "# Analyzing the Outlet_Type\n",
    "df |>\n",
    "    select(Outlet_Type) |>\n",
    "    summarise(.by=Outlet_Type, count=n()) |>\n",
    "ggplot(\n",
    "    aes(x=reorder(Outlet_Type, count), y=count, fill=Outlet_Type)\n",
    ") +\n",
    "geom_col() + \n",
    "coord_flip()  + \n",
    "xlab(\"Outlet_Type\") +\n",
    "ylab(\"Count\")"
   ]
  },
  {
   "cell_type": "markdown",
   "id": "0048916f-b1c6-4c8b-ac82-5ab37b8b1e94",
   "metadata": {},
   "source": [
    "> In this dataset, outlet type is dominated by supermarkets Type 1."
   ]
  },
  {
   "cell_type": "markdown",
   "id": "76edce0d-2c51-40ad-a315-62eaef84f86c",
   "metadata": {},
   "source": [
    "### Bivariate Analysis"
   ]
  },
  {
   "cell_type": "code",
   "execution_count": 225,
   "id": "4ca9d3fc-3993-4989-b781-ec06aa096dbd",
   "metadata": {},
   "outputs": [],
   "source": [
    "library(GGally)"
   ]
  },
  {
   "cell_type": "code",
   "execution_count": 226,
   "id": "8965f66f-c48c-42bb-a0e9-20082f91e65f",
   "metadata": {},
   "outputs": [
    {
     "name": "stderr",
     "output_type": "stream",
     "text": [
      "Warning message in ggally_statistic(data = data, mapping = mapping, na.rm = na.rm, :\n",
      "\"Removed 1463 rows containing missing values\"\n",
      "Warning message in ggally_statistic(data = data, mapping = mapping, na.rm = na.rm, :\n",
      "\"Removed 1463 rows containing missing values\"\n",
      "Warning message:\n",
      "\"\u001b[1m\u001b[22mRemoved 1463 rows containing missing values (`geom_point()`).\"\n",
      "Warning message:\n",
      "\"\u001b[1m\u001b[22mRemoved 1463 rows containing missing values (`geom_point()`).\"\n",
      "Warning message:\n",
      "\"\u001b[1m\u001b[22mRemoved 1463 rows containing non-finite values (`stat_density()`).\"\n",
      "Warning message in ggally_statistic(data = data, mapping = mapping, na.rm = na.rm, :\n",
      "\"Removed 1463 rows containing missing values\"\n",
      "Warning message:\n",
      "\"\u001b[1m\u001b[22mRemoved 1463 rows containing missing values (`geom_point()`).\"\n"
     ]
    },
    {
     "data": {
      "image/png": "[encoded data removed]",
      "text/plain": [
       "plot without title"
      ]
     },
     "metadata": {
      "image/png": {
       "height": 420,
       "width": 420
      }
     },
     "output_type": "display_data"
    }
   ],
   "source": [
    "ggpairs(\n",
    "    df[, c(\"Item_Outlet_Sales\", \"Item_Visibility\", \"Item_Weight\", \"Item_MRP\")],\n",
    ")"
   ]
  },
  {
   "cell_type": "markdown",
   "id": "a6f1f99d-ad8d-4c1e-ae59-8a092e622bf5",
   "metadata": {},
   "source": [
    "> No clear linear relationships exists b/n **Item Outlet sales** and **Item_Visibility**, **Item_Weight**. A clearly linear relationship exists between **Item_Sales_Outlet** and **Item_MRP**."
   ]
  },
  {
   "cell_type": "code",
   "execution_count": 233,
   "id": "d8bd268e-8373-440c-83ff-1c79be5e2b10",
   "metadata": {},
   "outputs": [
    {
     "data": {
      "image/png": "[encoded data removed]",
      "text/plain": [
       "plot without title"
      ]
     },
     "metadata": {
      "image/png": {
       "height": 420,
       "width": 420
      }
     },
     "output_type": "display_data"
    }
   ],
   "source": [
    "# Determining the relationship b/n Item_Outlet_Sales and Item_Fat_Content\n",
    "\n",
    "df |>\n",
    "ggplot(\n",
    "    aes(y=Item_Outlet_Sales, x=reorder(Item_Fat_Content, Item_Outlet_Sales))\n",
    ") +\n",
    "geom_boxplot()  + \n",
    "xlab(\"Item_Fat_Content\") +\n",
    "ylab(\"Item_Outlet_Sales\")"
   ]
  },
  {
   "cell_type": "markdown",
   "id": "1b4ecd44-0a9a-4e8f-93e3-e4779cc7990f",
   "metadata": {},
   "source": [
    "> From the above it looks like the regular item fat content leads to more sales"
   ]
  },
  {
   "cell_type": "code",
   "execution_count": 235,
   "id": "a29cc74e-fc34-46f2-a328-861672bb53fc",
   "metadata": {},
   "outputs": [
    {
     "data": {
      "image/png": "[encoded data removed]",
      "text/plain": [
       "plot without title"
      ]
     },
     "metadata": {
      "image/png": {
       "height": 420,
       "width": 420
      }
     },
     "output_type": "display_data"
    }
   ],
   "source": [
    "# Determining the relationship b/n Item_Outlet_Sales and Outlet_Identifier\n",
    "\n",
    "df |>\n",
    "ggplot(\n",
    "    aes(y=Item_Outlet_Sales, x= reorder(Outlet_Identifier, Item_Outlet_Sales))\n",
    ") +\n",
    "geom_boxplot() + \n",
    "xlab(\"Outlet_Identifier\") +\n",
    "ylab(\"Item_Outlet_Sales\")"
   ]
  },
  {
   "cell_type": "code",
   "execution_count": 236,
   "id": "8c4ebdbe-2220-4a83-af36-a0c188d41430",
   "metadata": {},
   "outputs": [
    {
     "data": {
      "image/png": "[encoded data removed]",
      "text/plain": [
       "plot without title"
      ]
     },
     "metadata": {
      "image/png": {
       "height": 420,
       "width": 420
      }
     },
     "output_type": "display_data"
    }
   ],
   "source": [
    "# Determining the relationship b/n Item_Outlet_Sales and Outlet_Size\n",
    "\n",
    "df |>\n",
    "ggplot(\n",
    "    aes(y=Item_Outlet_Sales, x= reorder(Outlet_Size, Item_Outlet_Sales))\n",
    ") +\n",
    "geom_boxplot() + \n",
    "xlab(\"Outlet_Size\") +\n",
    "ylab(\"Item_Outlet_Sales\")"
   ]
  },
  {
   "cell_type": "code",
   "execution_count": 230,
   "id": "3542a330-53e8-48a3-8cc0-e841ee045169",
   "metadata": {},
   "outputs": [
    {
     "data": {
      "image/png": "[encoded data removed]",
      "text/plain": [
       "plot without title"
      ]
     },
     "metadata": {
      "image/png": {
       "height": 420,
       "width": 420
      }
     },
     "output_type": "display_data"
    }
   ],
   "source": [
    "# Determining the relationship b/n Item_Outlet_Sales and Outlet_Location_Type\n",
    "\n",
    "df |>\n",
    "ggplot(\n",
    "    aes(y=Item_Outlet_Sales, x=Outlet_Location_Type)\n",
    ") +\n",
    "geom_boxplot()"
   ]
  },
  {
   "cell_type": "code",
   "execution_count": 231,
   "id": "04e92724-a38a-4d06-b877-e341e7c12fdd",
   "metadata": {},
   "outputs": [
    {
     "data": {
      "image/png": "[encoded data removed]",
      "text/plain": [
       "plot without title"
      ]
     },
     "metadata": {
      "image/png": {
       "height": 420,
       "width": 420
      }
     },
     "output_type": "display_data"
    }
   ],
   "source": [
    "# Determining the relationship b/n Item_Outlet_Sales and Outlet_Type\n",
    "\n",
    "df |>\n",
    "ggplot(\n",
    "    aes(y=Item_Outlet_Sales, x=Outlet_Type)\n",
    ") +\n",
    "geom_boxplot()"
   ]
  },
  {
   "cell_type": "code",
   "execution_count": 238,
   "id": "9a0eb766-f997-4cc0-b4df-a66f6e0a97b0",
   "metadata": {},
   "outputs": [
    {
     "data": {
      "image/png": "[encoded data removed]",
      "text/plain": [
       "plot without title"
      ]
     },
     "metadata": {
      "image/png": {
       "height": 420,
       "width": 420
      }
     },
     "output_type": "display_data"
    }
   ],
   "source": [
    "# Determining the relationship b/n Item_Outlet_Sales and Outlet_Establishment_Year\n",
    "\n",
    "df |>\n",
    "ggplot(\n",
    "    aes(y=Item_Outlet_Sales, x= reorder(as.factor(Outlet_Establishment_Year), Item_Outlet_Sales))\n",
    ") +\n",
    "geom_boxplot() +\n",
    "xlab(\"Year of Establishment\")"
   ]
  },
  {
   "cell_type": "markdown",
   "id": "d9c84f2e-6e99-4e20-9397-7a0d7038e350",
   "metadata": {},
   "source": [
    "## Building the Product"
   ]
  },
  {
   "cell_type": "markdown",
   "id": "ce0797cd-d838-424e-bce1-c7477a6dd457",
   "metadata": {},
   "source": [
    "### What will the final product be?"
   ]
  },
  {
   "cell_type": "markdown",
   "id": "9f0d68d3-8391-48e8-a113-b09a56315eb4",
   "metadata": {},
   "source": [
    "The product will be a **report** that details the **influence** of *item characteristics* and *store profile* on item_sales.\n",
    "\n",
    "In addition, the product will contain a *user-friendly application* that will provide business teams the ability to **predict/forecast** the sales of an item based on the item characteristics and store profile."
   ]
  },
  {
   "cell_type": "markdown",
   "id": "8cadc167-fa7e-4198-8d38-d2b6030f090c",
   "metadata": {},
   "source": [
    "### Which Statistical Methods will be used and purpose of each?"
   ]
  },
  {
   "cell_type": "markdown",
   "id": "bac9b5b1-a3f7-4dd6-b398-a76b4ea0ffdc",
   "metadata": {},
   "source": [
    "I will be using the following statistical methods:\n",
    "\n",
    "- **Descriptive Statistics**: This will reveal the properties of the given data.\n",
    "- **Univariate and Bivariate analysis**: This will enable me to understand the distribution of the data and the relationship between the predictors and the response variable (item_sales_outlet).\n",
    "- **Correlation Analysis**: This gives a level of association between all variables.\n",
    "- **Modelling**: Here, I will build predictive models that best fit the data and evaluate each model using the **adjusted R-squared** metric."
   ]
  },
  {
   "cell_type": "markdown",
   "id": "bf073021-a53d-4164-8425-fafa3d1fe472",
   "metadata": {},
   "source": [
    "### Which software?\n",
    "\n",
    "For this analysis, I will be using R."
   ]
  },
  {
   "cell_type": "markdown",
   "id": "05ab2d4e-6d94-4b11-9872-3b23cdfd6453",
   "metadata": {},
   "source": [
    "### Will these be adequate?\n",
    "\n",
    "This analysis will be adequate to achieve the obectives of this analysis i.e.\n",
    "\n",
    "1. Produce a report to guide strategic decision making.\n",
    "2. Produce a user friendly application that forecasting tool to guide **tactical** and **operational** decisions "
   ]
  },
  {
   "cell_type": "markdown",
   "id": "cf0f0c9b-69c8-4443-b209-6ca225647448",
   "metadata": {},
   "source": [
    "### How will the analysis be validated?\n",
    "\n",
    "The analysis will be validated in two ways:\n",
    "\n",
    "1. We will document domain knowledge within the organization i.e. interview various tores to understand their beliefs of how **item characteristics** and **store profile** affects sales. After this we will test whether our model validates or contradicts their beliefs.\n",
    "2. We will request for new data to evaluate/validate our model and check whether our model test performance (measured by RMSE/MAE or Adjusted-R-squared), is atleast better than our training performance (from our analysis). "
   ]
  },
  {
   "cell_type": "markdown",
   "id": "5e50aec8-38c3-4cd1-8a40-e2db1c0a1932",
   "metadata": {},
   "source": [
    "#### Does the product need to be tested?\n",
    "\n",
    "The product will need to be tested to ensure high performance. "
   ]
  },
  {
   "cell_type": "markdown",
   "id": "5066051d-2f0b-4b42-af7e-55fcf1d81104",
   "metadata": {},
   "source": [
    "## Delivering the Product\n",
    "\n",
    "\n",
    "### Who is the audience?\n",
    "\n",
    "The audience of this report are in 2 broad folds:\n",
    "1. **Upper level management**: A comprehensive report detailing the influences/factors that affect item_outlet_sales will be submitted to this audience. This report will significantly guide strategic decision-making.\n",
    "2. **Supply Chain and Sales teams**: A prediction/forecasting tool (or application) will be delivered to this audience to enable planning and sales forecast."
   ]
  },
  {
   "cell_type": "markdown",
   "id": "aff5645d-0190-4252-a9e1-d3fbe6a6a781",
   "metadata": {},
   "source": [
    "### How will the product be delivered?\n",
    "\n",
    "The product will be produced via the ff approach:\n",
    "\n",
    "1. **Exploring the data**: This will tie understanding the business to how the data reflects the business. This will include missing data analysis, correlation analysis, scatterplots and other approaches to understand the data.\n",
    "2. **Plan the analysis**: Based on the results of the data exploration, I will plan how to deal with missing data, will predictors need to be transformed and prepare the data to be modeled.\n",
    "3. **Modelling and Evaluation**: Build the predctive models and evaluate the performance of these models.\n",
    "4. **Deployment**: Producing the report and building the application."
   ]
  },
  {
   "cell_type": "markdown",
   "id": "2f95d752-69ae-4396-aa94-892d5078f365",
   "metadata": {},
   "source": [
    "### How will the product be used?\n",
    "\n",
    "The product will be used in the following ways:\n",
    "\n",
    "1. **Report**: This will be used to enable strategic decision-making. For instance, this will inform decisions on what outlet locations and types influence item sales.\n",
    "2. **Application**: This tool will be used by mid-level staff for tactical and operational decision making. For example to forecast sales for a given product in a given store."
   ]
  },
  {
   "cell_type": "markdown",
   "id": "093a757a-5db6-4a14-a753-927b8662a1b8",
   "metadata": {},
   "source": [
    "### How much detail to include?\n",
    "\n",
    "1. **Report**: This should be high-level information and not include so much detail on modelling approaches and others.\n",
    "2. **Application**: This should contain enough detail for the application to be used to predict/forecast sales."
   ]
  }
 ],
 "metadata": {
  "kernelspec": {
   "display_name": "R",
   "language": "R",
   "name": "ir"
  },
  "language_info": {
   "codemirror_mode": "r",
   "file_extension": ".r",
   "mimetype": "text/x-r-source",
   "name": "R",
   "pygments_lexer": "r",
   "version": "4.3.1"
  }
 },
 "nbformat": 4,
 "nbformat_minor": 5
}
